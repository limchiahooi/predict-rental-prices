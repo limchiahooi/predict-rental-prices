{
 "cells": [
  {
   "cell_type": "markdown",
   "metadata": {},
   "source": [
    "# Predict Rental Prices\n",
    "<br>\n",
    "This repo contains the Predict Rental Prices project as part of my data science portfolio. The rental prices were scrapped from a property website based on properties located in Malaysia. Four different types of algorithms were used to train the models which consist of three machine learning (ML) and one deep learning (DL) algorithm. This project focuses on comparing the performance and results of these four algorithms instead of explaining the theory behind the algorithms as it assumes that readers already familiar with these algorithms. For readers who are in a hurry, feel free to dive straight into section 5. [Discussion and Conclusion](#conclusion)\n",
    "\n",
    "1. [Linear Regression](#lr)\n",
    "2. [Random Forest](#rf)\n",
    "3. [Gradient Boosting Regressor](#gb)\n",
    "4. [Tensorflow with Keras](#tf)\n",
    "5. [Discussion and Conclusion](#conclusion)\n",
    "\n",
    "\n",
    "## Dataset\n",
    "\n",
    "The rental prices were scraped from a property website based on properties located in several states in Malaysia i.e. Kuala Lumpur, Selangor, Putrajaya and Johor. The data has been intentionally messed up and contain duplicates and errors in order to demonstrate the data wrangling / munging steps required to clean the data before using it to train the models. To know how to scrape web data using Python, kindly refer to my other project on [Web Scraping Project](https://github.com/limchiahooi/web-scraping-rental). \n",
    "\n",
    "**Why predict rental prices?** \n",
    "Firstly, it is an extension of my web scraping project. After the data has been scraped, it is a natural progression to explore and model the relationships between the property features and the rental prices. Secondly, many research / tutorials have been focusing on training models to predict property selling prices, but relatively few on predicting property rental prices. This project aims to fill the gap and provide useful insights to property investors to help in their decision-making as to which property to purchase and rent out in order to maximize rental yield."
   ]
  },
  {
   "cell_type": "markdown",
   "metadata": {},
   "source": [
    "***\n",
    "## Import libraries"
   ]
  },
  {
   "cell_type": "code",
   "execution_count": 1,
   "metadata": {},
   "outputs": [],
   "source": [
    "# import libraries\n",
    "%matplotlib inline\n",
    "import numpy as np\n",
    "import pandas as pd\n",
    "import matplotlib.pyplot as plt \n",
    "import seaborn as sns"
   ]
  },
  {
   "cell_type": "markdown",
   "metadata": {},
   "source": [
    "## Load data"
   ]
  },
  {
   "cell_type": "code",
   "execution_count": 2,
   "metadata": {},
   "outputs": [
    {
     "data": {
      "text/html": [
       "<div>\n",
       "<style scoped>\n",
       "    .dataframe tbody tr th:only-of-type {\n",
       "        vertical-align: middle;\n",
       "    }\n",
       "\n",
       "    .dataframe tbody tr th {\n",
       "        vertical-align: top;\n",
       "    }\n",
       "\n",
       "    .dataframe thead th {\n",
       "        text-align: right;\n",
       "    }\n",
       "</style>\n",
       "<table border=\"1\" class=\"dataframe\">\n",
       "  <thead>\n",
       "    <tr style=\"text-align: right;\">\n",
       "      <th></th>\n",
       "      <th>BuiltUpSize</th>\n",
       "      <th>City</th>\n",
       "      <th>CreatedDateTime</th>\n",
       "      <th>CreatedUser</th>\n",
       "      <th>DataSourceID</th>\n",
       "      <th>Furnishing</th>\n",
       "      <th>Latitude</th>\n",
       "      <th>Longitude</th>\n",
       "      <th>NoOfBathroom</th>\n",
       "      <th>NoOfBedroom</th>\n",
       "      <th>...</th>\n",
       "      <th>Postcode</th>\n",
       "      <th>PostedDate</th>\n",
       "      <th>PropertyAddress</th>\n",
       "      <th>PropertyName</th>\n",
       "      <th>PropertyType</th>\n",
       "      <th>RentalPerMth</th>\n",
       "      <th>SourceUrl</th>\n",
       "      <th>State</th>\n",
       "      <th>UpdatedDateTime</th>\n",
       "      <th>UpdatedUser</th>\n",
       "    </tr>\n",
       "    <tr>\n",
       "      <th>ID</th>\n",
       "      <th></th>\n",
       "      <th></th>\n",
       "      <th></th>\n",
       "      <th></th>\n",
       "      <th></th>\n",
       "      <th></th>\n",
       "      <th></th>\n",
       "      <th></th>\n",
       "      <th></th>\n",
       "      <th></th>\n",
       "      <th></th>\n",
       "      <th></th>\n",
       "      <th></th>\n",
       "      <th></th>\n",
       "      <th></th>\n",
       "      <th></th>\n",
       "      <th></th>\n",
       "      <th></th>\n",
       "      <th></th>\n",
       "      <th></th>\n",
       "      <th></th>\n",
       "    </tr>\n",
       "  </thead>\n",
       "  <tbody>\n",
       "    <tr>\n",
       "      <th>1</th>\n",
       "      <td>1000</td>\n",
       "      <td>Bandar Utama</td>\n",
       "      <td>2018-08-04 09:31:52</td>\n",
       "      <td>SYSTEM_TH</td>\n",
       "      <td>4</td>\n",
       "      <td>Fully Furnished</td>\n",
       "      <td>3.14195</td>\n",
       "      <td>101.616</td>\n",
       "      <td>2</td>\n",
       "      <td>3</td>\n",
       "      <td>...</td>\n",
       "      <td>47400</td>\n",
       "      <td>2018-07-30 00:00:00</td>\n",
       "      <td>Jalan Masjid</td>\n",
       "      <td>Pelangi Utama</td>\n",
       "      <td>Condominium</td>\n",
       "      <td>2200</td>\n",
       "      <td>https://www.iproperty.com.my/property/bandar-u...</td>\n",
       "      <td>Selangor</td>\n",
       "      <td>2018-08-04 09:31:52</td>\n",
       "      <td>SYSTEM_TH\\r</td>\n",
       "    </tr>\n",
       "    <tr>\n",
       "      <th>2</th>\n",
       "      <td>1000</td>\n",
       "      <td>Bandar Utama</td>\n",
       "      <td>2018-08-04 09:31:52</td>\n",
       "      <td>SYSTEM_TH</td>\n",
       "      <td>4</td>\n",
       "      <td>Fully Furnished</td>\n",
       "      <td>3.14195</td>\n",
       "      <td>101.616</td>\n",
       "      <td>2</td>\n",
       "      <td>3</td>\n",
       "      <td>...</td>\n",
       "      <td>47400</td>\n",
       "      <td>2018-07-30 00:00:00</td>\n",
       "      <td>Jalan Masjid</td>\n",
       "      <td>Pelangi Utama</td>\n",
       "      <td>Condominium</td>\n",
       "      <td>2200</td>\n",
       "      <td>https://www.iproperty.com.my/property/bandar-u...</td>\n",
       "      <td>Selangor</td>\n",
       "      <td>2018-08-04 09:31:52</td>\n",
       "      <td>SYSTEM_TH\\r</td>\n",
       "    </tr>\n",
       "    <tr>\n",
       "      <th>3</th>\n",
       "      <td>1057</td>\n",
       "      <td>Petaling Jaya</td>\n",
       "      <td>2018-08-04 09:31:52</td>\n",
       "      <td>SYSTEM_TH</td>\n",
       "      <td>4</td>\n",
       "      <td>Fully Furnished</td>\n",
       "      <td>3.12252</td>\n",
       "      <td>101.628</td>\n",
       "      <td>2</td>\n",
       "      <td>3</td>\n",
       "      <td>...</td>\n",
       "      <td>47300</td>\n",
       "      <td>2018-07-30 00:00:00</td>\n",
       "      <td>Jalan SS 2/72</td>\n",
       "      <td>Ken Damansara 3</td>\n",
       "      <td>Condominium</td>\n",
       "      <td>1980</td>\n",
       "      <td>https://www.iproperty.com.my/property/petaling...</td>\n",
       "      <td>Selangor</td>\n",
       "      <td>2018-08-04 09:31:52</td>\n",
       "      <td>SYSTEM_TH\\r</td>\n",
       "    </tr>\n",
       "    <tr>\n",
       "      <th>4</th>\n",
       "      <td>1057</td>\n",
       "      <td>Petaling Jaya</td>\n",
       "      <td>2018-08-04 09:31:52</td>\n",
       "      <td>SYSTEM_TH</td>\n",
       "      <td>4</td>\n",
       "      <td>Fully Furnished</td>\n",
       "      <td>3.12252</td>\n",
       "      <td>101.628</td>\n",
       "      <td>2</td>\n",
       "      <td>3</td>\n",
       "      <td>...</td>\n",
       "      <td>47300</td>\n",
       "      <td>2018-07-30 00:00:00</td>\n",
       "      <td>Jalan SS 2/72</td>\n",
       "      <td>Ken Damansara 3</td>\n",
       "      <td>Condominium</td>\n",
       "      <td>1980</td>\n",
       "      <td>https://www.iproperty.com.my/property/petaling...</td>\n",
       "      <td>Selangor</td>\n",
       "      <td>2018-08-04 09:31:52</td>\n",
       "      <td>SYSTEM_TH\\r</td>\n",
       "    </tr>\n",
       "    <tr>\n",
       "      <th>5</th>\n",
       "      <td>0</td>\n",
       "      <td>Bandar Sunway</td>\n",
       "      <td>2018-08-04 09:31:52</td>\n",
       "      <td>SYSTEM_TH</td>\n",
       "      <td>4</td>\n",
       "      <td>Fully Furnished</td>\n",
       "      <td>3.05930</td>\n",
       "      <td>101.616</td>\n",
       "      <td>2</td>\n",
       "      <td>2</td>\n",
       "      <td>...</td>\n",
       "      <td>47100</td>\n",
       "      <td>2018-07-30 00:00:00</td>\n",
       "      <td>Jalan Taylors</td>\n",
       "      <td>D' Latour</td>\n",
       "      <td>Condominium</td>\n",
       "      <td>2600</td>\n",
       "      <td>https://www.iproperty.com.my/property/bandar-s...</td>\n",
       "      <td>Selangor</td>\n",
       "      <td>2018-08-04 09:31:52</td>\n",
       "      <td>SYSTEM_TH\\r</td>\n",
       "    </tr>\n",
       "  </tbody>\n",
       "</table>\n",
       "<p>5 rows × 21 columns</p>\n",
       "</div>"
      ],
      "text/plain": [
       "    BuiltUpSize           City      CreatedDateTime CreatedUser  DataSourceID  \\\n",
       "ID                                                                              \n",
       "1          1000   Bandar Utama  2018-08-04 09:31:52   SYSTEM_TH             4   \n",
       "2          1000   Bandar Utama  2018-08-04 09:31:52   SYSTEM_TH             4   \n",
       "3          1057  Petaling Jaya  2018-08-04 09:31:52   SYSTEM_TH             4   \n",
       "4          1057  Petaling Jaya  2018-08-04 09:31:52   SYSTEM_TH             4   \n",
       "5             0  Bandar Sunway  2018-08-04 09:31:52   SYSTEM_TH             4   \n",
       "\n",
       "         Furnishing  Latitude  Longitude  NoOfBathroom  NoOfBedroom  \\\n",
       "ID                                                                    \n",
       "1   Fully Furnished   3.14195    101.616             2            3   \n",
       "2   Fully Furnished   3.14195    101.616             2            3   \n",
       "3   Fully Furnished   3.12252    101.628             2            3   \n",
       "4   Fully Furnished   3.12252    101.628             2            3   \n",
       "5   Fully Furnished   3.05930    101.616             2            2   \n",
       "\n",
       "       ...       Postcode           PostedDate PropertyAddress  \\\n",
       "ID     ...                                                       \n",
       "1      ...          47400  2018-07-30 00:00:00    Jalan Masjid   \n",
       "2      ...          47400  2018-07-30 00:00:00    Jalan Masjid   \n",
       "3      ...          47300  2018-07-30 00:00:00   Jalan SS 2/72   \n",
       "4      ...          47300  2018-07-30 00:00:00   Jalan SS 2/72   \n",
       "5      ...          47100  2018-07-30 00:00:00   Jalan Taylors   \n",
       "\n",
       "       PropertyName PropertyType RentalPerMth  \\\n",
       "ID                                              \n",
       "1     Pelangi Utama  Condominium         2200   \n",
       "2     Pelangi Utama  Condominium         2200   \n",
       "3   Ken Damansara 3  Condominium         1980   \n",
       "4   Ken Damansara 3  Condominium         1980   \n",
       "5         D' Latour  Condominium         2600   \n",
       "\n",
       "                                            SourceUrl     State  \\\n",
       "ID                                                                \n",
       "1   https://www.iproperty.com.my/property/bandar-u...  Selangor   \n",
       "2   https://www.iproperty.com.my/property/bandar-u...  Selangor   \n",
       "3   https://www.iproperty.com.my/property/petaling...  Selangor   \n",
       "4   https://www.iproperty.com.my/property/petaling...  Selangor   \n",
       "5   https://www.iproperty.com.my/property/bandar-s...  Selangor   \n",
       "\n",
       "        UpdatedDateTime  UpdatedUser  \n",
       "ID                                    \n",
       "1   2018-08-04 09:31:52  SYSTEM_TH\\r  \n",
       "2   2018-08-04 09:31:52  SYSTEM_TH\\r  \n",
       "3   2018-08-04 09:31:52  SYSTEM_TH\\r  \n",
       "4   2018-08-04 09:31:52  SYSTEM_TH\\r  \n",
       "5   2018-08-04 09:31:52  SYSTEM_TH\\r  \n",
       "\n",
       "[5 rows x 21 columns]"
      ]
     },
     "execution_count": 2,
     "metadata": {},
     "output_type": "execute_result"
    }
   ],
   "source": [
    "# load data into dataframe \n",
    "rental = pd.read_csv(\"RentRaw.csv\", index_col=0, low_memory=False)\n",
    "rental.head()"
   ]
  },
  {
   "cell_type": "code",
   "execution_count": 3,
   "metadata": {},
   "outputs": [
    {
     "name": "stdout",
     "output_type": "stream",
     "text": [
      "<class 'pandas.core.frame.DataFrame'>\n",
      "Int64Index: 54405 entries, 1 to 100736\n",
      "Data columns (total 21 columns):\n",
      "BuiltUpSize        54405 non-null int64\n",
      "City               54391 non-null object\n",
      "CreatedDateTime    54405 non-null object\n",
      "CreatedUser        54405 non-null object\n",
      "DataSourceID       54405 non-null int64\n",
      "Furnishing         54405 non-null object\n",
      "Latitude           54405 non-null float64\n",
      "Longitude          54405 non-null float64\n",
      "NoOfBathroom       54405 non-null int64\n",
      "NoOfBedroom        54405 non-null int64\n",
      "NoOfParking        54405 non-null int64\n",
      "Postcode           54405 non-null object\n",
      "PostedDate         54405 non-null object\n",
      "PropertyAddress    54354 non-null object\n",
      "PropertyName       54405 non-null object\n",
      "PropertyType       54405 non-null object\n",
      "RentalPerMth       54405 non-null int64\n",
      "SourceUrl          54405 non-null object\n",
      "State              54405 non-null object\n",
      "UpdatedDateTime    54405 non-null object\n",
      "UpdatedUser        54405 non-null object\n",
      "dtypes: float64(2), int64(6), object(13)\n",
      "memory usage: 9.1+ MB\n"
     ]
    }
   ],
   "source": [
    "# check the summary info of the dataframe\n",
    "rental.info()"
   ]
  },
  {
   "cell_type": "markdown",
   "metadata": {},
   "source": [
    "## Drop Missing Values"
   ]
  },
  {
   "cell_type": "code",
   "execution_count": 4,
   "metadata": {},
   "outputs": [
    {
     "data": {
      "text/plain": [
       "BuiltUpSize         0\n",
       "City               14\n",
       "CreatedDateTime     0\n",
       "CreatedUser         0\n",
       "DataSourceID        0\n",
       "Furnishing          0\n",
       "Latitude            0\n",
       "Longitude           0\n",
       "NoOfBathroom        0\n",
       "NoOfBedroom         0\n",
       "NoOfParking         0\n",
       "Postcode            0\n",
       "PostedDate          0\n",
       "PropertyAddress    51\n",
       "PropertyName        0\n",
       "PropertyType        0\n",
       "RentalPerMth        0\n",
       "SourceUrl           0\n",
       "State               0\n",
       "UpdatedDateTime     0\n",
       "UpdatedUser         0\n",
       "dtype: int64"
      ]
     },
     "execution_count": 4,
     "metadata": {},
     "output_type": "execute_result"
    }
   ],
   "source": [
    "# check for missing values\n",
    "rental.isnull().sum()"
   ]
  },
  {
   "cell_type": "code",
   "execution_count": 5,
   "metadata": {},
   "outputs": [],
   "source": [
    "# drop missing values\n",
    "rental = rental.dropna()\n",
    "rental = rental.reset_index(drop=True)"
   ]
  },
  {
   "cell_type": "code",
   "execution_count": 6,
   "metadata": {},
   "outputs": [
    {
     "data": {
      "text/plain": [
       "BuiltUpSize        0\n",
       "City               0\n",
       "CreatedDateTime    0\n",
       "CreatedUser        0\n",
       "DataSourceID       0\n",
       "Furnishing         0\n",
       "Latitude           0\n",
       "Longitude          0\n",
       "NoOfBathroom       0\n",
       "NoOfBedroom        0\n",
       "NoOfParking        0\n",
       "Postcode           0\n",
       "PostedDate         0\n",
       "PropertyAddress    0\n",
       "PropertyName       0\n",
       "PropertyType       0\n",
       "RentalPerMth       0\n",
       "SourceUrl          0\n",
       "State              0\n",
       "UpdatedDateTime    0\n",
       "UpdatedUser        0\n",
       "dtype: int64"
      ]
     },
     "execution_count": 6,
     "metadata": {},
     "output_type": "execute_result"
    }
   ],
   "source": [
    "# check for missing values again\n",
    "rental.isnull().sum()"
   ]
  },
  {
   "cell_type": "markdown",
   "metadata": {},
   "source": [
    "## Remove Duplicate Values"
   ]
  },
  {
   "cell_type": "code",
   "execution_count": 7,
   "metadata": {},
   "outputs": [
    {
     "name": "stdout",
     "output_type": "stream",
     "text": [
      "There are 25229 duplicate values.\n"
     ]
    },
    {
     "data": {
      "text/html": [
       "<div>\n",
       "<style scoped>\n",
       "    .dataframe tbody tr th:only-of-type {\n",
       "        vertical-align: middle;\n",
       "    }\n",
       "\n",
       "    .dataframe tbody tr th {\n",
       "        vertical-align: top;\n",
       "    }\n",
       "\n",
       "    .dataframe thead th {\n",
       "        text-align: right;\n",
       "    }\n",
       "</style>\n",
       "<table border=\"1\" class=\"dataframe\">\n",
       "  <thead>\n",
       "    <tr style=\"text-align: right;\">\n",
       "      <th></th>\n",
       "      <th>BuiltUpSize</th>\n",
       "      <th>City</th>\n",
       "      <th>CreatedDateTime</th>\n",
       "      <th>CreatedUser</th>\n",
       "      <th>DataSourceID</th>\n",
       "      <th>Furnishing</th>\n",
       "      <th>Latitude</th>\n",
       "      <th>Longitude</th>\n",
       "      <th>NoOfBathroom</th>\n",
       "      <th>NoOfBedroom</th>\n",
       "      <th>...</th>\n",
       "      <th>Postcode</th>\n",
       "      <th>PostedDate</th>\n",
       "      <th>PropertyAddress</th>\n",
       "      <th>PropertyName</th>\n",
       "      <th>PropertyType</th>\n",
       "      <th>RentalPerMth</th>\n",
       "      <th>SourceUrl</th>\n",
       "      <th>State</th>\n",
       "      <th>UpdatedDateTime</th>\n",
       "      <th>UpdatedUser</th>\n",
       "    </tr>\n",
       "  </thead>\n",
       "  <tbody>\n",
       "    <tr>\n",
       "      <th>0</th>\n",
       "      <td>1000</td>\n",
       "      <td>Bandar Utama</td>\n",
       "      <td>2018-08-04 09:31:52</td>\n",
       "      <td>SYSTEM_TH</td>\n",
       "      <td>4</td>\n",
       "      <td>Fully Furnished</td>\n",
       "      <td>3.14195</td>\n",
       "      <td>101.616</td>\n",
       "      <td>2</td>\n",
       "      <td>3</td>\n",
       "      <td>...</td>\n",
       "      <td>47400</td>\n",
       "      <td>2018-07-30 00:00:00</td>\n",
       "      <td>Jalan Masjid</td>\n",
       "      <td>Pelangi Utama</td>\n",
       "      <td>Condominium</td>\n",
       "      <td>2200</td>\n",
       "      <td>https://www.iproperty.com.my/property/bandar-u...</td>\n",
       "      <td>Selangor</td>\n",
       "      <td>2018-08-04 09:31:52</td>\n",
       "      <td>SYSTEM_TH\\r</td>\n",
       "    </tr>\n",
       "    <tr>\n",
       "      <th>1</th>\n",
       "      <td>1000</td>\n",
       "      <td>Bandar Utama</td>\n",
       "      <td>2018-08-04 09:31:52</td>\n",
       "      <td>SYSTEM_TH</td>\n",
       "      <td>4</td>\n",
       "      <td>Fully Furnished</td>\n",
       "      <td>3.14195</td>\n",
       "      <td>101.616</td>\n",
       "      <td>2</td>\n",
       "      <td>3</td>\n",
       "      <td>...</td>\n",
       "      <td>47400</td>\n",
       "      <td>2018-07-30 00:00:00</td>\n",
       "      <td>Jalan Masjid</td>\n",
       "      <td>Pelangi Utama</td>\n",
       "      <td>Condominium</td>\n",
       "      <td>2200</td>\n",
       "      <td>https://www.iproperty.com.my/property/bandar-u...</td>\n",
       "      <td>Selangor</td>\n",
       "      <td>2018-08-04 09:31:52</td>\n",
       "      <td>SYSTEM_TH\\r</td>\n",
       "    </tr>\n",
       "    <tr>\n",
       "      <th>2</th>\n",
       "      <td>1057</td>\n",
       "      <td>Petaling Jaya</td>\n",
       "      <td>2018-08-04 09:31:52</td>\n",
       "      <td>SYSTEM_TH</td>\n",
       "      <td>4</td>\n",
       "      <td>Fully Furnished</td>\n",
       "      <td>3.12252</td>\n",
       "      <td>101.628</td>\n",
       "      <td>2</td>\n",
       "      <td>3</td>\n",
       "      <td>...</td>\n",
       "      <td>47300</td>\n",
       "      <td>2018-07-30 00:00:00</td>\n",
       "      <td>Jalan SS 2/72</td>\n",
       "      <td>Ken Damansara 3</td>\n",
       "      <td>Condominium</td>\n",
       "      <td>1980</td>\n",
       "      <td>https://www.iproperty.com.my/property/petaling...</td>\n",
       "      <td>Selangor</td>\n",
       "      <td>2018-08-04 09:31:52</td>\n",
       "      <td>SYSTEM_TH\\r</td>\n",
       "    </tr>\n",
       "    <tr>\n",
       "      <th>3</th>\n",
       "      <td>1057</td>\n",
       "      <td>Petaling Jaya</td>\n",
       "      <td>2018-08-04 09:31:52</td>\n",
       "      <td>SYSTEM_TH</td>\n",
       "      <td>4</td>\n",
       "      <td>Fully Furnished</td>\n",
       "      <td>3.12252</td>\n",
       "      <td>101.628</td>\n",
       "      <td>2</td>\n",
       "      <td>3</td>\n",
       "      <td>...</td>\n",
       "      <td>47300</td>\n",
       "      <td>2018-07-30 00:00:00</td>\n",
       "      <td>Jalan SS 2/72</td>\n",
       "      <td>Ken Damansara 3</td>\n",
       "      <td>Condominium</td>\n",
       "      <td>1980</td>\n",
       "      <td>https://www.iproperty.com.my/property/petaling...</td>\n",
       "      <td>Selangor</td>\n",
       "      <td>2018-08-04 09:31:52</td>\n",
       "      <td>SYSTEM_TH\\r</td>\n",
       "    </tr>\n",
       "    <tr>\n",
       "      <th>4</th>\n",
       "      <td>0</td>\n",
       "      <td>Bandar Sunway</td>\n",
       "      <td>2018-08-04 09:31:52</td>\n",
       "      <td>SYSTEM_TH</td>\n",
       "      <td>4</td>\n",
       "      <td>Fully Furnished</td>\n",
       "      <td>3.05930</td>\n",
       "      <td>101.616</td>\n",
       "      <td>2</td>\n",
       "      <td>2</td>\n",
       "      <td>...</td>\n",
       "      <td>47100</td>\n",
       "      <td>2018-07-30 00:00:00</td>\n",
       "      <td>Jalan Taylors</td>\n",
       "      <td>D' Latour</td>\n",
       "      <td>Condominium</td>\n",
       "      <td>2600</td>\n",
       "      <td>https://www.iproperty.com.my/property/bandar-s...</td>\n",
       "      <td>Selangor</td>\n",
       "      <td>2018-08-04 09:31:52</td>\n",
       "      <td>SYSTEM_TH\\r</td>\n",
       "    </tr>\n",
       "    <tr>\n",
       "      <th>5</th>\n",
       "      <td>0</td>\n",
       "      <td>Bandar Sunway</td>\n",
       "      <td>2018-08-04 09:31:52</td>\n",
       "      <td>SYSTEM_TH</td>\n",
       "      <td>4</td>\n",
       "      <td>Fully Furnished</td>\n",
       "      <td>3.05930</td>\n",
       "      <td>101.616</td>\n",
       "      <td>2</td>\n",
       "      <td>2</td>\n",
       "      <td>...</td>\n",
       "      <td>47100</td>\n",
       "      <td>2018-07-30 00:00:00</td>\n",
       "      <td>Jalan Taylors</td>\n",
       "      <td>D' Latour</td>\n",
       "      <td>Condominium</td>\n",
       "      <td>2600</td>\n",
       "      <td>https://www.iproperty.com.my/property/bandar-s...</td>\n",
       "      <td>Selangor</td>\n",
       "      <td>2018-08-04 09:31:52</td>\n",
       "      <td>SYSTEM_TH\\r</td>\n",
       "    </tr>\n",
       "    <tr>\n",
       "      <th>7</th>\n",
       "      <td>1248</td>\n",
       "      <td>Subang Jaya</td>\n",
       "      <td>2018-08-04 09:31:52</td>\n",
       "      <td>SYSTEM_TH</td>\n",
       "      <td>4</td>\n",
       "      <td>Partly Furnished</td>\n",
       "      <td>3.05238</td>\n",
       "      <td>101.599</td>\n",
       "      <td>3</td>\n",
       "      <td>0</td>\n",
       "      <td>...</td>\n",
       "      <td>47500</td>\n",
       "      <td>2018-07-29 00:00:00</td>\n",
       "      <td>Jalan Subang Permai</td>\n",
       "      <td>The Regina</td>\n",
       "      <td>Condominium</td>\n",
       "      <td>1700</td>\n",
       "      <td>https://www.iproperty.com.my/property/subang-j...</td>\n",
       "      <td>Selangor</td>\n",
       "      <td>2018-08-04 09:31:52</td>\n",
       "      <td>SYSTEM_TH\\r</td>\n",
       "    </tr>\n",
       "    <tr>\n",
       "      <th>8</th>\n",
       "      <td>1248</td>\n",
       "      <td>Subang Jaya</td>\n",
       "      <td>2018-08-04 09:31:52</td>\n",
       "      <td>SYSTEM_TH</td>\n",
       "      <td>4</td>\n",
       "      <td>Partly Furnished</td>\n",
       "      <td>3.05238</td>\n",
       "      <td>101.599</td>\n",
       "      <td>3</td>\n",
       "      <td>0</td>\n",
       "      <td>...</td>\n",
       "      <td>47500</td>\n",
       "      <td>2018-07-29 00:00:00</td>\n",
       "      <td>Jalan Subang Permai</td>\n",
       "      <td>The Regina</td>\n",
       "      <td>Condominium</td>\n",
       "      <td>1700</td>\n",
       "      <td>https://www.iproperty.com.my/property/subang-j...</td>\n",
       "      <td>Selangor</td>\n",
       "      <td>2018-08-04 09:31:52</td>\n",
       "      <td>SYSTEM_TH\\r</td>\n",
       "    </tr>\n",
       "    <tr>\n",
       "      <th>10</th>\n",
       "      <td>1488</td>\n",
       "      <td>Ara Damansara</td>\n",
       "      <td>2018-08-04 09:31:52</td>\n",
       "      <td>SYSTEM_TH</td>\n",
       "      <td>4</td>\n",
       "      <td>Partly Furnished</td>\n",
       "      <td>3.11319</td>\n",
       "      <td>101.579</td>\n",
       "      <td>3</td>\n",
       "      <td>3</td>\n",
       "      <td>...</td>\n",
       "      <td>47301</td>\n",
       "      <td>2018-07-29 00:00:00</td>\n",
       "      <td>Jalan Pju 1A/4</td>\n",
       "      <td>The Potpourri</td>\n",
       "      <td>Condominium</td>\n",
       "      <td>4500</td>\n",
       "      <td>https://www.iproperty.com.my/property/ara-dama...</td>\n",
       "      <td>Selangor</td>\n",
       "      <td>2018-08-04 09:31:52</td>\n",
       "      <td>SYSTEM_TH\\r</td>\n",
       "    </tr>\n",
       "    <tr>\n",
       "      <th>11</th>\n",
       "      <td>1488</td>\n",
       "      <td>Ara Damansara</td>\n",
       "      <td>2018-08-04 09:31:52</td>\n",
       "      <td>SYSTEM_TH</td>\n",
       "      <td>4</td>\n",
       "      <td>Partly Furnished</td>\n",
       "      <td>3.11319</td>\n",
       "      <td>101.579</td>\n",
       "      <td>3</td>\n",
       "      <td>3</td>\n",
       "      <td>...</td>\n",
       "      <td>47301</td>\n",
       "      <td>2018-07-29 00:00:00</td>\n",
       "      <td>Jalan Pju 1A/4</td>\n",
       "      <td>The Potpourri</td>\n",
       "      <td>Condominium</td>\n",
       "      <td>4500</td>\n",
       "      <td>https://www.iproperty.com.my/property/ara-dama...</td>\n",
       "      <td>Selangor</td>\n",
       "      <td>2018-08-04 09:31:52</td>\n",
       "      <td>SYSTEM_TH\\r</td>\n",
       "    </tr>\n",
       "  </tbody>\n",
       "</table>\n",
       "<p>10 rows × 21 columns</p>\n",
       "</div>"
      ],
      "text/plain": [
       "    BuiltUpSize           City      CreatedDateTime CreatedUser  DataSourceID  \\\n",
       "0          1000   Bandar Utama  2018-08-04 09:31:52   SYSTEM_TH             4   \n",
       "1          1000   Bandar Utama  2018-08-04 09:31:52   SYSTEM_TH             4   \n",
       "2          1057  Petaling Jaya  2018-08-04 09:31:52   SYSTEM_TH             4   \n",
       "3          1057  Petaling Jaya  2018-08-04 09:31:52   SYSTEM_TH             4   \n",
       "4             0  Bandar Sunway  2018-08-04 09:31:52   SYSTEM_TH             4   \n",
       "5             0  Bandar Sunway  2018-08-04 09:31:52   SYSTEM_TH             4   \n",
       "7          1248    Subang Jaya  2018-08-04 09:31:52   SYSTEM_TH             4   \n",
       "8          1248    Subang Jaya  2018-08-04 09:31:52   SYSTEM_TH             4   \n",
       "10         1488  Ara Damansara  2018-08-04 09:31:52   SYSTEM_TH             4   \n",
       "11         1488  Ara Damansara  2018-08-04 09:31:52   SYSTEM_TH             4   \n",
       "\n",
       "          Furnishing  Latitude  Longitude  NoOfBathroom  NoOfBedroom  \\\n",
       "0    Fully Furnished   3.14195    101.616             2            3   \n",
       "1    Fully Furnished   3.14195    101.616             2            3   \n",
       "2    Fully Furnished   3.12252    101.628             2            3   \n",
       "3    Fully Furnished   3.12252    101.628             2            3   \n",
       "4    Fully Furnished   3.05930    101.616             2            2   \n",
       "5    Fully Furnished   3.05930    101.616             2            2   \n",
       "7   Partly Furnished   3.05238    101.599             3            0   \n",
       "8   Partly Furnished   3.05238    101.599             3            0   \n",
       "10  Partly Furnished   3.11319    101.579             3            3   \n",
       "11  Partly Furnished   3.11319    101.579             3            3   \n",
       "\n",
       "       ...       Postcode           PostedDate      PropertyAddress  \\\n",
       "0      ...          47400  2018-07-30 00:00:00         Jalan Masjid   \n",
       "1      ...          47400  2018-07-30 00:00:00         Jalan Masjid   \n",
       "2      ...          47300  2018-07-30 00:00:00        Jalan SS 2/72   \n",
       "3      ...          47300  2018-07-30 00:00:00        Jalan SS 2/72   \n",
       "4      ...          47100  2018-07-30 00:00:00        Jalan Taylors   \n",
       "5      ...          47100  2018-07-30 00:00:00        Jalan Taylors   \n",
       "7      ...          47500  2018-07-29 00:00:00  Jalan Subang Permai   \n",
       "8      ...          47500  2018-07-29 00:00:00  Jalan Subang Permai   \n",
       "10     ...          47301  2018-07-29 00:00:00       Jalan Pju 1A/4   \n",
       "11     ...          47301  2018-07-29 00:00:00       Jalan Pju 1A/4   \n",
       "\n",
       "       PropertyName PropertyType RentalPerMth  \\\n",
       "0     Pelangi Utama  Condominium         2200   \n",
       "1     Pelangi Utama  Condominium         2200   \n",
       "2   Ken Damansara 3  Condominium         1980   \n",
       "3   Ken Damansara 3  Condominium         1980   \n",
       "4         D' Latour  Condominium         2600   \n",
       "5         D' Latour  Condominium         2600   \n",
       "7        The Regina  Condominium         1700   \n",
       "8        The Regina  Condominium         1700   \n",
       "10    The Potpourri  Condominium         4500   \n",
       "11    The Potpourri  Condominium         4500   \n",
       "\n",
       "                                            SourceUrl     State  \\\n",
       "0   https://www.iproperty.com.my/property/bandar-u...  Selangor   \n",
       "1   https://www.iproperty.com.my/property/bandar-u...  Selangor   \n",
       "2   https://www.iproperty.com.my/property/petaling...  Selangor   \n",
       "3   https://www.iproperty.com.my/property/petaling...  Selangor   \n",
       "4   https://www.iproperty.com.my/property/bandar-s...  Selangor   \n",
       "5   https://www.iproperty.com.my/property/bandar-s...  Selangor   \n",
       "7   https://www.iproperty.com.my/property/subang-j...  Selangor   \n",
       "8   https://www.iproperty.com.my/property/subang-j...  Selangor   \n",
       "10  https://www.iproperty.com.my/property/ara-dama...  Selangor   \n",
       "11  https://www.iproperty.com.my/property/ara-dama...  Selangor   \n",
       "\n",
       "        UpdatedDateTime  UpdatedUser  \n",
       "0   2018-08-04 09:31:52  SYSTEM_TH\\r  \n",
       "1   2018-08-04 09:31:52  SYSTEM_TH\\r  \n",
       "2   2018-08-04 09:31:52  SYSTEM_TH\\r  \n",
       "3   2018-08-04 09:31:52  SYSTEM_TH\\r  \n",
       "4   2018-08-04 09:31:52  SYSTEM_TH\\r  \n",
       "5   2018-08-04 09:31:52  SYSTEM_TH\\r  \n",
       "7   2018-08-04 09:31:52  SYSTEM_TH\\r  \n",
       "8   2018-08-04 09:31:52  SYSTEM_TH\\r  \n",
       "10  2018-08-04 09:31:52  SYSTEM_TH\\r  \n",
       "11  2018-08-04 09:31:52  SYSTEM_TH\\r  \n",
       "\n",
       "[10 rows x 21 columns]"
      ]
     },
     "execution_count": 7,
     "metadata": {},
     "output_type": "execute_result"
    }
   ],
   "source": [
    "print(\"There are {} duplicate values.\".format(rental.duplicated().sum()))\n",
    "rental[rental.duplicated(keep=False)].head(10)"
   ]
  },
  {
   "cell_type": "code",
   "execution_count": 8,
   "metadata": {},
   "outputs": [],
   "source": [
    "# remove duplicate values\n",
    "rental = rental.drop_duplicates()\n",
    "rental = rental.reset_index(drop=True)"
   ]
  },
  {
   "cell_type": "code",
   "execution_count": 9,
   "metadata": {},
   "outputs": [
    {
     "name": "stdout",
     "output_type": "stream",
     "text": [
      "There are 0 duplicate values.\n"
     ]
    },
    {
     "data": {
      "text/html": [
       "<div>\n",
       "<style scoped>\n",
       "    .dataframe tbody tr th:only-of-type {\n",
       "        vertical-align: middle;\n",
       "    }\n",
       "\n",
       "    .dataframe tbody tr th {\n",
       "        vertical-align: top;\n",
       "    }\n",
       "\n",
       "    .dataframe thead th {\n",
       "        text-align: right;\n",
       "    }\n",
       "</style>\n",
       "<table border=\"1\" class=\"dataframe\">\n",
       "  <thead>\n",
       "    <tr style=\"text-align: right;\">\n",
       "      <th></th>\n",
       "      <th>BuiltUpSize</th>\n",
       "      <th>City</th>\n",
       "      <th>CreatedDateTime</th>\n",
       "      <th>CreatedUser</th>\n",
       "      <th>DataSourceID</th>\n",
       "      <th>Furnishing</th>\n",
       "      <th>Latitude</th>\n",
       "      <th>Longitude</th>\n",
       "      <th>NoOfBathroom</th>\n",
       "      <th>NoOfBedroom</th>\n",
       "      <th>...</th>\n",
       "      <th>Postcode</th>\n",
       "      <th>PostedDate</th>\n",
       "      <th>PropertyAddress</th>\n",
       "      <th>PropertyName</th>\n",
       "      <th>PropertyType</th>\n",
       "      <th>RentalPerMth</th>\n",
       "      <th>SourceUrl</th>\n",
       "      <th>State</th>\n",
       "      <th>UpdatedDateTime</th>\n",
       "      <th>UpdatedUser</th>\n",
       "    </tr>\n",
       "  </thead>\n",
       "  <tbody>\n",
       "    <tr>\n",
       "      <th>0</th>\n",
       "      <td>1000</td>\n",
       "      <td>Bandar Utama</td>\n",
       "      <td>2018-08-04 09:31:52</td>\n",
       "      <td>SYSTEM_TH</td>\n",
       "      <td>4</td>\n",
       "      <td>Fully Furnished</td>\n",
       "      <td>3.14195</td>\n",
       "      <td>101.616</td>\n",
       "      <td>2</td>\n",
       "      <td>3</td>\n",
       "      <td>...</td>\n",
       "      <td>47400</td>\n",
       "      <td>2018-07-30 00:00:00</td>\n",
       "      <td>Jalan Masjid</td>\n",
       "      <td>Pelangi Utama</td>\n",
       "      <td>Condominium</td>\n",
       "      <td>2200</td>\n",
       "      <td>https://www.iproperty.com.my/property/bandar-u...</td>\n",
       "      <td>Selangor</td>\n",
       "      <td>2018-08-04 09:31:52</td>\n",
       "      <td>SYSTEM_TH\\r</td>\n",
       "    </tr>\n",
       "    <tr>\n",
       "      <th>1</th>\n",
       "      <td>1057</td>\n",
       "      <td>Petaling Jaya</td>\n",
       "      <td>2018-08-04 09:31:52</td>\n",
       "      <td>SYSTEM_TH</td>\n",
       "      <td>4</td>\n",
       "      <td>Fully Furnished</td>\n",
       "      <td>3.12252</td>\n",
       "      <td>101.628</td>\n",
       "      <td>2</td>\n",
       "      <td>3</td>\n",
       "      <td>...</td>\n",
       "      <td>47300</td>\n",
       "      <td>2018-07-30 00:00:00</td>\n",
       "      <td>Jalan SS 2/72</td>\n",
       "      <td>Ken Damansara 3</td>\n",
       "      <td>Condominium</td>\n",
       "      <td>1980</td>\n",
       "      <td>https://www.iproperty.com.my/property/petaling...</td>\n",
       "      <td>Selangor</td>\n",
       "      <td>2018-08-04 09:31:52</td>\n",
       "      <td>SYSTEM_TH\\r</td>\n",
       "    </tr>\n",
       "    <tr>\n",
       "      <th>2</th>\n",
       "      <td>0</td>\n",
       "      <td>Bandar Sunway</td>\n",
       "      <td>2018-08-04 09:31:52</td>\n",
       "      <td>SYSTEM_TH</td>\n",
       "      <td>4</td>\n",
       "      <td>Fully Furnished</td>\n",
       "      <td>3.05930</td>\n",
       "      <td>101.616</td>\n",
       "      <td>2</td>\n",
       "      <td>2</td>\n",
       "      <td>...</td>\n",
       "      <td>47100</td>\n",
       "      <td>2018-07-30 00:00:00</td>\n",
       "      <td>Jalan Taylors</td>\n",
       "      <td>D' Latour</td>\n",
       "      <td>Condominium</td>\n",
       "      <td>2600</td>\n",
       "      <td>https://www.iproperty.com.my/property/bandar-s...</td>\n",
       "      <td>Selangor</td>\n",
       "      <td>2018-08-04 09:31:52</td>\n",
       "      <td>SYSTEM_TH\\r</td>\n",
       "    </tr>\n",
       "    <tr>\n",
       "      <th>3</th>\n",
       "      <td>0</td>\n",
       "      <td>Ara Damansara</td>\n",
       "      <td>2018-08-04 09:31:52</td>\n",
       "      <td>SYSTEM_TH</td>\n",
       "      <td>4</td>\n",
       "      <td>Fully Furnished</td>\n",
       "      <td>3.12444</td>\n",
       "      <td>101.583</td>\n",
       "      <td>1</td>\n",
       "      <td>1</td>\n",
       "      <td>...</td>\n",
       "      <td>47301</td>\n",
       "      <td>2018-07-29 00:00:00</td>\n",
       "      <td>Jalan PJU 1A</td>\n",
       "      <td>Eve Suite / NZX Square</td>\n",
       "      <td>Serviced Residence</td>\n",
       "      <td>1800</td>\n",
       "      <td>https://www.iproperty.com.my/property/ara-dama...</td>\n",
       "      <td>Selangor</td>\n",
       "      <td>2018-08-04 09:31:52</td>\n",
       "      <td>SYSTEM_TH\\r</td>\n",
       "    </tr>\n",
       "    <tr>\n",
       "      <th>4</th>\n",
       "      <td>1248</td>\n",
       "      <td>Subang Jaya</td>\n",
       "      <td>2018-08-04 09:31:52</td>\n",
       "      <td>SYSTEM_TH</td>\n",
       "      <td>4</td>\n",
       "      <td>Partly Furnished</td>\n",
       "      <td>3.05238</td>\n",
       "      <td>101.599</td>\n",
       "      <td>3</td>\n",
       "      <td>0</td>\n",
       "      <td>...</td>\n",
       "      <td>47500</td>\n",
       "      <td>2018-07-29 00:00:00</td>\n",
       "      <td>Jalan Subang Permai</td>\n",
       "      <td>The Regina</td>\n",
       "      <td>Condominium</td>\n",
       "      <td>1700</td>\n",
       "      <td>https://www.iproperty.com.my/property/subang-j...</td>\n",
       "      <td>Selangor</td>\n",
       "      <td>2018-08-04 09:31:52</td>\n",
       "      <td>SYSTEM_TH\\r</td>\n",
       "    </tr>\n",
       "  </tbody>\n",
       "</table>\n",
       "<p>5 rows × 21 columns</p>\n",
       "</div>"
      ],
      "text/plain": [
       "   BuiltUpSize           City      CreatedDateTime CreatedUser  DataSourceID  \\\n",
       "0         1000   Bandar Utama  2018-08-04 09:31:52   SYSTEM_TH             4   \n",
       "1         1057  Petaling Jaya  2018-08-04 09:31:52   SYSTEM_TH             4   \n",
       "2            0  Bandar Sunway  2018-08-04 09:31:52   SYSTEM_TH             4   \n",
       "3            0  Ara Damansara  2018-08-04 09:31:52   SYSTEM_TH             4   \n",
       "4         1248    Subang Jaya  2018-08-04 09:31:52   SYSTEM_TH             4   \n",
       "\n",
       "         Furnishing  Latitude  Longitude  NoOfBathroom  NoOfBedroom  \\\n",
       "0   Fully Furnished   3.14195    101.616             2            3   \n",
       "1   Fully Furnished   3.12252    101.628             2            3   \n",
       "2   Fully Furnished   3.05930    101.616             2            2   \n",
       "3   Fully Furnished   3.12444    101.583             1            1   \n",
       "4  Partly Furnished   3.05238    101.599             3            0   \n",
       "\n",
       "      ...       Postcode           PostedDate      PropertyAddress  \\\n",
       "0     ...          47400  2018-07-30 00:00:00         Jalan Masjid   \n",
       "1     ...          47300  2018-07-30 00:00:00        Jalan SS 2/72   \n",
       "2     ...          47100  2018-07-30 00:00:00        Jalan Taylors   \n",
       "3     ...          47301  2018-07-29 00:00:00         Jalan PJU 1A   \n",
       "4     ...          47500  2018-07-29 00:00:00  Jalan Subang Permai   \n",
       "\n",
       "             PropertyName        PropertyType RentalPerMth  \\\n",
       "0           Pelangi Utama         Condominium         2200   \n",
       "1         Ken Damansara 3         Condominium         1980   \n",
       "2               D' Latour         Condominium         2600   \n",
       "3  Eve Suite / NZX Square  Serviced Residence         1800   \n",
       "4              The Regina         Condominium         1700   \n",
       "\n",
       "                                           SourceUrl     State  \\\n",
       "0  https://www.iproperty.com.my/property/bandar-u...  Selangor   \n",
       "1  https://www.iproperty.com.my/property/petaling...  Selangor   \n",
       "2  https://www.iproperty.com.my/property/bandar-s...  Selangor   \n",
       "3  https://www.iproperty.com.my/property/ara-dama...  Selangor   \n",
       "4  https://www.iproperty.com.my/property/subang-j...  Selangor   \n",
       "\n",
       "       UpdatedDateTime  UpdatedUser  \n",
       "0  2018-08-04 09:31:52  SYSTEM_TH\\r  \n",
       "1  2018-08-04 09:31:52  SYSTEM_TH\\r  \n",
       "2  2018-08-04 09:31:52  SYSTEM_TH\\r  \n",
       "3  2018-08-04 09:31:52  SYSTEM_TH\\r  \n",
       "4  2018-08-04 09:31:52  SYSTEM_TH\\r  \n",
       "\n",
       "[5 rows x 21 columns]"
      ]
     },
     "execution_count": 9,
     "metadata": {},
     "output_type": "execute_result"
    }
   ],
   "source": [
    "# check for duplicate values after removing duplicates\n",
    "print(\"There are {} duplicate values.\".format(rental.duplicated().sum()))\n",
    "rental.head()"
   ]
  },
  {
   "cell_type": "markdown",
   "metadata": {},
   "source": [
    "## Clean Data\n",
    "We will use seven features i.e. \"BuiltUpSize\", \"NoOfBathroom\", \"NoOfBedroom\", \"NoOfParking\", \"State\", \"Furnishing\", \"PropertyType\" to predict rental prices i.e. \"RentalPerMth\". Therefore, we will need to do some data cleaning to correct any spelling errors or typos in these 8 columns."
   ]
  },
  {
   "cell_type": "code",
   "execution_count": 10,
   "metadata": {},
   "outputs": [
    {
     "data": {
      "text/html": [
       "<div>\n",
       "<style scoped>\n",
       "    .dataframe tbody tr th:only-of-type {\n",
       "        vertical-align: middle;\n",
       "    }\n",
       "\n",
       "    .dataframe tbody tr th {\n",
       "        vertical-align: top;\n",
       "    }\n",
       "\n",
       "    .dataframe thead th {\n",
       "        text-align: right;\n",
       "    }\n",
       "</style>\n",
       "<table border=\"1\" class=\"dataframe\">\n",
       "  <thead>\n",
       "    <tr style=\"text-align: right;\">\n",
       "      <th></th>\n",
       "      <th>BuiltUpSize</th>\n",
       "      <th>NoOfBathroom</th>\n",
       "      <th>NoOfBedroom</th>\n",
       "      <th>NoOfParking</th>\n",
       "      <th>State</th>\n",
       "      <th>Furnishing</th>\n",
       "      <th>PropertyType</th>\n",
       "      <th>RentalPerMth</th>\n",
       "    </tr>\n",
       "  </thead>\n",
       "  <tbody>\n",
       "    <tr>\n",
       "      <th>0</th>\n",
       "      <td>1000</td>\n",
       "      <td>2</td>\n",
       "      <td>3</td>\n",
       "      <td>1</td>\n",
       "      <td>Selangor</td>\n",
       "      <td>Fully Furnished</td>\n",
       "      <td>Condominium</td>\n",
       "      <td>2200</td>\n",
       "    </tr>\n",
       "    <tr>\n",
       "      <th>1</th>\n",
       "      <td>1057</td>\n",
       "      <td>2</td>\n",
       "      <td>3</td>\n",
       "      <td>1</td>\n",
       "      <td>Selangor</td>\n",
       "      <td>Fully Furnished</td>\n",
       "      <td>Condominium</td>\n",
       "      <td>1980</td>\n",
       "    </tr>\n",
       "    <tr>\n",
       "      <th>2</th>\n",
       "      <td>0</td>\n",
       "      <td>2</td>\n",
       "      <td>2</td>\n",
       "      <td>0</td>\n",
       "      <td>Selangor</td>\n",
       "      <td>Fully Furnished</td>\n",
       "      <td>Condominium</td>\n",
       "      <td>2600</td>\n",
       "    </tr>\n",
       "    <tr>\n",
       "      <th>3</th>\n",
       "      <td>0</td>\n",
       "      <td>1</td>\n",
       "      <td>1</td>\n",
       "      <td>2</td>\n",
       "      <td>Selangor</td>\n",
       "      <td>Fully Furnished</td>\n",
       "      <td>Serviced Residence</td>\n",
       "      <td>1800</td>\n",
       "    </tr>\n",
       "    <tr>\n",
       "      <th>4</th>\n",
       "      <td>1248</td>\n",
       "      <td>3</td>\n",
       "      <td>0</td>\n",
       "      <td>2</td>\n",
       "      <td>Selangor</td>\n",
       "      <td>Partly Furnished</td>\n",
       "      <td>Condominium</td>\n",
       "      <td>1700</td>\n",
       "    </tr>\n",
       "    <tr>\n",
       "      <th>5</th>\n",
       "      <td>0</td>\n",
       "      <td>2</td>\n",
       "      <td>2</td>\n",
       "      <td>2</td>\n",
       "      <td>Selangor</td>\n",
       "      <td>Fully Furnished</td>\n",
       "      <td>Serviced Residence</td>\n",
       "      <td>2500</td>\n",
       "    </tr>\n",
       "    <tr>\n",
       "      <th>6</th>\n",
       "      <td>1488</td>\n",
       "      <td>3</td>\n",
       "      <td>3</td>\n",
       "      <td>3</td>\n",
       "      <td>Selangor</td>\n",
       "      <td>Partly Furnished</td>\n",
       "      <td>Condominium</td>\n",
       "      <td>4500</td>\n",
       "    </tr>\n",
       "    <tr>\n",
       "      <th>7</th>\n",
       "      <td>871</td>\n",
       "      <td>2</td>\n",
       "      <td>2</td>\n",
       "      <td>2</td>\n",
       "      <td>Selangor</td>\n",
       "      <td>Fully Furnished</td>\n",
       "      <td>Condominium</td>\n",
       "      <td>2500</td>\n",
       "    </tr>\n",
       "    <tr>\n",
       "      <th>8</th>\n",
       "      <td>0</td>\n",
       "      <td>2</td>\n",
       "      <td>3</td>\n",
       "      <td>2</td>\n",
       "      <td>Selangor</td>\n",
       "      <td>Partly Furnished</td>\n",
       "      <td>Condominium</td>\n",
       "      <td>1500</td>\n",
       "    </tr>\n",
       "    <tr>\n",
       "      <th>9</th>\n",
       "      <td>544</td>\n",
       "      <td>1</td>\n",
       "      <td>1</td>\n",
       "      <td>0</td>\n",
       "      <td>Selangor</td>\n",
       "      <td>Partly Furnished</td>\n",
       "      <td>Condominium</td>\n",
       "      <td>1200</td>\n",
       "    </tr>\n",
       "  </tbody>\n",
       "</table>\n",
       "</div>"
      ],
      "text/plain": [
       "   BuiltUpSize  NoOfBathroom  NoOfBedroom  NoOfParking     State  \\\n",
       "0         1000             2            3            1  Selangor   \n",
       "1         1057             2            3            1  Selangor   \n",
       "2            0             2            2            0  Selangor   \n",
       "3            0             1            1            2  Selangor   \n",
       "4         1248             3            0            2  Selangor   \n",
       "5            0             2            2            2  Selangor   \n",
       "6         1488             3            3            3  Selangor   \n",
       "7          871             2            2            2  Selangor   \n",
       "8            0             2            3            2  Selangor   \n",
       "9          544             1            1            0  Selangor   \n",
       "\n",
       "         Furnishing        PropertyType  RentalPerMth  \n",
       "0   Fully Furnished         Condominium          2200  \n",
       "1   Fully Furnished         Condominium          1980  \n",
       "2   Fully Furnished         Condominium          2600  \n",
       "3   Fully Furnished  Serviced Residence          1800  \n",
       "4  Partly Furnished         Condominium          1700  \n",
       "5   Fully Furnished  Serviced Residence          2500  \n",
       "6  Partly Furnished         Condominium          4500  \n",
       "7   Fully Furnished         Condominium          2500  \n",
       "8  Partly Furnished         Condominium          1500  \n",
       "9  Partly Furnished         Condominium          1200  "
      ]
     },
     "execution_count": 10,
     "metadata": {},
     "output_type": "execute_result"
    }
   ],
   "source": [
    "# select columns that we want to work with\n",
    "rental = rental[[\"BuiltUpSize\", \"NoOfBathroom\", \"NoOfBedroom\", \"NoOfParking\", \"State\", \"Furnishing\", \"PropertyType\", \"RentalPerMth\"]]\n",
    "rental.head(10)"
   ]
  },
  {
   "cell_type": "code",
   "execution_count": 11,
   "metadata": {},
   "outputs": [
    {
     "data": {
      "text/plain": [
       "selangor        16206\n",
       "kuala-lumpur     7237\n",
       "johor            5514\n",
       "putrajaya         134\n",
       "Selangor           20\n",
       "Name: State, dtype: int64"
      ]
     },
     "execution_count": 11,
     "metadata": {},
     "output_type": "execute_result"
    }
   ],
   "source": [
    "# check for typo or wrong spelling for State column\n",
    "rental[\"State\"].value_counts()"
   ]
  },
  {
   "cell_type": "code",
   "execution_count": 12,
   "metadata": {},
   "outputs": [],
   "source": [
    "# replace typo with the correct spelling\n",
    "rental[\"State\"] = rental[\"State\"].replace(\"Selangor\", \"selangor\")"
   ]
  },
  {
   "cell_type": "code",
   "execution_count": 13,
   "metadata": {},
   "outputs": [
    {
     "data": {
      "text/plain": [
       "selangor        16226\n",
       "kuala-lumpur     7237\n",
       "johor            5514\n",
       "putrajaya         134\n",
       "Name: State, dtype: int64"
      ]
     },
     "execution_count": 13,
     "metadata": {},
     "output_type": "execute_result"
    }
   ],
   "source": [
    "# recheck again\n",
    "rental[\"State\"].value_counts()"
   ]
  },
  {
   "cell_type": "code",
   "execution_count": 14,
   "metadata": {},
   "outputs": [
    {
     "data": {
      "text/plain": [
       "Fully Furnished     15553\n",
       "Partly Furnished     9319\n",
       "Unfurnished          4192\n",
       "Unknown                47\n",
       "Name: Furnishing, dtype: int64"
      ]
     },
     "execution_count": 14,
     "metadata": {},
     "output_type": "execute_result"
    }
   ],
   "source": [
    "# check for typo or wrong spelling for Furnishing column\n",
    "rental[\"Furnishing\"].value_counts()"
   ]
  },
  {
   "cell_type": "code",
   "execution_count": 15,
   "metadata": {},
   "outputs": [],
   "source": [
    "# drop Unknown Furnishing values\n",
    "rental = rental[rental[\"Furnishing\"] != \"Unknown\"].reset_index(drop=True)"
   ]
  },
  {
   "cell_type": "code",
   "execution_count": 16,
   "metadata": {},
   "outputs": [
    {
     "data": {
      "text/plain": [
       "Fully Furnished     15553\n",
       "Partly Furnished     9319\n",
       "Unfurnished          4192\n",
       "Name: Furnishing, dtype: int64"
      ]
     },
     "execution_count": 16,
     "metadata": {},
     "output_type": "execute_result"
    }
   ],
   "source": [
    "# recheck again\n",
    "rental[\"Furnishing\"].value_counts()"
   ]
  },
  {
   "cell_type": "code",
   "execution_count": 17,
   "metadata": {},
   "outputs": [
    {
     "data": {
      "text/plain": [
       "Serviced Residence            11901\n",
       "Condominium                   11615\n",
       "Apartment                      2576\n",
       "2-sty Terrace/Link House       1185\n",
       "Semi-detached House             483\n",
       "Bungalow                        342\n",
       "3-sty Terrace/Link House        237\n",
       "Townhouse                       158\n",
       "Flat                            145\n",
       "Cluster House                   139\n",
       "1-sty Terrace/Link House        116\n",
       "2.5-sty Terrace/Link House      109\n",
       "1.5-sty Terrace/Link House       25\n",
       "4-sty Terrace/Link House         18\n",
       "3.5-sty Terrace/Link House       11\n",
       "Residential Land                  4\n",
       "Name: PropertyType, dtype: int64"
      ]
     },
     "execution_count": 17,
     "metadata": {},
     "output_type": "execute_result"
    }
   ],
   "source": [
    "# check for typo or wrong spelling for Furnishing column\n",
    "rental[\"PropertyType\"].value_counts()"
   ]
  },
  {
   "cell_type": "code",
   "execution_count": 18,
   "metadata": {},
   "outputs": [
    {
     "data": {
      "text/html": [
       "<div>\n",
       "<style scoped>\n",
       "    .dataframe tbody tr th:only-of-type {\n",
       "        vertical-align: middle;\n",
       "    }\n",
       "\n",
       "    .dataframe tbody tr th {\n",
       "        vertical-align: top;\n",
       "    }\n",
       "\n",
       "    .dataframe thead th {\n",
       "        text-align: right;\n",
       "    }\n",
       "</style>\n",
       "<table border=\"1\" class=\"dataframe\">\n",
       "  <thead>\n",
       "    <tr style=\"text-align: right;\">\n",
       "      <th></th>\n",
       "      <th>BuiltUpSize</th>\n",
       "      <th>NoOfBathroom</th>\n",
       "      <th>NoOfBedroom</th>\n",
       "      <th>NoOfParking</th>\n",
       "      <th>State</th>\n",
       "      <th>Furnishing</th>\n",
       "      <th>PropertyType</th>\n",
       "      <th>RentalPerMth</th>\n",
       "    </tr>\n",
       "  </thead>\n",
       "  <tbody>\n",
       "    <tr>\n",
       "      <th>0</th>\n",
       "      <td>1000</td>\n",
       "      <td>2</td>\n",
       "      <td>3</td>\n",
       "      <td>1</td>\n",
       "      <td>selangor</td>\n",
       "      <td>Fully Furnished</td>\n",
       "      <td>Condominium</td>\n",
       "      <td>2200</td>\n",
       "    </tr>\n",
       "    <tr>\n",
       "      <th>1</th>\n",
       "      <td>1057</td>\n",
       "      <td>2</td>\n",
       "      <td>3</td>\n",
       "      <td>1</td>\n",
       "      <td>selangor</td>\n",
       "      <td>Fully Furnished</td>\n",
       "      <td>Condominium</td>\n",
       "      <td>1980</td>\n",
       "    </tr>\n",
       "    <tr>\n",
       "      <th>2</th>\n",
       "      <td>1488</td>\n",
       "      <td>3</td>\n",
       "      <td>3</td>\n",
       "      <td>3</td>\n",
       "      <td>selangor</td>\n",
       "      <td>Partly Furnished</td>\n",
       "      <td>Condominium</td>\n",
       "      <td>4500</td>\n",
       "    </tr>\n",
       "    <tr>\n",
       "      <th>3</th>\n",
       "      <td>871</td>\n",
       "      <td>2</td>\n",
       "      <td>2</td>\n",
       "      <td>2</td>\n",
       "      <td>selangor</td>\n",
       "      <td>Fully Furnished</td>\n",
       "      <td>Condominium</td>\n",
       "      <td>2500</td>\n",
       "    </tr>\n",
       "    <tr>\n",
       "      <th>4</th>\n",
       "      <td>700</td>\n",
       "      <td>1</td>\n",
       "      <td>1</td>\n",
       "      <td>1</td>\n",
       "      <td>selangor</td>\n",
       "      <td>Partly Furnished</td>\n",
       "      <td>Condominium</td>\n",
       "      <td>1300</td>\n",
       "    </tr>\n",
       "    <tr>\n",
       "      <th>5</th>\n",
       "      <td>1021</td>\n",
       "      <td>2</td>\n",
       "      <td>3</td>\n",
       "      <td>1</td>\n",
       "      <td>selangor</td>\n",
       "      <td>Fully Furnished</td>\n",
       "      <td>Serviced Residence</td>\n",
       "      <td>2500</td>\n",
       "    </tr>\n",
       "    <tr>\n",
       "      <th>6</th>\n",
       "      <td>1100</td>\n",
       "      <td>2</td>\n",
       "      <td>3</td>\n",
       "      <td>2</td>\n",
       "      <td>selangor</td>\n",
       "      <td>Partly Furnished</td>\n",
       "      <td>Condominium</td>\n",
       "      <td>2500</td>\n",
       "    </tr>\n",
       "    <tr>\n",
       "      <th>7</th>\n",
       "      <td>850</td>\n",
       "      <td>1</td>\n",
       "      <td>1</td>\n",
       "      <td>1</td>\n",
       "      <td>kuala-lumpur</td>\n",
       "      <td>Fully Furnished</td>\n",
       "      <td>Serviced Residence</td>\n",
       "      <td>2100</td>\n",
       "    </tr>\n",
       "    <tr>\n",
       "      <th>8</th>\n",
       "      <td>791</td>\n",
       "      <td>2</td>\n",
       "      <td>2</td>\n",
       "      <td>2</td>\n",
       "      <td>kuala-lumpur</td>\n",
       "      <td>Fully Furnished</td>\n",
       "      <td>Serviced Residence</td>\n",
       "      <td>1900</td>\n",
       "    </tr>\n",
       "    <tr>\n",
       "      <th>9</th>\n",
       "      <td>888</td>\n",
       "      <td>2</td>\n",
       "      <td>2</td>\n",
       "      <td>1</td>\n",
       "      <td>kuala-lumpur</td>\n",
       "      <td>Fully Furnished</td>\n",
       "      <td>Serviced Residence</td>\n",
       "      <td>3000</td>\n",
       "    </tr>\n",
       "  </tbody>\n",
       "</table>\n",
       "</div>"
      ],
      "text/plain": [
       "   BuiltUpSize  NoOfBathroom  NoOfBedroom  NoOfParking         State  \\\n",
       "0         1000             2            3            1      selangor   \n",
       "1         1057             2            3            1      selangor   \n",
       "2         1488             3            3            3      selangor   \n",
       "3          871             2            2            2      selangor   \n",
       "4          700             1            1            1      selangor   \n",
       "5         1021             2            3            1      selangor   \n",
       "6         1100             2            3            2      selangor   \n",
       "7          850             1            1            1  kuala-lumpur   \n",
       "8          791             2            2            2  kuala-lumpur   \n",
       "9          888             2            2            1  kuala-lumpur   \n",
       "\n",
       "         Furnishing        PropertyType  RentalPerMth  \n",
       "0   Fully Furnished         Condominium          2200  \n",
       "1   Fully Furnished         Condominium          1980  \n",
       "2  Partly Furnished         Condominium          4500  \n",
       "3   Fully Furnished         Condominium          2500  \n",
       "4  Partly Furnished         Condominium          1300  \n",
       "5   Fully Furnished  Serviced Residence          2500  \n",
       "6  Partly Furnished         Condominium          2500  \n",
       "7   Fully Furnished  Serviced Residence          2100  \n",
       "8   Fully Furnished  Serviced Residence          1900  \n",
       "9   Fully Furnished  Serviced Residence          3000  "
      ]
     },
     "execution_count": 18,
     "metadata": {},
     "output_type": "execute_result"
    }
   ],
   "source": [
    "# Since we are working with property data, it is impossible or does not make sense to have 0 values for certain columns\n",
    "# we need to drop observations with value = 0 for these columns\n",
    "\n",
    "# drop BuiltUpSize = 0\n",
    "rental = rental[rental[\"BuiltUpSize\"] != 0].reset_index(drop=True)\n",
    "\n",
    "# drop NoOfBedroom = 0\n",
    "rental = rental[rental[\"NoOfBedroom\"] != 0].reset_index(drop=True)\n",
    "\n",
    "# drop NoOfBathroom = 0\n",
    "rental = rental[rental[\"NoOfBathroom\"] != 0].reset_index(drop=True)\n",
    "\n",
    "# drop NoOfParking = 0\n",
    "rental = rental[rental[\"NoOfParking\"] != 0].reset_index(drop=True)\n",
    "\n",
    "# drop RentalPerMth = 0\n",
    "rental = rental[rental[\"RentalPerMth\"] != 0].reset_index(drop=True)\n",
    "\n",
    "rental.head(10)"
   ]
  },
  {
   "cell_type": "code",
   "execution_count": 19,
   "metadata": {},
   "outputs": [
    {
     "name": "stdout",
     "output_type": "stream",
     "text": [
      "<class 'pandas.core.frame.DataFrame'>\n",
      "RangeIndex: 13086 entries, 0 to 13085\n",
      "Data columns (total 8 columns):\n",
      "BuiltUpSize     13086 non-null int64\n",
      "NoOfBathroom    13086 non-null int64\n",
      "NoOfBedroom     13086 non-null int64\n",
      "NoOfParking     13086 non-null int64\n",
      "State           13086 non-null object\n",
      "Furnishing      13086 non-null object\n",
      "PropertyType    13086 non-null object\n",
      "RentalPerMth    13086 non-null int64\n",
      "dtypes: int64(5), object(3)\n",
      "memory usage: 818.0+ KB\n"
     ]
    }
   ],
   "source": [
    "# check the summary info of the dataframe after cleaning the data\n",
    "rental.info()"
   ]
  },
  {
   "cell_type": "markdown",
   "metadata": {},
   "source": [
    "## Check For Outliers"
   ]
  },
  {
   "cell_type": "code",
   "execution_count": 20,
   "metadata": {},
   "outputs": [
    {
     "name": "stdout",
     "output_type": "stream",
     "text": [
      "count     13086.000000\n",
      "mean       2879.990601\n",
      "std       21623.624529\n",
      "min         110.000000\n",
      "25%        1400.000000\n",
      "50%        1800.000000\n",
      "75%        2500.000000\n",
      "max     1240000.000000\n",
      "Name: RentalPerMth, dtype: float64\n"
     ]
    }
   ],
   "source": [
    "# take a look at the statistics of the RentalPerMth column\n",
    "with pd.option_context('float_format', '{:f}'.format): print(rental[\"RentalPerMth\"].describe())"
   ]
  },
  {
   "cell_type": "markdown",
   "metadata": {},
   "source": [
    "**Note:** The values range from 110 up to 1,240,000 with a median value of only 1,800 indicates that there might be presence of outliers in the dataset."
   ]
  },
  {
   "cell_type": "code",
   "execution_count": 21,
   "metadata": {},
   "outputs": [
    {
     "data": {
      "image/png": "[encoded data removed]",
      "text/plain": [
       "<Figure size 1152x360 with 2 Axes>"
      ]
     },
     "metadata": {},
     "output_type": "display_data"
    }
   ],
   "source": [
    "# create distribution plot and boxplot to check for outliers\n",
    "\n",
    "plt.subplot(121)\n",
    "sns.distplot(rental[\"RentalPerMth\"]);\n",
    "\n",
    "plt.subplot(122)\n",
    "rental[\"RentalPerMth\"].plot.box(figsize=(16,5))\n",
    "\n",
    "plt.show()"
   ]
  },
  {
   "cell_type": "markdown",
   "metadata": {},
   "source": [
    "**Note:** Indeed there are outliers in the RentalPerMth column and they will distort the models to be built later. To overcome this, we will only take into account RentalPerMth less than RM10,000 to be used in model building."
   ]
  },
  {
   "cell_type": "code",
   "execution_count": 22,
   "metadata": {},
   "outputs": [
    {
     "name": "stdout",
     "output_type": "stream",
     "text": [
      "Data type is <class 'pandas.core.frame.DataFrame'> \n",
      "\n",
      "Shape of dataframe is (13016, 8)\n",
      "\n"
     ]
    }
   ],
   "source": [
    "# limit the rentalPerMonth to be less than or equal to RM10,000\n",
    "rental = rental[rental[\"RentalPerMth\"] <= 10000].reset_index(drop=True)\n",
    "\n",
    "print(\"Data type is {0} \\n\\nShape of dataframe is {1}\\n\".format(type(rental), rental.shape))"
   ]
  },
  {
   "cell_type": "markdown",
   "metadata": {},
   "source": [
    "**Note:** The data points have been reduced from 13,086 to 13,016 i.e. 70 outliers have been removed, which is only 0.5% of original data removed."
   ]
  },
  {
   "cell_type": "code",
   "execution_count": 23,
   "metadata": {},
   "outputs": [
    {
     "name": "stdout",
     "output_type": "stream",
     "text": [
      "count   13016.000000\n",
      "mean     2090.654348\n",
      "std      1072.684678\n",
      "min       110.000000\n",
      "25%      1400.000000\n",
      "50%      1800.000000\n",
      "75%      2500.000000\n",
      "max     10000.000000\n",
      "Name: RentalPerMth, dtype: float64\n"
     ]
    }
   ],
   "source": [
    "# have a look at the statistics of the RentalPerMth column\n",
    "with pd.option_context('float_format', '{:f}'.format): print(rental[\"RentalPerMth\"].describe())"
   ]
  },
  {
   "cell_type": "markdown",
   "metadata": {},
   "source": [
    "**Note:** The mean and standard deviation have dropped significantly to 2,090 and 1,072 from 2,879 and 21,623 previously. Let's visualize the distribution again."
   ]
  },
  {
   "cell_type": "code",
   "execution_count": 24,
   "metadata": {},
   "outputs": [
    {
     "data": {
      "image/png": "[encoded data removed]",
      "text/plain": [
       "<Figure size 1152x360 with 2 Axes>"
      ]
     },
     "metadata": {},
     "output_type": "display_data"
    }
   ],
   "source": [
    "# create distribution plot and boxplot to check for outliers\n",
    "\n",
    "plt.subplot(121)\n",
    "sns.distplot(rental[\"RentalPerMth\"]);\n",
    "\n",
    "plt.subplot(122)\n",
    "rental[\"RentalPerMth\"].plot.box(figsize=(16,5))\n",
    "\n",
    "plt.savefig(\"distribution.png\", bbox_inches=\"tight\")\n",
    "\n",
    "plt.show()"
   ]
  },
  {
   "cell_type": "code",
   "execution_count": 25,
   "metadata": {},
   "outputs": [
    {
     "data": {
      "image/png": "[encoded data removed]",
      "text/plain": [
       "<Figure size 1008x576 with 4 Axes>"
      ]
     },
     "metadata": {},
     "output_type": "display_data"
    }
   ],
   "source": [
    "# visualize the relationship using scatter plots\n",
    "\n",
    "plt.figure(figsize=(14, 8))\n",
    "\n",
    "plt.subplot(2, 2, 1)\n",
    "plt.scatter(x=rental[\"BuiltUpSize\"], y=rental[\"RentalPerMth\"])\n",
    "plt.xlabel(\"BuiltUpSize\")\n",
    "plt.ylabel(\"RentalPerMth\")\n",
    "\n",
    "plt.subplot(2, 2, 2)\n",
    "plt.scatter(x=rental[\"NoOfBathroom\"], y=rental[\"RentalPerMth\"])\n",
    "plt.xlabel(\"NoOfBathroom\")\n",
    "plt.ylabel(\"RentalPerMth\")\n",
    "\n",
    "plt.subplot(2, 2, 3)\n",
    "plt.scatter(x=rental[\"NoOfBedroom\"], y=rental[\"RentalPerMth\"])\n",
    "plt.xlabel(\"NoOfBedroom\")\n",
    "plt.ylabel(\"RentalPerMth\")\n",
    "\n",
    "plt.subplot(2, 2, 4)\n",
    "plt.scatter(x=rental[\"NoOfParking\"], y=rental[\"RentalPerMth\"])\n",
    "plt.xlabel(\"NoOfParking\")\n",
    "plt.ylabel(\"RentalPerMth\")\n",
    "\n",
    "plt.savefig(\"scatterplots.png\", bbox_inches=\"tight\")\n",
    "plt.show()"
   ]
  },
  {
   "cell_type": "code",
   "execution_count": 26,
   "metadata": {},
   "outputs": [
    {
     "data": {
      "text/html": [
       "<div>\n",
       "<style scoped>\n",
       "    .dataframe tbody tr th:only-of-type {\n",
       "        vertical-align: middle;\n",
       "    }\n",
       "\n",
       "    .dataframe tbody tr th {\n",
       "        vertical-align: top;\n",
       "    }\n",
       "\n",
       "    .dataframe thead th {\n",
       "        text-align: right;\n",
       "    }\n",
       "</style>\n",
       "<table border=\"1\" class=\"dataframe\">\n",
       "  <thead>\n",
       "    <tr style=\"text-align: right;\">\n",
       "      <th></th>\n",
       "      <th>BuiltUpSize</th>\n",
       "      <th>NoOfBathroom</th>\n",
       "      <th>NoOfBedroom</th>\n",
       "      <th>NoOfParking</th>\n",
       "      <th>RentalPerMth</th>\n",
       "    </tr>\n",
       "  </thead>\n",
       "  <tbody>\n",
       "    <tr>\n",
       "      <th>BuiltUpSize</th>\n",
       "      <td>1.000000</td>\n",
       "      <td>0.712336</td>\n",
       "      <td>0.647470</td>\n",
       "      <td>0.405194</td>\n",
       "      <td>0.399175</td>\n",
       "    </tr>\n",
       "    <tr>\n",
       "      <th>NoOfBathroom</th>\n",
       "      <td>0.712336</td>\n",
       "      <td>1.000000</td>\n",
       "      <td>0.723849</td>\n",
       "      <td>0.376014</td>\n",
       "      <td>0.258629</td>\n",
       "    </tr>\n",
       "    <tr>\n",
       "      <th>NoOfBedroom</th>\n",
       "      <td>0.647470</td>\n",
       "      <td>0.723849</td>\n",
       "      <td>1.000000</td>\n",
       "      <td>0.347061</td>\n",
       "      <td>0.052842</td>\n",
       "    </tr>\n",
       "    <tr>\n",
       "      <th>NoOfParking</th>\n",
       "      <td>0.405194</td>\n",
       "      <td>0.376014</td>\n",
       "      <td>0.347061</td>\n",
       "      <td>1.000000</td>\n",
       "      <td>0.112475</td>\n",
       "    </tr>\n",
       "    <tr>\n",
       "      <th>RentalPerMth</th>\n",
       "      <td>0.399175</td>\n",
       "      <td>0.258629</td>\n",
       "      <td>0.052842</td>\n",
       "      <td>0.112475</td>\n",
       "      <td>1.000000</td>\n",
       "    </tr>\n",
       "  </tbody>\n",
       "</table>\n",
       "</div>"
      ],
      "text/plain": [
       "              BuiltUpSize  NoOfBathroom  NoOfBedroom  NoOfParking  \\\n",
       "BuiltUpSize      1.000000      0.712336     0.647470     0.405194   \n",
       "NoOfBathroom     0.712336      1.000000     0.723849     0.376014   \n",
       "NoOfBedroom      0.647470      0.723849     1.000000     0.347061   \n",
       "NoOfParking      0.405194      0.376014     0.347061     1.000000   \n",
       "RentalPerMth     0.399175      0.258629     0.052842     0.112475   \n",
       "\n",
       "              RentalPerMth  \n",
       "BuiltUpSize       0.399175  \n",
       "NoOfBathroom      0.258629  \n",
       "NoOfBedroom       0.052842  \n",
       "NoOfParking       0.112475  \n",
       "RentalPerMth      1.000000  "
      ]
     },
     "execution_count": 26,
     "metadata": {},
     "output_type": "execute_result"
    }
   ],
   "source": [
    "# calculate correlation matrix\n",
    "corr = rental[[\"BuiltUpSize\", \"NoOfBathroom\", \"NoOfBedroom\", \"NoOfParking\", \"RentalPerMth\"]].corr()\n",
    "corr"
   ]
  },
  {
   "cell_type": "code",
   "execution_count": 27,
   "metadata": {},
   "outputs": [
    {
     "data": {
      "image/png": "[encoded data removed]",
      "text/plain": [
       "<Figure size 576x432 with 2 Axes>"
      ]
     },
     "metadata": {},
     "output_type": "display_data"
    }
   ],
   "source": [
    "# visualize correlation matrix\n",
    "plt.subplots(figsize=(8,6))\n",
    "\n",
    "fig = sns.heatmap(corr, \n",
    "            xticklabels=corr.columns.values,\n",
    "            yticklabels=corr.columns.values)\n",
    "\n",
    "fig.get_figure().savefig(\"corr_heatmap.png\", bbox_inches=\"tight\") "
   ]
  },
  {
   "cell_type": "markdown",
   "metadata": {},
   "source": [
    "**Note:** Built Up Size has the highest correlation (positive) with Rental Per Month as expected. Surprisingly, No of Bathroom has higher correlation with Rental Per Month compared to No of Bedroom."
   ]
  },
  {
   "cell_type": "markdown",
   "metadata": {},
   "source": [
    "## One Hot Encoding\n",
    "\n",
    "Before we build the model, we need to create dummy variables for the three categorical variables: \"State\", \"Furnishing\", \"PropertyType\". We need to perform one hot encoding for the categorical variables by using pandas `get_dummies()` function."
   ]
  },
  {
   "cell_type": "code",
   "execution_count": 28,
   "metadata": {},
   "outputs": [
    {
     "data": {
      "text/html": [
       "<div>\n",
       "<style scoped>\n",
       "    .dataframe tbody tr th:only-of-type {\n",
       "        vertical-align: middle;\n",
       "    }\n",
       "\n",
       "    .dataframe tbody tr th {\n",
       "        vertical-align: top;\n",
       "    }\n",
       "\n",
       "    .dataframe thead th {\n",
       "        text-align: right;\n",
       "    }\n",
       "</style>\n",
       "<table border=\"1\" class=\"dataframe\">\n",
       "  <thead>\n",
       "    <tr style=\"text-align: right;\">\n",
       "      <th></th>\n",
       "      <th>BuiltUpSize</th>\n",
       "      <th>NoOfBathroom</th>\n",
       "      <th>NoOfBedroom</th>\n",
       "      <th>NoOfParking</th>\n",
       "      <th>RentalPerMth</th>\n",
       "      <th>State_johor</th>\n",
       "      <th>State_kuala-lumpur</th>\n",
       "      <th>State_putrajaya</th>\n",
       "      <th>State_selangor</th>\n",
       "      <th>Furnishing_Fully Furnished</th>\n",
       "      <th>...</th>\n",
       "      <th>PropertyType_4-sty Terrace/Link House</th>\n",
       "      <th>PropertyType_Apartment</th>\n",
       "      <th>PropertyType_Bungalow</th>\n",
       "      <th>PropertyType_Cluster House</th>\n",
       "      <th>PropertyType_Condominium</th>\n",
       "      <th>PropertyType_Flat</th>\n",
       "      <th>PropertyType_Residential Land</th>\n",
       "      <th>PropertyType_Semi-detached House</th>\n",
       "      <th>PropertyType_Serviced Residence</th>\n",
       "      <th>PropertyType_Townhouse</th>\n",
       "    </tr>\n",
       "  </thead>\n",
       "  <tbody>\n",
       "    <tr>\n",
       "      <th>0</th>\n",
       "      <td>1000</td>\n",
       "      <td>2</td>\n",
       "      <td>3</td>\n",
       "      <td>1</td>\n",
       "      <td>2200</td>\n",
       "      <td>0</td>\n",
       "      <td>0</td>\n",
       "      <td>0</td>\n",
       "      <td>1</td>\n",
       "      <td>1</td>\n",
       "      <td>...</td>\n",
       "      <td>0</td>\n",
       "      <td>0</td>\n",
       "      <td>0</td>\n",
       "      <td>0</td>\n",
       "      <td>1</td>\n",
       "      <td>0</td>\n",
       "      <td>0</td>\n",
       "      <td>0</td>\n",
       "      <td>0</td>\n",
       "      <td>0</td>\n",
       "    </tr>\n",
       "    <tr>\n",
       "      <th>1</th>\n",
       "      <td>1057</td>\n",
       "      <td>2</td>\n",
       "      <td>3</td>\n",
       "      <td>1</td>\n",
       "      <td>1980</td>\n",
       "      <td>0</td>\n",
       "      <td>0</td>\n",
       "      <td>0</td>\n",
       "      <td>1</td>\n",
       "      <td>1</td>\n",
       "      <td>...</td>\n",
       "      <td>0</td>\n",
       "      <td>0</td>\n",
       "      <td>0</td>\n",
       "      <td>0</td>\n",
       "      <td>1</td>\n",
       "      <td>0</td>\n",
       "      <td>0</td>\n",
       "      <td>0</td>\n",
       "      <td>0</td>\n",
       "      <td>0</td>\n",
       "    </tr>\n",
       "    <tr>\n",
       "      <th>2</th>\n",
       "      <td>1488</td>\n",
       "      <td>3</td>\n",
       "      <td>3</td>\n",
       "      <td>3</td>\n",
       "      <td>4500</td>\n",
       "      <td>0</td>\n",
       "      <td>0</td>\n",
       "      <td>0</td>\n",
       "      <td>1</td>\n",
       "      <td>0</td>\n",
       "      <td>...</td>\n",
       "      <td>0</td>\n",
       "      <td>0</td>\n",
       "      <td>0</td>\n",
       "      <td>0</td>\n",
       "      <td>1</td>\n",
       "      <td>0</td>\n",
       "      <td>0</td>\n",
       "      <td>0</td>\n",
       "      <td>0</td>\n",
       "      <td>0</td>\n",
       "    </tr>\n",
       "    <tr>\n",
       "      <th>3</th>\n",
       "      <td>871</td>\n",
       "      <td>2</td>\n",
       "      <td>2</td>\n",
       "      <td>2</td>\n",
       "      <td>2500</td>\n",
       "      <td>0</td>\n",
       "      <td>0</td>\n",
       "      <td>0</td>\n",
       "      <td>1</td>\n",
       "      <td>1</td>\n",
       "      <td>...</td>\n",
       "      <td>0</td>\n",
       "      <td>0</td>\n",
       "      <td>0</td>\n",
       "      <td>0</td>\n",
       "      <td>1</td>\n",
       "      <td>0</td>\n",
       "      <td>0</td>\n",
       "      <td>0</td>\n",
       "      <td>0</td>\n",
       "      <td>0</td>\n",
       "    </tr>\n",
       "    <tr>\n",
       "      <th>4</th>\n",
       "      <td>700</td>\n",
       "      <td>1</td>\n",
       "      <td>1</td>\n",
       "      <td>1</td>\n",
       "      <td>1300</td>\n",
       "      <td>0</td>\n",
       "      <td>0</td>\n",
       "      <td>0</td>\n",
       "      <td>1</td>\n",
       "      <td>0</td>\n",
       "      <td>...</td>\n",
       "      <td>0</td>\n",
       "      <td>0</td>\n",
       "      <td>0</td>\n",
       "      <td>0</td>\n",
       "      <td>1</td>\n",
       "      <td>0</td>\n",
       "      <td>0</td>\n",
       "      <td>0</td>\n",
       "      <td>0</td>\n",
       "      <td>0</td>\n",
       "    </tr>\n",
       "  </tbody>\n",
       "</table>\n",
       "<p>5 rows × 27 columns</p>\n",
       "</div>"
      ],
      "text/plain": [
       "   BuiltUpSize  NoOfBathroom  NoOfBedroom  NoOfParking  RentalPerMth  \\\n",
       "0         1000             2            3            1          2200   \n",
       "1         1057             2            3            1          1980   \n",
       "2         1488             3            3            3          4500   \n",
       "3          871             2            2            2          2500   \n",
       "4          700             1            1            1          1300   \n",
       "\n",
       "   State_johor  State_kuala-lumpur  State_putrajaya  State_selangor  \\\n",
       "0            0                   0                0               1   \n",
       "1            0                   0                0               1   \n",
       "2            0                   0                0               1   \n",
       "3            0                   0                0               1   \n",
       "4            0                   0                0               1   \n",
       "\n",
       "   Furnishing_Fully Furnished           ...            \\\n",
       "0                           1           ...             \n",
       "1                           1           ...             \n",
       "2                           0           ...             \n",
       "3                           1           ...             \n",
       "4                           0           ...             \n",
       "\n",
       "   PropertyType_4-sty Terrace/Link House  PropertyType_Apartment  \\\n",
       "0                                      0                       0   \n",
       "1                                      0                       0   \n",
       "2                                      0                       0   \n",
       "3                                      0                       0   \n",
       "4                                      0                       0   \n",
       "\n",
       "   PropertyType_Bungalow  PropertyType_Cluster House  \\\n",
       "0                      0                           0   \n",
       "1                      0                           0   \n",
       "2                      0                           0   \n",
       "3                      0                           0   \n",
       "4                      0                           0   \n",
       "\n",
       "   PropertyType_Condominium  PropertyType_Flat  PropertyType_Residential Land  \\\n",
       "0                         1                  0                              0   \n",
       "1                         1                  0                              0   \n",
       "2                         1                  0                              0   \n",
       "3                         1                  0                              0   \n",
       "4                         1                  0                              0   \n",
       "\n",
       "   PropertyType_Semi-detached House  PropertyType_Serviced Residence  \\\n",
       "0                                 0                                0   \n",
       "1                                 0                                0   \n",
       "2                                 0                                0   \n",
       "3                                 0                                0   \n",
       "4                                 0                                0   \n",
       "\n",
       "   PropertyType_Townhouse  \n",
       "0                       0  \n",
       "1                       0  \n",
       "2                       0  \n",
       "3                       0  \n",
       "4                       0  \n",
       "\n",
       "[5 rows x 27 columns]"
      ]
     },
     "execution_count": 28,
     "metadata": {},
     "output_type": "execute_result"
    }
   ],
   "source": [
    "# one hot encoding\n",
    "rental_df = pd.get_dummies(rental)\n",
    "\n",
    "rental_df.head()"
   ]
  },
  {
   "cell_type": "code",
   "execution_count": 29,
   "metadata": {},
   "outputs": [
    {
     "name": "stdout",
     "output_type": "stream",
     "text": [
      "(13016, 27) \n",
      "\n",
      "<class 'pandas.core.frame.DataFrame'>\n",
      "RangeIndex: 13016 entries, 0 to 13015\n",
      "Data columns (total 27 columns):\n",
      "BuiltUpSize                                13016 non-null int64\n",
      "NoOfBathroom                               13016 non-null int64\n",
      "NoOfBedroom                                13016 non-null int64\n",
      "NoOfParking                                13016 non-null int64\n",
      "RentalPerMth                               13016 non-null int64\n",
      "State_johor                                13016 non-null uint8\n",
      "State_kuala-lumpur                         13016 non-null uint8\n",
      "State_putrajaya                            13016 non-null uint8\n",
      "State_selangor                             13016 non-null uint8\n",
      "Furnishing_Fully Furnished                 13016 non-null uint8\n",
      "Furnishing_Partly Furnished                13016 non-null uint8\n",
      "Furnishing_Unfurnished                     13016 non-null uint8\n",
      "PropertyType_1-sty Terrace/Link House      13016 non-null uint8\n",
      "PropertyType_1.5-sty Terrace/Link House    13016 non-null uint8\n",
      "PropertyType_2-sty Terrace/Link House      13016 non-null uint8\n",
      "PropertyType_2.5-sty Terrace/Link House    13016 non-null uint8\n",
      "PropertyType_3-sty Terrace/Link House      13016 non-null uint8\n",
      "PropertyType_4-sty Terrace/Link House      13016 non-null uint8\n",
      "PropertyType_Apartment                     13016 non-null uint8\n",
      "PropertyType_Bungalow                      13016 non-null uint8\n",
      "PropertyType_Cluster House                 13016 non-null uint8\n",
      "PropertyType_Condominium                   13016 non-null uint8\n",
      "PropertyType_Flat                          13016 non-null uint8\n",
      "PropertyType_Residential Land              13016 non-null uint8\n",
      "PropertyType_Semi-detached House           13016 non-null uint8\n",
      "PropertyType_Serviced Residence            13016 non-null uint8\n",
      "PropertyType_Townhouse                     13016 non-null uint8\n",
      "dtypes: int64(5), uint8(22)\n",
      "memory usage: 788.2 KB\n"
     ]
    }
   ],
   "source": [
    "# check summary info to see if one hot encoding is done properly\n",
    "print(rental_df.shape, \"\\n\")\n",
    "rental_df.info()"
   ]
  },
  {
   "cell_type": "markdown",
   "metadata": {},
   "source": [
    "***\n",
    "# Train and Build Models\n",
    "We will build several models to predict \"RentalPerMonth\" as target variable using seven features i.e. \"BuiltUpSize\", \"NoOfBathroom\", \"NoOfBedroom\", \"NoOfParking\", \"State\", \"Furnishing\", and \"PropertyType\"."
   ]
  },
  {
   "cell_type": "code",
   "execution_count": 30,
   "metadata": {},
   "outputs": [],
   "source": [
    "# separate data into X features and Y target\n",
    "X = rental_df.drop(columns=[\"RentalPerMth\"])\n",
    "Y = rental_df[\"RentalPerMth\"]"
   ]
  },
  {
   "cell_type": "code",
   "execution_count": 31,
   "metadata": {},
   "outputs": [],
   "source": [
    "# split data into random train and test subsets\n",
    "\n",
    "from sklearn.model_selection import train_test_split\n",
    "\n",
    "X_train, X_test, y_train, y_test = train_test_split(X, Y, test_size=0.25, random_state=0)"
   ]
  },
  {
   "cell_type": "markdown",
   "metadata": {},
   "source": [
    "***\n",
    "# <a name=\"lr\">Linear Regression</a> #"
   ]
  },
  {
   "cell_type": "code",
   "execution_count": 32,
   "metadata": {},
   "outputs": [
    {
     "data": {
      "text/plain": [
       "LinearRegression(copy_X=True, fit_intercept=True, n_jobs=1, normalize=False)"
      ]
     },
     "execution_count": 32,
     "metadata": {},
     "output_type": "execute_result"
    }
   ],
   "source": [
    "# fit a Linear Regression Model\n",
    "from sklearn.linear_model import LinearRegression\n",
    "regressor = LinearRegression()\n",
    "regressor.fit(X_train, y_train)"
   ]
  },
  {
   "cell_type": "code",
   "execution_count": 33,
   "metadata": {},
   "outputs": [],
   "source": [
    "# make predictions\n",
    "y_pred = regressor.predict(X_test)"
   ]
  },
  {
   "cell_type": "code",
   "execution_count": 34,
   "metadata": {},
   "outputs": [
    {
     "name": "stdout",
     "output_type": "stream",
     "text": [
      "Liner Regression R-squared: 0.4496332622653895\n"
     ]
    }
   ],
   "source": [
    "# calculate R-squared\n",
    "print(\"Liner Regression R-squared: {}\".format(regressor.score(X_test, y_test)))"
   ]
  },
  {
   "cell_type": "code",
   "execution_count": 35,
   "metadata": {},
   "outputs": [
    {
     "name": "stdout",
     "output_type": "stream",
     "text": [
      "Liner Regression R-squared: 0.4496332622653896\n"
     ]
    }
   ],
   "source": [
    "# another method of calculating R-squared\n",
    "from sklearn.metrics import r2_score\n",
    "lin_r2 = r2_score(y_test, y_pred)\n",
    "\n",
    "print(\"Liner Regression R-squared: {}\".format(lin_r2))"
   ]
  },
  {
   "cell_type": "markdown",
   "metadata": {},
   "source": [
    "**Note: ** The R-squared shows the goodness of fit of the model, it indicates that 44.96% of the variability in Y (Rental Per Month) can be explained using X (the seven features i.e. \"BuiltUpSize\", \"NoOfBathroom\", \"NoOfBedroom\", \"NoOfParking\", \"State\", \"Furnishing\", and \"PropertyType\".)."
   ]
  },
  {
   "cell_type": "code",
   "execution_count": 36,
   "metadata": {},
   "outputs": [
    {
     "name": "stdout",
     "output_type": "stream",
     "text": [
      "Liner Regression RMSE: 799.2724851986891\n"
     ]
    }
   ],
   "source": [
    "# calculate root mean squared error (RMSE)\n",
    "from sklearn.metrics import mean_squared_error\n",
    "\n",
    "lin_mse = mean_squared_error(y_pred, y_test)\n",
    "lin_rmse = np.sqrt(lin_mse)\n",
    "print(\"Liner Regression RMSE: {}\".format(lin_rmse))"
   ]
  },
  {
   "cell_type": "code",
   "execution_count": 37,
   "metadata": {},
   "outputs": [
    {
     "name": "stdout",
     "output_type": "stream",
     "text": [
      "Liner Regression MAE: 521.5524841211809\n"
     ]
    }
   ],
   "source": [
    "# calculate mean absolute error (MAE)\n",
    "from sklearn.metrics import mean_absolute_error\n",
    "\n",
    "lin_mae = mean_absolute_error(y_pred, y_test)\n",
    "print(\"Liner Regression MAE: {}\".format(lin_mae))"
   ]
  },
  {
   "cell_type": "code",
   "execution_count": 38,
   "metadata": {},
   "outputs": [
    {
     "name": "stdout",
     "output_type": "stream",
     "text": [
      "PropertyType_3-sty Terrace/Link House : -1102.4157279163671\n",
      "PropertyType_Bungalow : -1037.4929212507136\n",
      "PropertyType_Cluster House : -853.32537163674\n",
      "PropertyType_Semi-detached House : -397.7946647750431\n",
      "State_johor : -372.0595869861387\n",
      "NoOfBedroom : -335.7293411135535\n",
      "PropertyType_2-sty Terrace/Link House : -288.92200805683234\n",
      "Furnishing_Partly Furnished : -274.7742123240336\n",
      "PropertyType_1.5-sty Terrace/Link House : -179.00399967572247\n",
      "State_selangor : -146.89350601762123\n",
      "Furnishing_Unfurnished : -107.69077948809557\n",
      "State_putrajaya : -3.556736066567613\n",
      "NoOfParking : -1.817187537568867\n",
      "BuiltUpSize : 1.4239215787244168\n",
      "PropertyType_2.5-sty Terrace/Link House : 22.154976533329155\n",
      "PropertyType_Townhouse : 106.1905732785825\n",
      "PropertyType_Residential Land : 119.98328318066446\n",
      "PropertyType_1-sty Terrace/Link House : 151.38673124692647\n",
      "NoOfBathroom : 297.29528936095545\n",
      "Furnishing_Fully Furnished : 382.4649918121911\n",
      "PropertyType_Flat : 480.3798778084975\n",
      "PropertyType_Apartment : 494.3207361482097\n",
      "State_kuala-lumpur : 522.5098290700763\n",
      "PropertyType_Condominium : 705.748802203372\n",
      "PropertyType_4-sty Terrace/Link House : 852.5876385454096\n",
      "PropertyType_Serviced Residence : 926.2020743677823\n"
     ]
    }
   ],
   "source": [
    "# get feature coefficients\n",
    "importance = regressor.coef_\n",
    "feature_indexes_by_importance = importance.argsort()\n",
    "for index in feature_indexes_by_importance:\n",
    "    print('{} : {}'.format(X_train.columns[index], (importance[index] )))"
   ]
  },
  {
   "cell_type": "markdown",
   "metadata": {},
   "source": [
    "***\n",
    "# <a name=\"rf\">Random Forest</a> #\n",
    "\n",
    "\n",
    "\n",
    "\n",
    "We know that error can be composited from bias and variance:\n",
    "- error = bias + variance\n",
    "\n",
    "A too complex model has low bias but large variance, while a too simple model has low variance but large bias, both leading to a high error but two different reasons. As a result, two different ways to solve the problem come into people's mind (maybe Breiman and others), variance reduction for a complex model, or bias reduction for a simple model, which refers to random forest and boosting. These are two opposite way to achieve a low error.\n",
    "\n",
    "A Random Forest is an ensemble technique capable of performing both regression and classification tasks with the use of multiple decision trees and a technique called Bootstrap Aggregation, commonly known as bagging.Bagging, in the Random Forest method, involves training each decision tree on a different data sample where sampling is done with replacement. The basic idea behind this is to combine multiple decision trees in determining the final output rather than relying on individual decision trees, thus helps to tackle the problem of overfitting in decision trees. Random forest reduces variance of a large number of \"complex\" models with low bias. We can see the composition elements are not \"weak\" models but too complex models. The underlying trees are planted \"somewhat\" as large as \"possible\", or fully grown decision trees (low bias, high variance). The underlying trees are independent parallel models. In other words, the trees are made uncorrelated to maximize the decrease in variance, but the algorithm cannot reduce bias (which is slightly higher than the bias of an individual tree in the forest). Hence the need for large, unpruned trees, so that the bias is initially as low as possible. And additional random variable selection is introduced into them to make them even more independent, which makes it perform better than ordinary bagging and entitle the name \"random\". In other words, the decision trees are randomly constructed by selecting random features from the given dataset. Features are selected randomly using a method known as bootstrap aggregating or bagging. From the set of features available in the dataset, a number of training subsets are created by choosing random features with replacement. What this means is that one feature may be repeated in different training subsets at the same time. For example, if a dataset contains 20 features and subsets of 5 features are to be selected to construct different decision trees then these 5 features will be selected randomly and any feature can be a part of more than one subset. This ensures randomness, making the correlation between the trees less, thus overcoming the problem of overfitting. Once the features are selected, the trees are constructed based on the best split. Each tree gives an output which is considered as a ‘vote’ from that tree to the given output. The output which receives the maximum ‘votes’ is chosen by the random forest as the final output/result or in case of continuous variables, the average of all the outputs is considered as the final output. The random forest model is very good at handling tabular data with numerical features, or categorical features with fewer than hundreds of categories. Unlike linear models, random forests are able to capture non-linear interaction between the features and the target.\n",
    "\n",
    "On the other hand, boosting reduces bias of a large number of \"small\" models with low variance. They are \"weak\" models or weak learners (high bias, low variance). In terms of decision trees, weak learners are shallow trees, sometimes even as small as decision stumps (trees with two leaves). Boosting reduces error mainly by reducing bias (and also to some extent variance, by aggregating the output from many models). The underlying elements are somehow like a \"chain\" or \"nested\" iterative model about the bias of each level. So they are not independent parallel models but each model is built based on all the former small models by weighting. That is so-called \"boosting\" from one by one. An example is the Gradient Boosting which is the next algorithm. Gradient Boosting produces a prediction model in the form of an ensemble of weak prediction models, typically decision trees. It builds the model in a stage-wise fashion like other boosting methods do, and it generalizes them by allowing optimization of an arbitrary differentiable loss function. \n",
    "\n",
    "\n",
    "### Baseline Model - Random Foresst\n",
    "- n_estimators : integer, optional (default=10)\n",
    " - Changed in version 0.20: The default value of n_estimators will change from 10 in version 0.20 to 100 in version 0.22.\n",
    "- max_depth : integer or None, optional (default=None)\n",
    " - The maximum depth of the tree. If None, then nodes are expanded until all leaves are pure or until all leaves contain less than min_samples_split samples.\n"
   ]
  },
  {
   "cell_type": "code",
   "execution_count": 39,
   "metadata": {},
   "outputs": [
    {
     "data": {
      "text/plain": [
       "'0.19.1'"
      ]
     },
     "execution_count": 39,
     "metadata": {},
     "output_type": "execute_result"
    }
   ],
   "source": [
    "import sklearn\n",
    "sklearn.__version__"
   ]
  },
  {
   "cell_type": "code",
   "execution_count": 40,
   "metadata": {},
   "outputs": [],
   "source": [
    "# import libraries, we will use GridSearchCV to find the best parameter values\n",
    "from sklearn.ensemble import RandomForestRegressor\n",
    "rf = RandomForestRegressor(random_state=0)"
   ]
  },
  {
   "cell_type": "code",
   "execution_count": 41,
   "metadata": {},
   "outputs": [
    {
     "data": {
      "text/plain": [
       "RandomForestRegressor(bootstrap=True, criterion='mse', max_depth=None,\n",
       "           max_features='auto', max_leaf_nodes=None,\n",
       "           min_impurity_decrease=0.0, min_impurity_split=None,\n",
       "           min_samples_leaf=1, min_samples_split=2,\n",
       "           min_weight_fraction_leaf=0.0, n_estimators=10, n_jobs=1,\n",
       "           oob_score=False, random_state=0, verbose=0, warm_start=False)"
      ]
     },
     "execution_count": 41,
     "metadata": {},
     "output_type": "execute_result"
    }
   ],
   "source": [
    "# fit the model\n",
    "rf.fit(X_train, y_train)"
   ]
  },
  {
   "cell_type": "code",
   "execution_count": 42,
   "metadata": {},
   "outputs": [],
   "source": [
    "# make predictions \n",
    "y_pred = rf.predict(X_test)"
   ]
  },
  {
   "cell_type": "code",
   "execution_count": 43,
   "metadata": {},
   "outputs": [
    {
     "name": "stdout",
     "output_type": "stream",
     "text": [
      "Random Forest R-squared: 0.7772247095353069\n"
     ]
    }
   ],
   "source": [
    "# calculate R-squared\n",
    "print(\"Random Forest R-squared: {}\".format(rf.score(X_test, y_test)))"
   ]
  },
  {
   "cell_type": "code",
   "execution_count": 44,
   "metadata": {},
   "outputs": [
    {
     "name": "stdout",
     "output_type": "stream",
     "text": [
      "Random Forest R-squared: 0.7772247095353069\n"
     ]
    }
   ],
   "source": [
    "# another method of calculating R-squared\n",
    "from sklearn.metrics import r2_score\n",
    "forest_r2 = r2_score(y_test, y_pred)\n",
    "\n",
    "print(\"Random Forest R-squared: {}\".format(forest_r2))"
   ]
  },
  {
   "cell_type": "code",
   "execution_count": 45,
   "metadata": {},
   "outputs": [
    {
     "name": "stdout",
     "output_type": "stream",
     "text": [
      "Random Forest Regression RMSE: 508.5132606591462\n"
     ]
    }
   ],
   "source": [
    "# calculate root mean squared error (RMSE)\n",
    "from sklearn.metrics import mean_squared_error\n",
    "\n",
    "forest_mse = mean_squared_error(y_pred, y_test)\n",
    "forest_rmse = np.sqrt(forest_mse)\n",
    "print(\"Random Forest Regression RMSE: {}\".format(forest_rmse))"
   ]
  },
  {
   "cell_type": "code",
   "execution_count": 46,
   "metadata": {},
   "outputs": [
    {
     "name": "stdout",
     "output_type": "stream",
     "text": [
      "Random Forest Regression MAE: 270.57493984697646\n"
     ]
    }
   ],
   "source": [
    "# calculate mean absolute error (MAE)\n",
    "from sklearn.metrics import mean_absolute_error\n",
    "\n",
    "forest_mae = mean_absolute_error(y_pred, y_test)\n",
    "print(\"Random Forest Regression MAE: {}\".format(forest_mae))"
   ]
  },
  {
   "cell_type": "markdown",
   "metadata": {},
   "source": [
    "### GridSearchCV - Random Foresst"
   ]
  },
  {
   "cell_type": "code",
   "execution_count": 47,
   "metadata": {},
   "outputs": [],
   "source": [
    "# import libraries, we will use GridSearchCV to find the best parameter values\n",
    "from sklearn.ensemble import RandomForestRegressor\n",
    "from sklearn.model_selection import GridSearchCV"
   ]
  },
  {
   "cell_type": "code",
   "execution_count": 48,
   "metadata": {},
   "outputs": [],
   "source": [
    "# provide range for max_depth from 1 to 5 with an interval of 1 and from 1 to 50 with an interval of 1 for n_estimators\n",
    "params = {'max_depth': list(range(20, 30, 2)), 'n_estimators': list(range(30, 40, 2))}\n",
    "rf = RandomForestRegressor(random_state=0)"
   ]
  },
  {
   "cell_type": "code",
   "execution_count": 49,
   "metadata": {},
   "outputs": [],
   "source": [
    "# use gridsearch to find the best parameter\n",
    "forest_reg = GridSearchCV(rf, params, cv=5)"
   ]
  },
  {
   "cell_type": "code",
   "execution_count": 50,
   "metadata": {},
   "outputs": [
    {
     "name": "stdout",
     "output_type": "stream",
     "text": [
      "Wall time: 1min 22s\n"
     ]
    },
    {
     "data": {
      "text/plain": [
       "GridSearchCV(cv=5, error_score='raise',\n",
       "       estimator=RandomForestRegressor(bootstrap=True, criterion='mse', max_depth=None,\n",
       "           max_features='auto', max_leaf_nodes=None,\n",
       "           min_impurity_decrease=0.0, min_impurity_split=None,\n",
       "           min_samples_leaf=1, min_samples_split=2,\n",
       "           min_weight_fraction_leaf=0.0, n_estimators=10, n_jobs=1,\n",
       "           oob_score=False, random_state=0, verbose=0, warm_start=False),\n",
       "       fit_params=None, iid=True, n_jobs=1,\n",
       "       param_grid={'max_depth': [20, 22, 24, 26, 28], 'n_estimators': [30, 32, 34, 36, 38]},\n",
       "       pre_dispatch='2*n_jobs', refit=True, return_train_score='warn',\n",
       "       scoring=None, verbose=0)"
      ]
     },
     "execution_count": 50,
     "metadata": {},
     "output_type": "execute_result"
    }
   ],
   "source": [
    "%%time\n",
    "# fit the model\n",
    "forest_reg.fit(X_train, y_train)"
   ]
  },
  {
   "cell_type": "code",
   "execution_count": 51,
   "metadata": {},
   "outputs": [
    {
     "data": {
      "text/plain": [
       "RandomForestRegressor(bootstrap=True, criterion='mse', max_depth=24,\n",
       "           max_features='auto', max_leaf_nodes=None,\n",
       "           min_impurity_decrease=0.0, min_impurity_split=None,\n",
       "           min_samples_leaf=1, min_samples_split=2,\n",
       "           min_weight_fraction_leaf=0.0, n_estimators=36, n_jobs=1,\n",
       "           oob_score=False, random_state=0, verbose=0, warm_start=False)"
      ]
     },
     "execution_count": 51,
     "metadata": {},
     "output_type": "execute_result"
    }
   ],
   "source": [
    "# best estimator learned through GridSearch\n",
    "forest_reg.best_estimator_"
   ]
  },
  {
   "cell_type": "code",
   "execution_count": 52,
   "metadata": {},
   "outputs": [
    {
     "name": "stdout",
     "output_type": "stream",
     "text": [
      "Best Params: {'max_depth': 24, 'n_estimators': 36}\n"
     ]
    }
   ],
   "source": [
    "# best parameter values\n",
    "print(\"Best Params:\", forest_reg.best_params_)"
   ]
  },
  {
   "cell_type": "code",
   "execution_count": 53,
   "metadata": {},
   "outputs": [
    {
     "name": "stdout",
     "output_type": "stream",
     "text": [
      "Best CV Score: 0.7795235951442699\n"
     ]
    }
   ],
   "source": [
    "# best CV score\n",
    "print(\"Best CV Score:\", forest_reg.best_score_)"
   ]
  },
  {
   "cell_type": "code",
   "execution_count": 54,
   "metadata": {},
   "outputs": [],
   "source": [
    "# make predictions\n",
    "y_pred = forest_reg.predict(X_test)"
   ]
  },
  {
   "cell_type": "code",
   "execution_count": 55,
   "metadata": {},
   "outputs": [
    {
     "name": "stdout",
     "output_type": "stream",
     "text": [
      "Random Forest R-squared: 0.7798695023410338\n"
     ]
    }
   ],
   "source": [
    "# calculate R-squared\n",
    "print(\"Random Forest R-squared: {}\".format(forest_reg.score(X_test, y_test)))"
   ]
  },
  {
   "cell_type": "code",
   "execution_count": 56,
   "metadata": {},
   "outputs": [
    {
     "name": "stdout",
     "output_type": "stream",
     "text": [
      "Random Forest R-squared: 0.7798695023410338\n"
     ]
    }
   ],
   "source": [
    "# another method of calculating R-squared\n",
    "from sklearn.metrics import r2_score\n",
    "forest_r2 = r2_score(y_test, y_pred)\n",
    "\n",
    "print(\"Random Forest R-squared: {}\".format(forest_r2))"
   ]
  },
  {
   "cell_type": "code",
   "execution_count": 57,
   "metadata": {},
   "outputs": [
    {
     "name": "stdout",
     "output_type": "stream",
     "text": [
      "Random Forest Regression RMSE: 505.4857081217406\n"
     ]
    }
   ],
   "source": [
    "# calculate root mean squared error (RMSE)\n",
    "from sklearn.metrics import mean_squared_error\n",
    "\n",
    "forest_mse = mean_squared_error(y_pred, y_test)\n",
    "forest_rmse = np.sqrt(forest_mse)\n",
    "print(\"Random Forest Regression RMSE: {}\".format(forest_rmse))"
   ]
  },
  {
   "cell_type": "code",
   "execution_count": 58,
   "metadata": {},
   "outputs": [
    {
     "name": "stdout",
     "output_type": "stream",
     "text": [
      "Random Forest Regression MAE: 268.5287022901969\n"
     ]
    }
   ],
   "source": [
    "# calculate mean absolute error (MAE)\n",
    "from sklearn.metrics import mean_absolute_error\n",
    "\n",
    "forest_mae = mean_absolute_error(y_pred, y_test)\n",
    "print(\"Random Forest Regression MAE: {}\".format(forest_mae))"
   ]
  },
  {
   "cell_type": "markdown",
   "metadata": {},
   "source": [
    "**Note: ** R-squared improved to 0.7799 i.e. 77.99% of the variability in Y can be explained using X. RMSE reduced to 505.49 and MAE reduced to 268.53."
   ]
  },
  {
   "cell_type": "code",
   "execution_count": 59,
   "metadata": {},
   "outputs": [
    {
     "name": "stdout",
     "output_type": "stream",
     "text": [
      "PropertyType_Residential Land : 1.5088517054856133e-05\n",
      "PropertyType_1.5-sty Terrace/Link House : 0.0001368613140955323\n",
      "PropertyType_4-sty Terrace/Link House : 0.0001476752697683299\n",
      "State_putrajaya : 0.0002767984648434217\n",
      "PropertyType_Cluster House : 0.0003099969568699101\n",
      "PropertyType_1-sty Terrace/Link House : 0.0008502207506212665\n",
      "PropertyType_Townhouse : 0.0008817927661490166\n",
      "PropertyType_2.5-sty Terrace/Link House : 0.0009795635014364984\n",
      "PropertyType_Flat : 0.0013506500486091975\n",
      "PropertyType_3-sty Terrace/Link House : 0.0016192501134299742\n",
      "PropertyType_Semi-detached House : 0.0018234615467762711\n",
      "Furnishing_Unfurnished : 0.004746165175885332\n",
      "PropertyType_2-sty Terrace/Link House : 0.004762535841327647\n",
      "State_selangor : 0.006076595629641783\n",
      "Furnishing_Partly Furnished : 0.0069903634548313985\n",
      "PropertyType_Bungalow : 0.007570775579067777\n",
      "State_johor : 0.007668945040040014\n",
      "PropertyType_Condominium : 0.014251076244809239\n",
      "PropertyType_Apartment : 0.014446810380289186\n",
      "NoOfParking : 0.03594517467226946\n",
      "NoOfBathroom : 0.04046197966808043\n",
      "PropertyType_Serviced Residence : 0.044070216792083644\n",
      "NoOfBedroom : 0.06232484186004742\n",
      "Furnishing_Fully Furnished : 0.1226457309166244\n",
      "State_kuala-lumpur : 0.14078279170346444\n",
      "BuiltUpSize : 0.47886463779188365\n"
     ]
    }
   ],
   "source": [
    "# get feature importances\n",
    "importance = forest_reg.best_estimator_.feature_importances_\n",
    "\n",
    "feature_indexes_by_importance = importance.argsort()\n",
    "for index in feature_indexes_by_importance:\n",
    "    print('{} : {}'.format(X_train.columns[index], (importance[index] )))"
   ]
  },
  {
   "cell_type": "code",
   "execution_count": 60,
   "metadata": {},
   "outputs": [
    {
     "data": {
      "text/plain": [
       "<matplotlib.axes._subplots.AxesSubplot at 0x209a0a0b1d0>"
      ]
     },
     "execution_count": 60,
     "metadata": {},
     "output_type": "execute_result"
    },
    {
     "data": {
      "image/png": "[encoded data removed]",
      "text/plain": [
       "<Figure size 720x432 with 1 Axes>"
      ]
     },
     "metadata": {},
     "output_type": "display_data"
    }
   ],
   "source": [
    "plt.figure(figsize=(10,6))\n",
    "plt.title(\"Feature Importances\")\n",
    "feat_importances = pd.Series(forest_reg.best_estimator_.feature_importances_, index=X_train.columns)\n",
    "feat_importances.sort_values().plot(kind=\"barh\", color=\"Green\")\n",
    "# feat_importances.nlargest(20).plot(kind='barh') # top 20 features only\n"
   ]
  },
  {
   "cell_type": "markdown",
   "metadata": {},
   "source": [
    "**Note: ** The top three most important features are BuiltUpSize, State, and Furnishing. And the least important feature is No of Parking. The ranking of feature importances from most important to least important is: \"BuiltUpSize\", \"State\", \"Furnishing\", \"PropertyType\", \"NoOfBathroom\", \"NoOfBedroom\", \"NoOfParking\". Interestingly, No Of Bathroom has more impact on Rental Per Month compared to No Of Bedroom which seems to contradict conventional wisdom. We will compare this Random Forest result with the next model i.e. Gradient Boosting Regressor."
   ]
  },
  {
   "cell_type": "markdown",
   "metadata": {},
   "source": [
    "***\n",
    "# <a name=\"gb\">Gradient Boosting Regressor</a> #\n",
    "### Baseline Model - Gradient Boosting Regressor\n",
    "- learning_rate : float, optional (default=0.1)\n",
    " - learning rate shrinks the contribution of each tree by learning_rate. There is a trade-off between learning_rate and n_estimators.\n",
    "- n_estimators : int (default=100)\n",
    " - The number of boosting stages to perform. Gradient boosting is fairly robust to over-fitting so a large number usually results in better performance.\n",
    "- max_depth : integer, optional (default=3)\n",
    " - maximum depth of the individual regression estimators. The maximum depth limits the number of nodes in the tree. Tune this parameter for best performance; the best value depends on the interaction of the input variables.\n",
    "- max_features : int, float, string or None, optional (default=None)\n",
    " - The number of features to consider when looking for the best split:\n",
    "    - If int, then consider max_features features at each split.\n",
    "    - If float, then max_features is a fraction and int(max_features * n_features) features are considered at each split.\n",
    "    - If “auto”, then max_features=n_features.\n",
    "    - If “sqrt”, then max_features=sqrt(n_features).\n",
    "    - If “log2”, then max_features=log2(n_features).\n",
    "    - If None, then max_features=n_features.\n"
   ]
  },
  {
   "cell_type": "code",
   "execution_count": 61,
   "metadata": {},
   "outputs": [],
   "source": [
    "# import GradientBoostingRegressor\n",
    "from sklearn.ensemble import GradientBoostingRegressor\n",
    "gbreg = GradientBoostingRegressor(random_state=0)"
   ]
  },
  {
   "cell_type": "code",
   "execution_count": 62,
   "metadata": {},
   "outputs": [
    {
     "data": {
      "text/plain": [
       "GradientBoostingRegressor(alpha=0.9, criterion='friedman_mse', init=None,\n",
       "             learning_rate=0.1, loss='ls', max_depth=3, max_features=None,\n",
       "             max_leaf_nodes=None, min_impurity_decrease=0.0,\n",
       "             min_impurity_split=None, min_samples_leaf=1,\n",
       "             min_samples_split=2, min_weight_fraction_leaf=0.0,\n",
       "             n_estimators=100, presort='auto', random_state=0,\n",
       "             subsample=1.0, verbose=0, warm_start=False)"
      ]
     },
     "execution_count": 62,
     "metadata": {},
     "output_type": "execute_result"
    }
   ],
   "source": [
    "gbreg.fit(X_train, y_train)"
   ]
  },
  {
   "cell_type": "code",
   "execution_count": 63,
   "metadata": {},
   "outputs": [],
   "source": [
    "# make predictions\n",
    "y_pred = gbreg.predict(X_test)"
   ]
  },
  {
   "cell_type": "code",
   "execution_count": 64,
   "metadata": {},
   "outputs": [
    {
     "name": "stdout",
     "output_type": "stream",
     "text": [
      "Gradient Boosting Regressor R-squared: 0.6422758864954066\n"
     ]
    }
   ],
   "source": [
    "# calculate R-squared\n",
    "print(\"Gradient Boosting Regressor R-squared: {}\".format(gbreg.score(X_test, y_test)))"
   ]
  },
  {
   "cell_type": "code",
   "execution_count": 65,
   "metadata": {},
   "outputs": [
    {
     "name": "stdout",
     "output_type": "stream",
     "text": [
      "Gradient Boosting Regressor R-squared: 0.6422758864954066\n"
     ]
    }
   ],
   "source": [
    "# another method of calculating R-squared\n",
    "from sklearn.metrics import r2_score\n",
    "gbr_r2 = r2_score(y_test, y_pred)\n",
    "\n",
    "print(\"Gradient Boosting Regressor R-squared: {}\".format(gbr_r2))"
   ]
  },
  {
   "cell_type": "code",
   "execution_count": 66,
   "metadata": {},
   "outputs": [
    {
     "name": "stdout",
     "output_type": "stream",
     "text": [
      "Gradient Boosting Regressor Regression RMSE: 644.3812298591536\n"
     ]
    }
   ],
   "source": [
    "# calculate root mean squared error (RMSE)\n",
    "from sklearn.metrics import mean_squared_error\n",
    "\n",
    "gbr_mse = mean_squared_error(y_pred, y_test)\n",
    "gbr_rmse = np.sqrt(gbr_mse)\n",
    "print(\"Gradient Boosting Regressor Regression RMSE: {}\".format(gbr_rmse))"
   ]
  },
  {
   "cell_type": "code",
   "execution_count": 67,
   "metadata": {},
   "outputs": [
    {
     "name": "stdout",
     "output_type": "stream",
     "text": [
      "Gradient Boosting Regressor Regression MAE: 437.00012421606925\n"
     ]
    }
   ],
   "source": [
    "# calculate mean absolute error (MAE)\n",
    "from sklearn.metrics import mean_absolute_error\n",
    "\n",
    "gbr_mae = mean_absolute_error(y_pred, y_test)\n",
    "print(\"Gradient Boosting Regressor Regression MAE: {}\".format(gbr_mae))"
   ]
  },
  {
   "cell_type": "markdown",
   "metadata": {},
   "source": [
    "### GridSearchCV - Gradient Boosting Regressor"
   ]
  },
  {
   "cell_type": "code",
   "execution_count": 68,
   "metadata": {},
   "outputs": [],
   "source": [
    "# import libraries, we will use GridSearchCV to find the best parameter values\n",
    "from sklearn.ensemble import GradientBoostingRegressor\n",
    "from sklearn.model_selection import GridSearchCV"
   ]
  },
  {
   "cell_type": "code",
   "execution_count": 69,
   "metadata": {},
   "outputs": [],
   "source": [
    "param_grid = {\"n_estimators\": [300], #, 250, 300\n",
    "              \"max_features\": [10], #2, 4, 6, 8, \n",
    "              \"max_depth\": [10]} #, 15, 20\n",
    "                                \n",
    "gbr = GradientBoostingRegressor(random_state=0)"
   ]
  },
  {
   "cell_type": "code",
   "execution_count": 70,
   "metadata": {},
   "outputs": [],
   "source": [
    "# use gridsearch to find the best parameter\n",
    "gbreg = GridSearchCV(estimator=gbr, param_grid=param_grid, n_jobs=1, cv=5)"
   ]
  },
  {
   "cell_type": "code",
   "execution_count": 71,
   "metadata": {},
   "outputs": [
    {
     "name": "stdout",
     "output_type": "stream",
     "text": [
      "Wall time: 36.9 s\n"
     ]
    },
    {
     "data": {
      "text/plain": [
       "GridSearchCV(cv=5, error_score='raise',\n",
       "       estimator=GradientBoostingRegressor(alpha=0.9, criterion='friedman_mse', init=None,\n",
       "             learning_rate=0.1, loss='ls', max_depth=3, max_features=None,\n",
       "             max_leaf_nodes=None, min_impurity_decrease=0.0,\n",
       "             min_impurity_split=None, min_samples_leaf=1,\n",
       "             min_samples_split=2, min_weight_fraction_leaf=0.0,\n",
       "             n_estimators=100, presort='auto', random_state=0,\n",
       "             subsample=1.0, verbose=0, warm_start=False),\n",
       "       fit_params=None, iid=True, n_jobs=1,\n",
       "       param_grid={'n_estimators': [300], 'max_features': [10], 'max_depth': [10]},\n",
       "       pre_dispatch='2*n_jobs', refit=True, return_train_score='warn',\n",
       "       scoring=None, verbose=0)"
      ]
     },
     "execution_count": 71,
     "metadata": {},
     "output_type": "execute_result"
    }
   ],
   "source": [
    "%%time\n",
    "# fit the model\n",
    "gbreg.fit(X_train, y_train)"
   ]
  },
  {
   "cell_type": "code",
   "execution_count": 72,
   "metadata": {},
   "outputs": [
    {
     "data": {
      "text/plain": [
       "GradientBoostingRegressor(alpha=0.9, criterion='friedman_mse', init=None,\n",
       "             learning_rate=0.1, loss='ls', max_depth=10, max_features=10,\n",
       "             max_leaf_nodes=None, min_impurity_decrease=0.0,\n",
       "             min_impurity_split=None, min_samples_leaf=1,\n",
       "             min_samples_split=2, min_weight_fraction_leaf=0.0,\n",
       "             n_estimators=300, presort='auto', random_state=0,\n",
       "             subsample=1.0, verbose=0, warm_start=False)"
      ]
     },
     "execution_count": 72,
     "metadata": {},
     "output_type": "execute_result"
    }
   ],
   "source": [
    "# best estimator learned through GridSearch\n",
    "gbreg.best_estimator_"
   ]
  },
  {
   "cell_type": "code",
   "execution_count": 73,
   "metadata": {},
   "outputs": [
    {
     "name": "stdout",
     "output_type": "stream",
     "text": [
      "Best Params: {'max_depth': 10, 'max_features': 10, 'n_estimators': 300}\n"
     ]
    }
   ],
   "source": [
    "# best parameter values\n",
    "print(\"Best Params:\", gbreg.best_params_)"
   ]
  },
  {
   "cell_type": "code",
   "execution_count": 74,
   "metadata": {},
   "outputs": [
    {
     "name": "stdout",
     "output_type": "stream",
     "text": [
      "Best CV Score: 0.784653389113337\n"
     ]
    }
   ],
   "source": [
    "# best CV score\n",
    "print(\"Best CV Score:\", gbreg.best_score_)"
   ]
  },
  {
   "cell_type": "code",
   "execution_count": 75,
   "metadata": {},
   "outputs": [],
   "source": [
    "# make predictions\n",
    "y_pred = gbreg.predict(X_test)"
   ]
  },
  {
   "cell_type": "code",
   "execution_count": 76,
   "metadata": {},
   "outputs": [
    {
     "name": "stdout",
     "output_type": "stream",
     "text": [
      "Gradient Boosting Regressor R-squared: 0.7914020775342966\n"
     ]
    }
   ],
   "source": [
    "# calculate R-squared\n",
    "print(\"Gradient Boosting Regressor R-squared: {}\".format(gbreg.score(X_test, y_test)))"
   ]
  },
  {
   "cell_type": "code",
   "execution_count": 77,
   "metadata": {},
   "outputs": [
    {
     "name": "stdout",
     "output_type": "stream",
     "text": [
      "Gradient Boosting Regressor R-squared: 0.7914020775342965\n"
     ]
    }
   ],
   "source": [
    "# another method of calculating R-squared\n",
    "from sklearn.metrics import r2_score\n",
    "gbr_r2 = r2_score(y_test, y_pred)\n",
    "\n",
    "print(\"Gradient Boosting Regressor R-squared: {}\".format(gbr_r2))"
   ]
  },
  {
   "cell_type": "code",
   "execution_count": 78,
   "metadata": {},
   "outputs": [
    {
     "name": "stdout",
     "output_type": "stream",
     "text": [
      "Gradient Boosting Regressor Regression RMSE: 492.0664586950078\n"
     ]
    }
   ],
   "source": [
    "# calculate root mean squared error (RMSE)\n",
    "from sklearn.metrics import mean_squared_error\n",
    "\n",
    "gbr_mse = mean_squared_error(y_pred, y_test)\n",
    "gbr_rmse = np.sqrt(gbr_mse)\n",
    "print(\"Gradient Boosting Regressor Regression RMSE: {}\".format(gbr_rmse))"
   ]
  },
  {
   "cell_type": "code",
   "execution_count": 79,
   "metadata": {},
   "outputs": [
    {
     "name": "stdout",
     "output_type": "stream",
     "text": [
      "Gradient Boosting Regressor Regression MAE: 253.51950820592396\n"
     ]
    }
   ],
   "source": [
    "# calculate mean absolute error (MAE)\n",
    "from sklearn.metrics import mean_absolute_error\n",
    "\n",
    "gbr_mae = mean_absolute_error(y_pred, y_test)\n",
    "print(\"Gradient Boosting Regressor Regression MAE: {}\".format(gbr_mae))"
   ]
  },
  {
   "cell_type": "code",
   "execution_count": 80,
   "metadata": {},
   "outputs": [
    {
     "name": "stdout",
     "output_type": "stream",
     "text": [
      "PropertyType_4-sty Terrace/Link House : 0.00011425513796115278\n",
      "PropertyType_Residential Land : 0.00012104961388203849\n",
      "PropertyType_Flat : 0.00026682214612766504\n",
      "PropertyType_1.5-sty Terrace/Link House : 0.0003078690197184156\n",
      "PropertyType_Cluster House : 0.00031749774076121823\n",
      "State_putrajaya : 0.0004032231029660374\n",
      "PropertyType_2.5-sty Terrace/Link House : 0.00041601846597006986\n",
      "PropertyType_3-sty Terrace/Link House : 0.00044010283464571706\n",
      "PropertyType_Semi-detached House : 0.0006493936723568617\n",
      "PropertyType_1-sty Terrace/Link House : 0.0007187324451258042\n",
      "PropertyType_Bungalow : 0.0009181943239552544\n",
      "PropertyType_Townhouse : 0.0012286224924379168\n",
      "PropertyType_2-sty Terrace/Link House : 0.0025973266094972036\n",
      "PropertyType_Apartment : 0.006719791346510142\n",
      "Furnishing_Unfurnished : 0.014780159013224993\n",
      "State_johor : 0.016462834621480984\n",
      "Furnishing_Partly Furnished : 0.02422424501009667\n",
      "PropertyType_Serviced Residence : 0.0253169178188534\n",
      "State_selangor : 0.025549908590289806\n",
      "PropertyType_Condominium : 0.02810921817625532\n",
      "NoOfBathroom : 0.029868409403217236\n",
      "Furnishing_Fully Furnished : 0.03137957616781928\n",
      "State_kuala-lumpur : 0.032639053153054674\n",
      "NoOfParking : 0.04350099484264815\n",
      "NoOfBedroom : 0.04944404418027004\n",
      "BuiltUpSize : 0.663505740070874\n"
     ]
    }
   ],
   "source": [
    "# get feature importances\n",
    "importance = gbreg.best_estimator_.feature_importances_\n",
    "\n",
    "feature_indexes_by_importance = importance.argsort()\n",
    "for index in feature_indexes_by_importance:\n",
    "    print('{} : {}'.format(X_train.columns[index], (importance[index] )))"
   ]
  },
  {
   "cell_type": "code",
   "execution_count": 81,
   "metadata": {},
   "outputs": [
    {
     "data": {
      "image/png": "[encoded data removed]",
      "text/plain": [
       "<Figure size 720x432 with 1 Axes>"
      ]
     },
     "metadata": {},
     "output_type": "display_data"
    }
   ],
   "source": [
    "plt.figure(figsize=(10,6))\n",
    "plt.title(\"Feature Importances\")\n",
    "feat_importances = pd.Series(gbreg.best_estimator_.feature_importances_, index=X_train.columns)\n",
    "feat_importances.sort_values().plot(kind=\"barh\", color=\"Green\")\n",
    "# feat_importances.nlargest(20).plot(kind='barh') # top 20 features only\n",
    "\n",
    "plt.savefig(\"feature_importances.png\", bbox_inches=\"tight\")"
   ]
  },
  {
   "cell_type": "markdown",
   "metadata": {},
   "source": [
    "**Note: ** The top three most important features are BuiltUpSize, NoOfBedroom and NoOfParking. And the least important feature is PropertyType. The ranking of feature importances from most important to least important is: \"BuiltUpSize\", \"NoOfBedroom\", \"NoOfParking\", \"State\", \"Furnishing\", \"NoOfBathroom\", \"PropertyType\". Contrast to the Random Forest model, the Gradient Boosting model actually shows No Of Bedroom has more impact on Rental Per Month compared to No Of Bathroom. This result seems more logical and conforms to the conventional wisdom that properties with more bedroom can accommodate more people and thus command higher rental prices."
   ]
  },
  {
   "cell_type": "markdown",
   "metadata": {},
   "source": [
    "***\n",
    "# <a name=\"tf\">Tensorflow with Keras</a> #"
   ]
  },
  {
   "cell_type": "code",
   "execution_count": 82,
   "metadata": {},
   "outputs": [
    {
     "name": "stderr",
     "output_type": "stream",
     "text": [
      "C:\\Users\\limchiahooi\\Anaconda3\\lib\\site-packages\\h5py\\__init__.py:36: FutureWarning: Conversion of the second argument of issubdtype from `float` to `np.floating` is deprecated. In future, it will be treated as `np.float64 == np.dtype(float).type`.\n",
      "  from ._conv import register_converters as _register_converters\n"
     ]
    },
    {
     "name": "stdout",
     "output_type": "stream",
     "text": [
      "1.10.0\n",
      "2.1.6-tf\n"
     ]
    }
   ],
   "source": [
    "# import tensorflow and keras\n",
    "import tensorflow as tf\n",
    "from tensorflow import keras\n",
    "\n",
    "print(tf.__version__)\n",
    "print(tf.keras.__version__)"
   ]
  },
  {
   "cell_type": "markdown",
   "metadata": {},
   "source": [
    "## Feature Scaling\n",
    "\n",
    "Feature scaling is a method used to standardize the range of independent variables or features of data. In data processing, it is also known as data normalization and is generally performed during the data preprocessing step. To use neural network, we need to standardize the features that use different scales and ranges. We can use `MinMaxScaler` module from sklearn.preprocessing, and set the feature_range=(0, 1). Although the model might converge without feature normalization, it makes training more difficult, and it makes the resulting model more dependent on the choice of units used in the input.\n",
    "\n",
    "**Steps:** We first need to split the data into training and test set (validation set might also be required). Don't forget that testing data points represent real-world data. Feature normalization (or data standardization) of the explanatory (or predictor) variables is a technique used to center and normalise the data by subtracting the mean and dividing by the variance. If you take the mean and variance of the whole dataset you'll be introducing future information into the training explanatory variables (i.e. the mean and variance). Therefore, you should perform feature normalisation over the training data. Then perform normalisation on testing instances as well, but this time using the mean and variance of training explanatory variables. In this way, we can test and evaluate whether our model can generalize well to new, unseen data points.\n",
    "\n",
    "We use `fit_transform()` on the train data so that we learn the parameters of scaling on the train data and at the same time we scale the train data. We only use `transform()` on the test data because we use the scaling paramaters learned on the train data to scale the test data.\n",
    "\n",
    "This is the standard procedure to scale. You always learn your scaling parameters on the train data and then use them on the test data. "
   ]
  },
  {
   "cell_type": "code",
   "execution_count": 83,
   "metadata": {},
   "outputs": [
    {
     "name": "stdout",
     "output_type": "stream",
     "text": [
      "(9762, 26)\n"
     ]
    },
    {
     "data": {
      "text/html": [
       "<div>\n",
       "<style scoped>\n",
       "    .dataframe tbody tr th:only-of-type {\n",
       "        vertical-align: middle;\n",
       "    }\n",
       "\n",
       "    .dataframe tbody tr th {\n",
       "        vertical-align: top;\n",
       "    }\n",
       "\n",
       "    .dataframe thead th {\n",
       "        text-align: right;\n",
       "    }\n",
       "</style>\n",
       "<table border=\"1\" class=\"dataframe\">\n",
       "  <thead>\n",
       "    <tr style=\"text-align: right;\">\n",
       "      <th></th>\n",
       "      <th>BuiltUpSize</th>\n",
       "      <th>NoOfBathroom</th>\n",
       "      <th>NoOfBedroom</th>\n",
       "      <th>NoOfParking</th>\n",
       "      <th>State_johor</th>\n",
       "      <th>State_kuala-lumpur</th>\n",
       "      <th>State_putrajaya</th>\n",
       "      <th>State_selangor</th>\n",
       "      <th>Furnishing_Fully Furnished</th>\n",
       "      <th>Furnishing_Partly Furnished</th>\n",
       "      <th>...</th>\n",
       "      <th>PropertyType_4-sty Terrace/Link House</th>\n",
       "      <th>PropertyType_Apartment</th>\n",
       "      <th>PropertyType_Bungalow</th>\n",
       "      <th>PropertyType_Cluster House</th>\n",
       "      <th>PropertyType_Condominium</th>\n",
       "      <th>PropertyType_Flat</th>\n",
       "      <th>PropertyType_Residential Land</th>\n",
       "      <th>PropertyType_Semi-detached House</th>\n",
       "      <th>PropertyType_Serviced Residence</th>\n",
       "      <th>PropertyType_Townhouse</th>\n",
       "    </tr>\n",
       "  </thead>\n",
       "  <tbody>\n",
       "    <tr>\n",
       "      <th>2888</th>\n",
       "      <td>1001</td>\n",
       "      <td>2</td>\n",
       "      <td>2</td>\n",
       "      <td>1</td>\n",
       "      <td>0</td>\n",
       "      <td>1</td>\n",
       "      <td>0</td>\n",
       "      <td>0</td>\n",
       "      <td>1</td>\n",
       "      <td>0</td>\n",
       "      <td>...</td>\n",
       "      <td>0</td>\n",
       "      <td>0</td>\n",
       "      <td>0</td>\n",
       "      <td>0</td>\n",
       "      <td>0</td>\n",
       "      <td>0</td>\n",
       "      <td>0</td>\n",
       "      <td>0</td>\n",
       "      <td>1</td>\n",
       "      <td>0</td>\n",
       "    </tr>\n",
       "    <tr>\n",
       "      <th>6165</th>\n",
       "      <td>1200</td>\n",
       "      <td>2</td>\n",
       "      <td>3</td>\n",
       "      <td>2</td>\n",
       "      <td>1</td>\n",
       "      <td>0</td>\n",
       "      <td>0</td>\n",
       "      <td>0</td>\n",
       "      <td>1</td>\n",
       "      <td>0</td>\n",
       "      <td>...</td>\n",
       "      <td>0</td>\n",
       "      <td>0</td>\n",
       "      <td>0</td>\n",
       "      <td>0</td>\n",
       "      <td>1</td>\n",
       "      <td>0</td>\n",
       "      <td>0</td>\n",
       "      <td>0</td>\n",
       "      <td>0</td>\n",
       "      <td>0</td>\n",
       "    </tr>\n",
       "    <tr>\n",
       "      <th>5406</th>\n",
       "      <td>1200</td>\n",
       "      <td>3</td>\n",
       "      <td>4</td>\n",
       "      <td>2</td>\n",
       "      <td>0</td>\n",
       "      <td>0</td>\n",
       "      <td>0</td>\n",
       "      <td>1</td>\n",
       "      <td>0</td>\n",
       "      <td>1</td>\n",
       "      <td>...</td>\n",
       "      <td>0</td>\n",
       "      <td>0</td>\n",
       "      <td>0</td>\n",
       "      <td>0</td>\n",
       "      <td>1</td>\n",
       "      <td>0</td>\n",
       "      <td>0</td>\n",
       "      <td>0</td>\n",
       "      <td>0</td>\n",
       "      <td>0</td>\n",
       "    </tr>\n",
       "    <tr>\n",
       "      <th>11211</th>\n",
       "      <td>2045</td>\n",
       "      <td>3</td>\n",
       "      <td>4</td>\n",
       "      <td>3</td>\n",
       "      <td>0</td>\n",
       "      <td>0</td>\n",
       "      <td>0</td>\n",
       "      <td>1</td>\n",
       "      <td>0</td>\n",
       "      <td>1</td>\n",
       "      <td>...</td>\n",
       "      <td>0</td>\n",
       "      <td>0</td>\n",
       "      <td>0</td>\n",
       "      <td>0</td>\n",
       "      <td>0</td>\n",
       "      <td>0</td>\n",
       "      <td>0</td>\n",
       "      <td>1</td>\n",
       "      <td>0</td>\n",
       "      <td>0</td>\n",
       "    </tr>\n",
       "    <tr>\n",
       "      <th>2142</th>\n",
       "      <td>1019</td>\n",
       "      <td>2</td>\n",
       "      <td>3</td>\n",
       "      <td>2</td>\n",
       "      <td>0</td>\n",
       "      <td>1</td>\n",
       "      <td>0</td>\n",
       "      <td>0</td>\n",
       "      <td>1</td>\n",
       "      <td>0</td>\n",
       "      <td>...</td>\n",
       "      <td>0</td>\n",
       "      <td>0</td>\n",
       "      <td>0</td>\n",
       "      <td>0</td>\n",
       "      <td>1</td>\n",
       "      <td>0</td>\n",
       "      <td>0</td>\n",
       "      <td>0</td>\n",
       "      <td>0</td>\n",
       "      <td>0</td>\n",
       "    </tr>\n",
       "  </tbody>\n",
       "</table>\n",
       "<p>5 rows × 26 columns</p>\n",
       "</div>"
      ],
      "text/plain": [
       "       BuiltUpSize  NoOfBathroom  NoOfBedroom  NoOfParking  State_johor  \\\n",
       "2888          1001             2            2            1            0   \n",
       "6165          1200             2            3            2            1   \n",
       "5406          1200             3            4            2            0   \n",
       "11211         2045             3            4            3            0   \n",
       "2142          1019             2            3            2            0   \n",
       "\n",
       "       State_kuala-lumpur  State_putrajaya  State_selangor  \\\n",
       "2888                    1                0               0   \n",
       "6165                    0                0               0   \n",
       "5406                    0                0               1   \n",
       "11211                   0                0               1   \n",
       "2142                    1                0               0   \n",
       "\n",
       "       Furnishing_Fully Furnished  Furnishing_Partly Furnished  \\\n",
       "2888                            1                            0   \n",
       "6165                            1                            0   \n",
       "5406                            0                            1   \n",
       "11211                           0                            1   \n",
       "2142                            1                            0   \n",
       "\n",
       "                ...            PropertyType_4-sty Terrace/Link House  \\\n",
       "2888            ...                                                0   \n",
       "6165            ...                                                0   \n",
       "5406            ...                                                0   \n",
       "11211           ...                                                0   \n",
       "2142            ...                                                0   \n",
       "\n",
       "       PropertyType_Apartment  PropertyType_Bungalow  \\\n",
       "2888                        0                      0   \n",
       "6165                        0                      0   \n",
       "5406                        0                      0   \n",
       "11211                       0                      0   \n",
       "2142                        0                      0   \n",
       "\n",
       "       PropertyType_Cluster House  PropertyType_Condominium  \\\n",
       "2888                            0                         0   \n",
       "6165                            0                         1   \n",
       "5406                            0                         1   \n",
       "11211                           0                         0   \n",
       "2142                            0                         1   \n",
       "\n",
       "       PropertyType_Flat  PropertyType_Residential Land  \\\n",
       "2888                   0                              0   \n",
       "6165                   0                              0   \n",
       "5406                   0                              0   \n",
       "11211                  0                              0   \n",
       "2142                   0                              0   \n",
       "\n",
       "       PropertyType_Semi-detached House  PropertyType_Serviced Residence  \\\n",
       "2888                                  0                                1   \n",
       "6165                                  0                                0   \n",
       "5406                                  0                                0   \n",
       "11211                                 1                                0   \n",
       "2142                                  0                                0   \n",
       "\n",
       "       PropertyType_Townhouse  \n",
       "2888                        0  \n",
       "6165                        0  \n",
       "5406                        0  \n",
       "11211                       0  \n",
       "2142                        0  \n",
       "\n",
       "[5 rows x 26 columns]"
      ]
     },
     "execution_count": 83,
     "metadata": {},
     "output_type": "execute_result"
    }
   ],
   "source": [
    "print(X_train.shape)\n",
    "X_train.head()"
   ]
  },
  {
   "cell_type": "code",
   "execution_count": 84,
   "metadata": {},
   "outputs": [
    {
     "name": "stdout",
     "output_type": "stream",
     "text": [
      "(3254, 26)\n"
     ]
    },
    {
     "data": {
      "text/html": [
       "<div>\n",
       "<style scoped>\n",
       "    .dataframe tbody tr th:only-of-type {\n",
       "        vertical-align: middle;\n",
       "    }\n",
       "\n",
       "    .dataframe tbody tr th {\n",
       "        vertical-align: top;\n",
       "    }\n",
       "\n",
       "    .dataframe thead th {\n",
       "        text-align: right;\n",
       "    }\n",
       "</style>\n",
       "<table border=\"1\" class=\"dataframe\">\n",
       "  <thead>\n",
       "    <tr style=\"text-align: right;\">\n",
       "      <th></th>\n",
       "      <th>BuiltUpSize</th>\n",
       "      <th>NoOfBathroom</th>\n",
       "      <th>NoOfBedroom</th>\n",
       "      <th>NoOfParking</th>\n",
       "      <th>State_johor</th>\n",
       "      <th>State_kuala-lumpur</th>\n",
       "      <th>State_putrajaya</th>\n",
       "      <th>State_selangor</th>\n",
       "      <th>Furnishing_Fully Furnished</th>\n",
       "      <th>Furnishing_Partly Furnished</th>\n",
       "      <th>...</th>\n",
       "      <th>PropertyType_4-sty Terrace/Link House</th>\n",
       "      <th>PropertyType_Apartment</th>\n",
       "      <th>PropertyType_Bungalow</th>\n",
       "      <th>PropertyType_Cluster House</th>\n",
       "      <th>PropertyType_Condominium</th>\n",
       "      <th>PropertyType_Flat</th>\n",
       "      <th>PropertyType_Residential Land</th>\n",
       "      <th>PropertyType_Semi-detached House</th>\n",
       "      <th>PropertyType_Serviced Residence</th>\n",
       "      <th>PropertyType_Townhouse</th>\n",
       "    </tr>\n",
       "  </thead>\n",
       "  <tbody>\n",
       "    <tr>\n",
       "      <th>4972</th>\n",
       "      <td>870</td>\n",
       "      <td>2</td>\n",
       "      <td>3</td>\n",
       "      <td>1</td>\n",
       "      <td>0</td>\n",
       "      <td>0</td>\n",
       "      <td>0</td>\n",
       "      <td>1</td>\n",
       "      <td>0</td>\n",
       "      <td>1</td>\n",
       "      <td>...</td>\n",
       "      <td>0</td>\n",
       "      <td>1</td>\n",
       "      <td>0</td>\n",
       "      <td>0</td>\n",
       "      <td>0</td>\n",
       "      <td>0</td>\n",
       "      <td>0</td>\n",
       "      <td>0</td>\n",
       "      <td>0</td>\n",
       "      <td>0</td>\n",
       "    </tr>\n",
       "    <tr>\n",
       "      <th>12016</th>\n",
       "      <td>942</td>\n",
       "      <td>2</td>\n",
       "      <td>2</td>\n",
       "      <td>2</td>\n",
       "      <td>0</td>\n",
       "      <td>0</td>\n",
       "      <td>0</td>\n",
       "      <td>1</td>\n",
       "      <td>1</td>\n",
       "      <td>0</td>\n",
       "      <td>...</td>\n",
       "      <td>0</td>\n",
       "      <td>0</td>\n",
       "      <td>0</td>\n",
       "      <td>0</td>\n",
       "      <td>1</td>\n",
       "      <td>0</td>\n",
       "      <td>0</td>\n",
       "      <td>0</td>\n",
       "      <td>0</td>\n",
       "      <td>0</td>\n",
       "    </tr>\n",
       "    <tr>\n",
       "      <th>9048</th>\n",
       "      <td>1333</td>\n",
       "      <td>2</td>\n",
       "      <td>3</td>\n",
       "      <td>1</td>\n",
       "      <td>0</td>\n",
       "      <td>0</td>\n",
       "      <td>0</td>\n",
       "      <td>1</td>\n",
       "      <td>0</td>\n",
       "      <td>0</td>\n",
       "      <td>...</td>\n",
       "      <td>0</td>\n",
       "      <td>0</td>\n",
       "      <td>0</td>\n",
       "      <td>0</td>\n",
       "      <td>1</td>\n",
       "      <td>0</td>\n",
       "      <td>0</td>\n",
       "      <td>0</td>\n",
       "      <td>0</td>\n",
       "      <td>0</td>\n",
       "    </tr>\n",
       "    <tr>\n",
       "      <th>7436</th>\n",
       "      <td>913</td>\n",
       "      <td>3</td>\n",
       "      <td>4</td>\n",
       "      <td>2</td>\n",
       "      <td>1</td>\n",
       "      <td>0</td>\n",
       "      <td>0</td>\n",
       "      <td>0</td>\n",
       "      <td>1</td>\n",
       "      <td>0</td>\n",
       "      <td>...</td>\n",
       "      <td>0</td>\n",
       "      <td>0</td>\n",
       "      <td>0</td>\n",
       "      <td>0</td>\n",
       "      <td>0</td>\n",
       "      <td>0</td>\n",
       "      <td>0</td>\n",
       "      <td>0</td>\n",
       "      <td>1</td>\n",
       "      <td>0</td>\n",
       "    </tr>\n",
       "    <tr>\n",
       "      <th>952</th>\n",
       "      <td>910</td>\n",
       "      <td>2</td>\n",
       "      <td>2</td>\n",
       "      <td>1</td>\n",
       "      <td>0</td>\n",
       "      <td>1</td>\n",
       "      <td>0</td>\n",
       "      <td>0</td>\n",
       "      <td>0</td>\n",
       "      <td>1</td>\n",
       "      <td>...</td>\n",
       "      <td>0</td>\n",
       "      <td>0</td>\n",
       "      <td>0</td>\n",
       "      <td>0</td>\n",
       "      <td>0</td>\n",
       "      <td>0</td>\n",
       "      <td>0</td>\n",
       "      <td>0</td>\n",
       "      <td>1</td>\n",
       "      <td>0</td>\n",
       "    </tr>\n",
       "  </tbody>\n",
       "</table>\n",
       "<p>5 rows × 26 columns</p>\n",
       "</div>"
      ],
      "text/plain": [
       "       BuiltUpSize  NoOfBathroom  NoOfBedroom  NoOfParking  State_johor  \\\n",
       "4972           870             2            3            1            0   \n",
       "12016          942             2            2            2            0   \n",
       "9048          1333             2            3            1            0   \n",
       "7436           913             3            4            2            1   \n",
       "952            910             2            2            1            0   \n",
       "\n",
       "       State_kuala-lumpur  State_putrajaya  State_selangor  \\\n",
       "4972                    0                0               1   \n",
       "12016                   0                0               1   \n",
       "9048                    0                0               1   \n",
       "7436                    0                0               0   \n",
       "952                     1                0               0   \n",
       "\n",
       "       Furnishing_Fully Furnished  Furnishing_Partly Furnished  \\\n",
       "4972                            0                            1   \n",
       "12016                           1                            0   \n",
       "9048                            0                            0   \n",
       "7436                            1                            0   \n",
       "952                             0                            1   \n",
       "\n",
       "                ...            PropertyType_4-sty Terrace/Link House  \\\n",
       "4972            ...                                                0   \n",
       "12016           ...                                                0   \n",
       "9048            ...                                                0   \n",
       "7436            ...                                                0   \n",
       "952             ...                                                0   \n",
       "\n",
       "       PropertyType_Apartment  PropertyType_Bungalow  \\\n",
       "4972                        1                      0   \n",
       "12016                       0                      0   \n",
       "9048                        0                      0   \n",
       "7436                        0                      0   \n",
       "952                         0                      0   \n",
       "\n",
       "       PropertyType_Cluster House  PropertyType_Condominium  \\\n",
       "4972                            0                         0   \n",
       "12016                           0                         1   \n",
       "9048                            0                         1   \n",
       "7436                            0                         0   \n",
       "952                             0                         0   \n",
       "\n",
       "       PropertyType_Flat  PropertyType_Residential Land  \\\n",
       "4972                   0                              0   \n",
       "12016                  0                              0   \n",
       "9048                   0                              0   \n",
       "7436                   0                              0   \n",
       "952                    0                              0   \n",
       "\n",
       "       PropertyType_Semi-detached House  PropertyType_Serviced Residence  \\\n",
       "4972                                  0                                0   \n",
       "12016                                 0                                0   \n",
       "9048                                  0                                0   \n",
       "7436                                  0                                1   \n",
       "952                                   0                                1   \n",
       "\n",
       "       PropertyType_Townhouse  \n",
       "4972                        0  \n",
       "12016                       0  \n",
       "9048                        0  \n",
       "7436                        0  \n",
       "952                         0  \n",
       "\n",
       "[5 rows x 26 columns]"
      ]
     },
     "execution_count": 84,
     "metadata": {},
     "output_type": "execute_result"
    }
   ],
   "source": [
    "print(X_test.shape)\n",
    "X_test.head()"
   ]
  },
  {
   "cell_type": "code",
   "execution_count": 85,
   "metadata": {},
   "outputs": [
    {
     "name": "stderr",
     "output_type": "stream",
     "text": [
      "C:\\Users\\limchiahooi\\Anaconda3\\lib\\site-packages\\ipykernel_launcher.py:8: SettingWithCopyWarning: \n",
      "A value is trying to be set on a copy of a slice from a DataFrame.\n",
      "Try using .loc[row_indexer,col_indexer] = value instead\n",
      "\n",
      "See the caveats in the documentation: http://pandas.pydata.org/pandas-docs/stable/indexing.html#indexing-view-versus-copy\n",
      "  \n",
      "C:\\Users\\limchiahooi\\Anaconda3\\lib\\site-packages\\pandas\\core\\indexing.py:543: SettingWithCopyWarning: \n",
      "A value is trying to be set on a copy of a slice from a DataFrame.\n",
      "Try using .loc[row_indexer,col_indexer] = value instead\n",
      "\n",
      "See the caveats in the documentation: http://pandas.pydata.org/pandas-docs/stable/indexing.html#indexing-view-versus-copy\n",
      "  self.obj[item] = s\n",
      "C:\\Users\\limchiahooi\\Anaconda3\\lib\\site-packages\\ipykernel_launcher.py:11: SettingWithCopyWarning: \n",
      "A value is trying to be set on a copy of a slice from a DataFrame.\n",
      "Try using .loc[row_indexer,col_indexer] = value instead\n",
      "\n",
      "See the caveats in the documentation: http://pandas.pydata.org/pandas-docs/stable/indexing.html#indexing-view-versus-copy\n",
      "  # This is added back by InteractiveShellApp.init_path()\n"
     ]
    }
   ],
   "source": [
    "# import MinMaxScaler from sklearn.preprocessing\n",
    "from sklearn.preprocessing import MinMaxScaler\n",
    "\n",
    "# define the scaler \n",
    "scaler = MinMaxScaler(feature_range=(0, 1))\n",
    "\n",
    "# fit and tranform the train set\n",
    "X_train[[\"BuiltUpSize\", \"NoOfBathroom\", \"NoOfBedroom\", \"NoOfParking\"]] = scaler.fit_transform(X_train[[\"BuiltUpSize\", \"NoOfBathroom\", \"NoOfBedroom\", \"NoOfParking\"]])\n",
    "\n",
    "# tranform the test set\n",
    "X_test[[\"BuiltUpSize\", \"NoOfBathroom\", \"NoOfBedroom\", \"NoOfParking\"]] = scaler.transform(X_test[[\"BuiltUpSize\", \"NoOfBathroom\", \"NoOfBedroom\", \"NoOfParking\"]])"
   ]
  },
  {
   "cell_type": "code",
   "execution_count": 86,
   "metadata": {},
   "outputs": [
    {
     "name": "stdout",
     "output_type": "stream",
     "text": [
      "(9762, 26)\n"
     ]
    },
    {
     "data": {
      "text/html": [
       "<div>\n",
       "<style scoped>\n",
       "    .dataframe tbody tr th:only-of-type {\n",
       "        vertical-align: middle;\n",
       "    }\n",
       "\n",
       "    .dataframe tbody tr th {\n",
       "        vertical-align: top;\n",
       "    }\n",
       "\n",
       "    .dataframe thead th {\n",
       "        text-align: right;\n",
       "    }\n",
       "</style>\n",
       "<table border=\"1\" class=\"dataframe\">\n",
       "  <thead>\n",
       "    <tr style=\"text-align: right;\">\n",
       "      <th></th>\n",
       "      <th>BuiltUpSize</th>\n",
       "      <th>NoOfBathroom</th>\n",
       "      <th>NoOfBedroom</th>\n",
       "      <th>NoOfParking</th>\n",
       "      <th>State_johor</th>\n",
       "      <th>State_kuala-lumpur</th>\n",
       "      <th>State_putrajaya</th>\n",
       "      <th>State_selangor</th>\n",
       "      <th>Furnishing_Fully Furnished</th>\n",
       "      <th>Furnishing_Partly Furnished</th>\n",
       "      <th>...</th>\n",
       "      <th>PropertyType_4-sty Terrace/Link House</th>\n",
       "      <th>PropertyType_Apartment</th>\n",
       "      <th>PropertyType_Bungalow</th>\n",
       "      <th>PropertyType_Cluster House</th>\n",
       "      <th>PropertyType_Condominium</th>\n",
       "      <th>PropertyType_Flat</th>\n",
       "      <th>PropertyType_Residential Land</th>\n",
       "      <th>PropertyType_Semi-detached House</th>\n",
       "      <th>PropertyType_Serviced Residence</th>\n",
       "      <th>PropertyType_Townhouse</th>\n",
       "    </tr>\n",
       "  </thead>\n",
       "  <tbody>\n",
       "    <tr>\n",
       "      <th>2888</th>\n",
       "      <td>0.104709</td>\n",
       "      <td>0.052632</td>\n",
       "      <td>0.142857</td>\n",
       "      <td>0.000000</td>\n",
       "      <td>0</td>\n",
       "      <td>1</td>\n",
       "      <td>0</td>\n",
       "      <td>0</td>\n",
       "      <td>1</td>\n",
       "      <td>0</td>\n",
       "      <td>...</td>\n",
       "      <td>0</td>\n",
       "      <td>0</td>\n",
       "      <td>0</td>\n",
       "      <td>0</td>\n",
       "      <td>0</td>\n",
       "      <td>0</td>\n",
       "      <td>0</td>\n",
       "      <td>0</td>\n",
       "      <td>1</td>\n",
       "      <td>0</td>\n",
       "    </tr>\n",
       "    <tr>\n",
       "      <th>6165</th>\n",
       "      <td>0.125672</td>\n",
       "      <td>0.052632</td>\n",
       "      <td>0.285714</td>\n",
       "      <td>0.034483</td>\n",
       "      <td>1</td>\n",
       "      <td>0</td>\n",
       "      <td>0</td>\n",
       "      <td>0</td>\n",
       "      <td>1</td>\n",
       "      <td>0</td>\n",
       "      <td>...</td>\n",
       "      <td>0</td>\n",
       "      <td>0</td>\n",
       "      <td>0</td>\n",
       "      <td>0</td>\n",
       "      <td>1</td>\n",
       "      <td>0</td>\n",
       "      <td>0</td>\n",
       "      <td>0</td>\n",
       "      <td>0</td>\n",
       "      <td>0</td>\n",
       "    </tr>\n",
       "    <tr>\n",
       "      <th>5406</th>\n",
       "      <td>0.125672</td>\n",
       "      <td>0.105263</td>\n",
       "      <td>0.428571</td>\n",
       "      <td>0.034483</td>\n",
       "      <td>0</td>\n",
       "      <td>0</td>\n",
       "      <td>0</td>\n",
       "      <td>1</td>\n",
       "      <td>0</td>\n",
       "      <td>1</td>\n",
       "      <td>...</td>\n",
       "      <td>0</td>\n",
       "      <td>0</td>\n",
       "      <td>0</td>\n",
       "      <td>0</td>\n",
       "      <td>1</td>\n",
       "      <td>0</td>\n",
       "      <td>0</td>\n",
       "      <td>0</td>\n",
       "      <td>0</td>\n",
       "      <td>0</td>\n",
       "    </tr>\n",
       "    <tr>\n",
       "      <th>11211</th>\n",
       "      <td>0.214685</td>\n",
       "      <td>0.105263</td>\n",
       "      <td>0.428571</td>\n",
       "      <td>0.068966</td>\n",
       "      <td>0</td>\n",
       "      <td>0</td>\n",
       "      <td>0</td>\n",
       "      <td>1</td>\n",
       "      <td>0</td>\n",
       "      <td>1</td>\n",
       "      <td>...</td>\n",
       "      <td>0</td>\n",
       "      <td>0</td>\n",
       "      <td>0</td>\n",
       "      <td>0</td>\n",
       "      <td>0</td>\n",
       "      <td>0</td>\n",
       "      <td>0</td>\n",
       "      <td>1</td>\n",
       "      <td>0</td>\n",
       "      <td>0</td>\n",
       "    </tr>\n",
       "    <tr>\n",
       "      <th>2142</th>\n",
       "      <td>0.106605</td>\n",
       "      <td>0.052632</td>\n",
       "      <td>0.285714</td>\n",
       "      <td>0.034483</td>\n",
       "      <td>0</td>\n",
       "      <td>1</td>\n",
       "      <td>0</td>\n",
       "      <td>0</td>\n",
       "      <td>1</td>\n",
       "      <td>0</td>\n",
       "      <td>...</td>\n",
       "      <td>0</td>\n",
       "      <td>0</td>\n",
       "      <td>0</td>\n",
       "      <td>0</td>\n",
       "      <td>1</td>\n",
       "      <td>0</td>\n",
       "      <td>0</td>\n",
       "      <td>0</td>\n",
       "      <td>0</td>\n",
       "      <td>0</td>\n",
       "    </tr>\n",
       "  </tbody>\n",
       "</table>\n",
       "<p>5 rows × 26 columns</p>\n",
       "</div>"
      ],
      "text/plain": [
       "       BuiltUpSize  NoOfBathroom  NoOfBedroom  NoOfParking  State_johor  \\\n",
       "2888      0.104709      0.052632     0.142857     0.000000            0   \n",
       "6165      0.125672      0.052632     0.285714     0.034483            1   \n",
       "5406      0.125672      0.105263     0.428571     0.034483            0   \n",
       "11211     0.214685      0.105263     0.428571     0.068966            0   \n",
       "2142      0.106605      0.052632     0.285714     0.034483            0   \n",
       "\n",
       "       State_kuala-lumpur  State_putrajaya  State_selangor  \\\n",
       "2888                    1                0               0   \n",
       "6165                    0                0               0   \n",
       "5406                    0                0               1   \n",
       "11211                   0                0               1   \n",
       "2142                    1                0               0   \n",
       "\n",
       "       Furnishing_Fully Furnished  Furnishing_Partly Furnished  \\\n",
       "2888                            1                            0   \n",
       "6165                            1                            0   \n",
       "5406                            0                            1   \n",
       "11211                           0                            1   \n",
       "2142                            1                            0   \n",
       "\n",
       "                ...            PropertyType_4-sty Terrace/Link House  \\\n",
       "2888            ...                                                0   \n",
       "6165            ...                                                0   \n",
       "5406            ...                                                0   \n",
       "11211           ...                                                0   \n",
       "2142            ...                                                0   \n",
       "\n",
       "       PropertyType_Apartment  PropertyType_Bungalow  \\\n",
       "2888                        0                      0   \n",
       "6165                        0                      0   \n",
       "5406                        0                      0   \n",
       "11211                       0                      0   \n",
       "2142                        0                      0   \n",
       "\n",
       "       PropertyType_Cluster House  PropertyType_Condominium  \\\n",
       "2888                            0                         0   \n",
       "6165                            0                         1   \n",
       "5406                            0                         1   \n",
       "11211                           0                         0   \n",
       "2142                            0                         1   \n",
       "\n",
       "       PropertyType_Flat  PropertyType_Residential Land  \\\n",
       "2888                   0                              0   \n",
       "6165                   0                              0   \n",
       "5406                   0                              0   \n",
       "11211                  0                              0   \n",
       "2142                   0                              0   \n",
       "\n",
       "       PropertyType_Semi-detached House  PropertyType_Serviced Residence  \\\n",
       "2888                                  0                                1   \n",
       "6165                                  0                                0   \n",
       "5406                                  0                                0   \n",
       "11211                                 1                                0   \n",
       "2142                                  0                                0   \n",
       "\n",
       "       PropertyType_Townhouse  \n",
       "2888                        0  \n",
       "6165                        0  \n",
       "5406                        0  \n",
       "11211                       0  \n",
       "2142                        0  \n",
       "\n",
       "[5 rows x 26 columns]"
      ]
     },
     "execution_count": 86,
     "metadata": {},
     "output_type": "execute_result"
    }
   ],
   "source": [
    "print(X_train.shape)\n",
    "X_train.head()"
   ]
  },
  {
   "cell_type": "code",
   "execution_count": 87,
   "metadata": {},
   "outputs": [
    {
     "name": "stdout",
     "output_type": "stream",
     "text": [
      "(3254, 26)\n"
     ]
    },
    {
     "data": {
      "text/html": [
       "<div>\n",
       "<style scoped>\n",
       "    .dataframe tbody tr th:only-of-type {\n",
       "        vertical-align: middle;\n",
       "    }\n",
       "\n",
       "    .dataframe tbody tr th {\n",
       "        vertical-align: top;\n",
       "    }\n",
       "\n",
       "    .dataframe thead th {\n",
       "        text-align: right;\n",
       "    }\n",
       "</style>\n",
       "<table border=\"1\" class=\"dataframe\">\n",
       "  <thead>\n",
       "    <tr style=\"text-align: right;\">\n",
       "      <th></th>\n",
       "      <th>BuiltUpSize</th>\n",
       "      <th>NoOfBathroom</th>\n",
       "      <th>NoOfBedroom</th>\n",
       "      <th>NoOfParking</th>\n",
       "      <th>State_johor</th>\n",
       "      <th>State_kuala-lumpur</th>\n",
       "      <th>State_putrajaya</th>\n",
       "      <th>State_selangor</th>\n",
       "      <th>Furnishing_Fully Furnished</th>\n",
       "      <th>Furnishing_Partly Furnished</th>\n",
       "      <th>...</th>\n",
       "      <th>PropertyType_4-sty Terrace/Link House</th>\n",
       "      <th>PropertyType_Apartment</th>\n",
       "      <th>PropertyType_Bungalow</th>\n",
       "      <th>PropertyType_Cluster House</th>\n",
       "      <th>PropertyType_Condominium</th>\n",
       "      <th>PropertyType_Flat</th>\n",
       "      <th>PropertyType_Residential Land</th>\n",
       "      <th>PropertyType_Semi-detached House</th>\n",
       "      <th>PropertyType_Serviced Residence</th>\n",
       "      <th>PropertyType_Townhouse</th>\n",
       "    </tr>\n",
       "  </thead>\n",
       "  <tbody>\n",
       "    <tr>\n",
       "      <th>4972</th>\n",
       "      <td>0.090909</td>\n",
       "      <td>0.052632</td>\n",
       "      <td>0.285714</td>\n",
       "      <td>0.000000</td>\n",
       "      <td>0</td>\n",
       "      <td>0</td>\n",
       "      <td>0</td>\n",
       "      <td>1</td>\n",
       "      <td>0</td>\n",
       "      <td>1</td>\n",
       "      <td>...</td>\n",
       "      <td>0</td>\n",
       "      <td>1</td>\n",
       "      <td>0</td>\n",
       "      <td>0</td>\n",
       "      <td>0</td>\n",
       "      <td>0</td>\n",
       "      <td>0</td>\n",
       "      <td>0</td>\n",
       "      <td>0</td>\n",
       "      <td>0</td>\n",
       "    </tr>\n",
       "    <tr>\n",
       "      <th>12016</th>\n",
       "      <td>0.098494</td>\n",
       "      <td>0.052632</td>\n",
       "      <td>0.142857</td>\n",
       "      <td>0.034483</td>\n",
       "      <td>0</td>\n",
       "      <td>0</td>\n",
       "      <td>0</td>\n",
       "      <td>1</td>\n",
       "      <td>1</td>\n",
       "      <td>0</td>\n",
       "      <td>...</td>\n",
       "      <td>0</td>\n",
       "      <td>0</td>\n",
       "      <td>0</td>\n",
       "      <td>0</td>\n",
       "      <td>1</td>\n",
       "      <td>0</td>\n",
       "      <td>0</td>\n",
       "      <td>0</td>\n",
       "      <td>0</td>\n",
       "      <td>0</td>\n",
       "    </tr>\n",
       "    <tr>\n",
       "      <th>9048</th>\n",
       "      <td>0.139682</td>\n",
       "      <td>0.052632</td>\n",
       "      <td>0.285714</td>\n",
       "      <td>0.000000</td>\n",
       "      <td>0</td>\n",
       "      <td>0</td>\n",
       "      <td>0</td>\n",
       "      <td>1</td>\n",
       "      <td>0</td>\n",
       "      <td>0</td>\n",
       "      <td>...</td>\n",
       "      <td>0</td>\n",
       "      <td>0</td>\n",
       "      <td>0</td>\n",
       "      <td>0</td>\n",
       "      <td>1</td>\n",
       "      <td>0</td>\n",
       "      <td>0</td>\n",
       "      <td>0</td>\n",
       "      <td>0</td>\n",
       "      <td>0</td>\n",
       "    </tr>\n",
       "    <tr>\n",
       "      <th>7436</th>\n",
       "      <td>0.095439</td>\n",
       "      <td>0.105263</td>\n",
       "      <td>0.428571</td>\n",
       "      <td>0.034483</td>\n",
       "      <td>1</td>\n",
       "      <td>0</td>\n",
       "      <td>0</td>\n",
       "      <td>0</td>\n",
       "      <td>1</td>\n",
       "      <td>0</td>\n",
       "      <td>...</td>\n",
       "      <td>0</td>\n",
       "      <td>0</td>\n",
       "      <td>0</td>\n",
       "      <td>0</td>\n",
       "      <td>0</td>\n",
       "      <td>0</td>\n",
       "      <td>0</td>\n",
       "      <td>0</td>\n",
       "      <td>1</td>\n",
       "      <td>0</td>\n",
       "    </tr>\n",
       "    <tr>\n",
       "      <th>952</th>\n",
       "      <td>0.095123</td>\n",
       "      <td>0.052632</td>\n",
       "      <td>0.142857</td>\n",
       "      <td>0.000000</td>\n",
       "      <td>0</td>\n",
       "      <td>1</td>\n",
       "      <td>0</td>\n",
       "      <td>0</td>\n",
       "      <td>0</td>\n",
       "      <td>1</td>\n",
       "      <td>...</td>\n",
       "      <td>0</td>\n",
       "      <td>0</td>\n",
       "      <td>0</td>\n",
       "      <td>0</td>\n",
       "      <td>0</td>\n",
       "      <td>0</td>\n",
       "      <td>0</td>\n",
       "      <td>0</td>\n",
       "      <td>1</td>\n",
       "      <td>0</td>\n",
       "    </tr>\n",
       "  </tbody>\n",
       "</table>\n",
       "<p>5 rows × 26 columns</p>\n",
       "</div>"
      ],
      "text/plain": [
       "       BuiltUpSize  NoOfBathroom  NoOfBedroom  NoOfParking  State_johor  \\\n",
       "4972      0.090909      0.052632     0.285714     0.000000            0   \n",
       "12016     0.098494      0.052632     0.142857     0.034483            0   \n",
       "9048      0.139682      0.052632     0.285714     0.000000            0   \n",
       "7436      0.095439      0.105263     0.428571     0.034483            1   \n",
       "952       0.095123      0.052632     0.142857     0.000000            0   \n",
       "\n",
       "       State_kuala-lumpur  State_putrajaya  State_selangor  \\\n",
       "4972                    0                0               1   \n",
       "12016                   0                0               1   \n",
       "9048                    0                0               1   \n",
       "7436                    0                0               0   \n",
       "952                     1                0               0   \n",
       "\n",
       "       Furnishing_Fully Furnished  Furnishing_Partly Furnished  \\\n",
       "4972                            0                            1   \n",
       "12016                           1                            0   \n",
       "9048                            0                            0   \n",
       "7436                            1                            0   \n",
       "952                             0                            1   \n",
       "\n",
       "                ...            PropertyType_4-sty Terrace/Link House  \\\n",
       "4972            ...                                                0   \n",
       "12016           ...                                                0   \n",
       "9048            ...                                                0   \n",
       "7436            ...                                                0   \n",
       "952             ...                                                0   \n",
       "\n",
       "       PropertyType_Apartment  PropertyType_Bungalow  \\\n",
       "4972                        1                      0   \n",
       "12016                       0                      0   \n",
       "9048                        0                      0   \n",
       "7436                        0                      0   \n",
       "952                         0                      0   \n",
       "\n",
       "       PropertyType_Cluster House  PropertyType_Condominium  \\\n",
       "4972                            0                         0   \n",
       "12016                           0                         1   \n",
       "9048                            0                         1   \n",
       "7436                            0                         0   \n",
       "952                             0                         0   \n",
       "\n",
       "       PropertyType_Flat  PropertyType_Residential Land  \\\n",
       "4972                   0                              0   \n",
       "12016                  0                              0   \n",
       "9048                   0                              0   \n",
       "7436                   0                              0   \n",
       "952                    0                              0   \n",
       "\n",
       "       PropertyType_Semi-detached House  PropertyType_Serviced Residence  \\\n",
       "4972                                  0                                0   \n",
       "12016                                 0                                0   \n",
       "9048                                  0                                0   \n",
       "7436                                  0                                1   \n",
       "952                                   0                                1   \n",
       "\n",
       "       PropertyType_Townhouse  \n",
       "4972                        0  \n",
       "12016                       0  \n",
       "9048                        0  \n",
       "7436                        0  \n",
       "952                         0  \n",
       "\n",
       "[5 rows x 26 columns]"
      ]
     },
     "execution_count": 87,
     "metadata": {},
     "output_type": "execute_result"
    }
   ],
   "source": [
    "print(X_test.shape)\n",
    "X_test.head()"
   ]
  },
  {
   "cell_type": "markdown",
   "metadata": {},
   "source": [
    "**Note: ** Comparing the results before and after scaling, the MinMaxScaler seemed to work fine and the numeric features have been scaled as expected, despite the SettingWithCopyWarning."
   ]
  },
  {
   "cell_type": "markdown",
   "metadata": {},
   "source": [
    "## Create the model\n",
    "We'll use Keras Sequential model with two densely connected hidden layers, and an output layer that returns a single, continuous value. Keras Sequential model is a linear stack of layers, you can easily create the model by passing a list of layer instances to the constructor, which you set up by running model = Sequential()\n",
    "\n",
    "In this case, we picked 64 hidden units for the first and second layer of our model. We are setting the amount of freedom that we are allowing the network to have when it’s learning representations. If we would allow more hidden units, our network will be able to learn more complex representations but it will also be a more expensive operation that can be prone to overfitting. \n",
    "\n",
    "Remember that overfitting occurs when the model is too complex: it will describe random error or noise and not the underlying relationship that it needs to describe. In other words, the training data is modelled too well! Note that when we don’t have that much training data available, we should prefer to use a small network with very few hidden layers.\n",
    "\n",
    "For the activation function, we will use Rectified Linear Unit (relu) which is one of the most common activation functions. You can also experiment with other activation functions like Hyperbolic Tangent (tanh).\n",
    "\n",
    "If we want to get some information on the model that we have just created, we can use the attribute `output_shape` or the `summary()` function. We can also get the model configuration info using the `get_config()` function."
   ]
  },
  {
   "cell_type": "code",
   "execution_count": 88,
   "metadata": {},
   "outputs": [
    {
     "name": "stderr",
     "output_type": "stream",
     "text": [
      "Using TensorFlow backend.\n"
     ]
    }
   ],
   "source": [
    "# import Sequential from keras.models\n",
    "from keras.models import Sequential\n",
    "\n",
    "# import Dense from keras.layers\n",
    "from keras.layers import Dense\n",
    "\n",
    "# initialize the constructor\n",
    "model = Sequential()\n",
    "\n",
    "# add a densely-connected layer with 64 units to the model\n",
    "model.add(Dense(64, activation=\"relu\", input_shape=(X_train.shape[1],)))\n",
    "\n",
    "# add another layer with 64 units\n",
    "model.add(Dense(64, activation=\"relu\"))\n",
    "\n",
    "# add an output layer with 1 output unit\n",
    "model.add(Dense(1))"
   ]
  },
  {
   "cell_type": "code",
   "execution_count": 89,
   "metadata": {},
   "outputs": [
    {
     "name": "stdout",
     "output_type": "stream",
     "text": [
      "(None, 1)\n",
      "_________________________________________________________________\n",
      "Layer (type)                 Output Shape              Param #   \n",
      "=================================================================\n",
      "dense_1 (Dense)              (None, 64)                1728      \n",
      "_________________________________________________________________\n",
      "dense_2 (Dense)              (None, 64)                4160      \n",
      "_________________________________________________________________\n",
      "dense_3 (Dense)              (None, 1)                 65        \n",
      "=================================================================\n",
      "Total params: 5,953\n",
      "Trainable params: 5,953\n",
      "Non-trainable params: 0\n",
      "_________________________________________________________________\n",
      "None\n"
     ]
    }
   ],
   "source": [
    "# model output shape\n",
    "print(model.output_shape)\n",
    "\n",
    "# model summary\n",
    "print(model.summary())"
   ]
  },
  {
   "cell_type": "code",
   "execution_count": 90,
   "metadata": {},
   "outputs": [
    {
     "data": {
      "text/plain": [
       "[{'class_name': 'Dense',\n",
       "  'config': {'activation': 'relu',\n",
       "   'activity_regularizer': None,\n",
       "   'batch_input_shape': (None, 26),\n",
       "   'bias_constraint': None,\n",
       "   'bias_initializer': {'class_name': 'Zeros', 'config': {}},\n",
       "   'bias_regularizer': None,\n",
       "   'dtype': 'float32',\n",
       "   'kernel_constraint': None,\n",
       "   'kernel_initializer': {'class_name': 'VarianceScaling',\n",
       "    'config': {'distribution': 'uniform',\n",
       "     'mode': 'fan_avg',\n",
       "     'scale': 1.0,\n",
       "     'seed': None}},\n",
       "   'kernel_regularizer': None,\n",
       "   'name': 'dense_1',\n",
       "   'trainable': True,\n",
       "   'units': 64,\n",
       "   'use_bias': True}},\n",
       " {'class_name': 'Dense',\n",
       "  'config': {'activation': 'relu',\n",
       "   'activity_regularizer': None,\n",
       "   'bias_constraint': None,\n",
       "   'bias_initializer': {'class_name': 'Zeros', 'config': {}},\n",
       "   'bias_regularizer': None,\n",
       "   'kernel_constraint': None,\n",
       "   'kernel_initializer': {'class_name': 'VarianceScaling',\n",
       "    'config': {'distribution': 'uniform',\n",
       "     'mode': 'fan_avg',\n",
       "     'scale': 1.0,\n",
       "     'seed': None}},\n",
       "   'kernel_regularizer': None,\n",
       "   'name': 'dense_2',\n",
       "   'trainable': True,\n",
       "   'units': 64,\n",
       "   'use_bias': True}},\n",
       " {'class_name': 'Dense',\n",
       "  'config': {'activation': 'linear',\n",
       "   'activity_regularizer': None,\n",
       "   'bias_constraint': None,\n",
       "   'bias_initializer': {'class_name': 'Zeros', 'config': {}},\n",
       "   'bias_regularizer': None,\n",
       "   'kernel_constraint': None,\n",
       "   'kernel_initializer': {'class_name': 'VarianceScaling',\n",
       "    'config': {'distribution': 'uniform',\n",
       "     'mode': 'fan_avg',\n",
       "     'scale': 1.0,\n",
       "     'seed': None}},\n",
       "   'kernel_regularizer': None,\n",
       "   'name': 'dense_3',\n",
       "   'trainable': True,\n",
       "   'units': 1,\n",
       "   'use_bias': True}}]"
      ]
     },
     "execution_count": 90,
     "metadata": {},
     "output_type": "execute_result"
    }
   ],
   "source": [
    "# model config\n",
    "model.get_config()"
   ]
  },
  {
   "cell_type": "markdown",
   "metadata": {},
   "source": [
    "## Set up training\n",
    "\n",
    "After the model is constructed, we will configure its learning process by calling the `compile` method. The `compile` method takes three important arguments:\n",
    "\n",
    "- optimizer: This object specifies the training procedure. Pass it optimizer instances from the tf.train module, such as tf.train.AdamOptimizer, tf.train.RMSPropOptimizer, or tf.train.GradientDescentOptimizer. In this case we will use tf.train.RMSPropOptimizer with learning rate = 0.001\n",
    "- loss: The function to minimize during optimization. Common choices include mean square error (mse), categorical_crossentropy, and binary_crossentropy. Loss functions are specified by name or by passing a callable object from the tf.keras.losses module. In this case, we will use mean square error (mse)\n",
    "- metrics: Used to monitor training. These are string names or callables from the tf.keras.metrics module. In this case, we will use mean absolute error (mae)\n"
   ]
  },
  {
   "cell_type": "code",
   "execution_count": 91,
   "metadata": {},
   "outputs": [],
   "source": [
    "optimizer = tf.train.RMSPropOptimizer(0.001)\n",
    "\n",
    "model.compile(loss=\"mse\",\n",
    "              optimizer=optimizer,\n",
    "              metrics=[\"mae\"])"
   ]
  },
  {
   "cell_type": "markdown",
   "metadata": {},
   "source": [
    "## Train the model\n",
    "\n",
    "The model is trained for 50 epochs. Validation_split is 0.2 or 20% of the training data to be used as validation data, the model will set apart this fraction of the training data, will not train on it, and will evaluate the loss and any model metrics on this data at the end of each epoch. We will leave the batch_size at default 32. Lastly, we set the verbose argument to 1 so that we can see logs appearing (verbose=0 will show you nothing (silent), verbose=1 will show you an animated progress bar, verbose=2 will just mention the number of epoch)."
   ]
  },
  {
   "cell_type": "code",
   "execution_count": 92,
   "metadata": {},
   "outputs": [
    {
     "name": "stdout",
     "output_type": "stream",
     "text": [
      "Train on 7809 samples, validate on 1953 samples\n",
      "Epoch 1/50\n",
      "7809/7809 [==============================] - 1s 77us/step - loss: 5079903.6738 - mean_absolute_error: 1985.5752 - val_loss: 4168662.0024 - val_mean_absolute_error: 1727.8718\n",
      "Epoch 2/50\n",
      "7809/7809 [==============================] - 0s 43us/step - loss: 2523088.4796 - mean_absolute_error: 1170.6210 - val_loss: 1202596.0864 - val_mean_absolute_error: 683.8932\n",
      "Epoch 3/50\n",
      "7809/7809 [==============================] - 0s 37us/step - loss: 963952.7490 - mean_absolute_error: 664.1744 - val_loss: 915018.7222 - val_mean_absolute_error: 629.9185\n",
      "Epoch 4/50\n",
      "7809/7809 [==============================] - 0s 38us/step - loss: 825440.8140 - mean_absolute_error: 611.2054 - val_loss: 844389.1683 - val_mean_absolute_error: 587.8791\n",
      "Epoch 5/50\n",
      "7809/7809 [==============================] - 0s 44us/step - loss: 783148.0805 - mean_absolute_error: 591.3817 - val_loss: 819193.2689 - val_mean_absolute_error: 582.1123\n",
      "Epoch 6/50\n",
      "7809/7809 [==============================] - 0s 41us/step - loss: 766064.1354 - mean_absolute_error: 585.2783 - val_loss: 803935.9181 - val_mean_absolute_error: 584.0444\n",
      "Epoch 7/50\n",
      "7809/7809 [==============================] - 0s 39us/step - loss: 753404.6784 - mean_absolute_error: 580.8483 - val_loss: 795256.5439 - val_mean_absolute_error: 595.4811\n",
      "Epoch 8/50\n",
      "7809/7809 [==============================] - 0s 38us/step - loss: 743652.9944 - mean_absolute_error: 580.8595 - val_loss: 787187.5377 - val_mean_absolute_error: 577.4071\n",
      "Epoch 9/50\n",
      "7809/7809 [==============================] - 0s 37us/step - loss: 734468.3642 - mean_absolute_error: 576.2698 - val_loss: 778442.0241 - val_mean_absolute_error: 585.8328\n",
      "Epoch 10/50\n",
      "7809/7809 [==============================] - 0s 33us/step - loss: 726027.6242 - mean_absolute_error: 575.1287 - val_loss: 771068.0298 - val_mean_absolute_error: 583.6950\n",
      "Epoch 11/50\n",
      "7809/7809 [==============================] - 0s 32us/step - loss: 717402.4873 - mean_absolute_error: 573.6858 - val_loss: 764478.4838 - val_mean_absolute_error: 583.0645\n",
      "Epoch 12/50\n",
      "7809/7809 [==============================] - 0s 33us/step - loss: 709920.4611 - mean_absolute_error: 570.7304 - val_loss: 758939.8403 - val_mean_absolute_error: 578.0385\n",
      "Epoch 13/50\n",
      "7809/7809 [==============================] - 0s 44us/step - loss: 702818.4621 - mean_absolute_error: 569.0701 - val_loss: 757750.9298 - val_mean_absolute_error: 593.6109\n",
      "Epoch 14/50\n",
      "7809/7809 [==============================] - 0s 38us/step - loss: 696732.0550 - mean_absolute_error: 571.2992 - val_loss: 754663.2457 - val_mean_absolute_error: 567.1979\n",
      "Epoch 15/50\n",
      "7809/7809 [==============================] - 0s 37us/step - loss: 691155.4322 - mean_absolute_error: 565.9849 - val_loss: 744408.6594 - val_mean_absolute_error: 572.9655\n",
      "Epoch 16/50\n",
      "7809/7809 [==============================] - 0s 38us/step - loss: 685133.0698 - mean_absolute_error: 564.4085 - val_loss: 740858.2944 - val_mean_absolute_error: 571.3202\n",
      "Epoch 17/50\n",
      "7809/7809 [==============================] - 0s 41us/step - loss: 680195.0796 - mean_absolute_error: 562.1824 - val_loss: 737255.5596 - val_mean_absolute_error: 579.0933\n",
      "Epoch 18/50\n",
      "7809/7809 [==============================] - 0s 37us/step - loss: 674828.4231 - mean_absolute_error: 561.3080 - val_loss: 733100.7212 - val_mean_absolute_error: 574.7371\n",
      "Epoch 19/50\n",
      "7809/7809 [==============================] - 0s 38us/step - loss: 669123.3128 - mean_absolute_error: 559.6465 - val_loss: 729609.8073 - val_mean_absolute_error: 575.6493\n",
      "Epoch 20/50\n",
      "7809/7809 [==============================] - 0s 32us/step - loss: 663572.9154 - mean_absolute_error: 557.6566 - val_loss: 726157.6389 - val_mean_absolute_error: 571.7755\n",
      "Epoch 21/50\n",
      "7809/7809 [==============================] - 0s 33us/step - loss: 659876.3710 - mean_absolute_error: 555.4916 - val_loss: 722500.1073 - val_mean_absolute_error: 569.8475\n",
      "Epoch 22/50\n",
      "7809/7809 [==============================] - 0s 33us/step - loss: 653882.4300 - mean_absolute_error: 554.1187 - val_loss: 721031.6900 - val_mean_absolute_error: 576.9651\n",
      "Epoch 23/50\n",
      "7809/7809 [==============================] - 0s 33us/step - loss: 648958.8609 - mean_absolute_error: 551.9139 - val_loss: 717542.4722 - val_mean_absolute_error: 575.0112\n",
      "Epoch 24/50\n",
      "7809/7809 [==============================] - 0s 43us/step - loss: 643683.7807 - mean_absolute_error: 549.3361 - val_loss: 714761.4424 - val_mean_absolute_error: 572.7380\n",
      "Epoch 25/50\n",
      "7809/7809 [==============================] - 0s 35us/step - loss: 639266.5411 - mean_absolute_error: 548.9949 - val_loss: 708464.2488 - val_mean_absolute_error: 561.9426\n",
      "Epoch 26/50\n",
      "7809/7809 [==============================] - 0s 45us/step - loss: 635206.0321 - mean_absolute_error: 544.7265 - val_loss: 707230.7917 - val_mean_absolute_error: 568.7440\n",
      "Epoch 27/50\n",
      "7809/7809 [==============================] - 0s 37us/step - loss: 630485.2310 - mean_absolute_error: 543.6929 - val_loss: 703239.7802 - val_mean_absolute_error: 558.8788\n",
      "Epoch 28/50\n",
      "7809/7809 [==============================] - 0s 51us/step - loss: 626598.6315 - mean_absolute_error: 541.4171 - val_loss: 699387.9935 - val_mean_absolute_error: 557.0139\n",
      "Epoch 29/50\n",
      "7809/7809 [==============================] - 0s 47us/step - loss: 622013.9557 - mean_absolute_error: 538.6654 - val_loss: 696057.3611 - val_mean_absolute_error: 554.0642\n",
      "Epoch 30/50\n",
      "7809/7809 [==============================] - 0s 37us/step - loss: 617196.4725 - mean_absolute_error: 535.4675 - val_loss: 695822.2169 - val_mean_absolute_error: 565.9153\n",
      "Epoch 31/50\n",
      "7809/7809 [==============================] - 0s 32us/step - loss: 613399.3498 - mean_absolute_error: 535.7529 - val_loss: 688078.7352 - val_mean_absolute_error: 549.9192\n",
      "Epoch 32/50\n",
      "7809/7809 [==============================] - 0s 48us/step - loss: 608139.7765 - mean_absolute_error: 532.4569 - val_loss: 688230.2072 - val_mean_absolute_error: 542.6946\n",
      "Epoch 33/50\n",
      "7809/7809 [==============================] - 0s 39us/step - loss: 603677.5843 - mean_absolute_error: 527.8543 - val_loss: 684198.1073 - val_mean_absolute_error: 553.1968\n",
      "Epoch 34/50\n",
      "7809/7809 [==============================] - 0s 35us/step - loss: 599238.8266 - mean_absolute_error: 528.0195 - val_loss: 680846.4156 - val_mean_absolute_error: 548.9077\n",
      "Epoch 35/50\n",
      "7809/7809 [==============================] - 0s 32us/step - loss: 595514.2272 - mean_absolute_error: 524.9743 - val_loss: 676969.8422 - val_mean_absolute_error: 541.0903\n",
      "Epoch 36/50\n",
      "7809/7809 [==============================] - 0s 33us/step - loss: 591130.4328 - mean_absolute_error: 522.4401 - val_loss: 673931.0287 - val_mean_absolute_error: 538.4400\n",
      "Epoch 37/50\n",
      "7809/7809 [==============================] - 0s 48us/step - loss: 587311.2272 - mean_absolute_error: 519.5560 - val_loss: 673768.3328 - val_mean_absolute_error: 548.9206\n",
      "Epoch 38/50\n",
      "7809/7809 [==============================] - 0s 37us/step - loss: 583787.3528 - mean_absolute_error: 518.6193 - val_loss: 667443.1753 - val_mean_absolute_error: 539.8820\n",
      "Epoch 39/50\n",
      "7809/7809 [==============================] - 0s 43us/step - loss: 580239.0649 - mean_absolute_error: 516.4659 - val_loss: 663956.6558 - val_mean_absolute_error: 534.8705\n",
      "Epoch 40/50\n",
      "7809/7809 [==============================] - 0s 37us/step - loss: 576538.9014 - mean_absolute_error: 513.7117 - val_loss: 661334.7537 - val_mean_absolute_error: 529.2628\n",
      "Epoch 41/50\n",
      "7809/7809 [==============================] - 0s 35us/step - loss: 572613.6268 - mean_absolute_error: 511.1825 - val_loss: 663430.7209 - val_mean_absolute_error: 543.0348\n",
      "Epoch 42/50\n",
      "7809/7809 [==============================] - 0s 40us/step - loss: 569156.9662 - mean_absolute_error: 511.7129 - val_loss: 658700.2467 - val_mean_absolute_error: 521.0261\n",
      "Epoch 43/50\n",
      "7809/7809 [==============================] - 0s 41us/step - loss: 567065.3225 - mean_absolute_error: 507.4666 - val_loss: 653714.4422 - val_mean_absolute_error: 529.8928\n",
      "Epoch 44/50\n",
      "7809/7809 [==============================] - 0s 39us/step - loss: 563534.1588 - mean_absolute_error: 507.3251 - val_loss: 650413.6974 - val_mean_absolute_error: 525.3110\n",
      "Epoch 45/50\n",
      "7809/7809 [==============================] - 0s 46us/step - loss: 561253.7150 - mean_absolute_error: 505.5342 - val_loss: 648663.1274 - val_mean_absolute_error: 521.7183\n"
     ]
    },
    {
     "name": "stdout",
     "output_type": "stream",
     "text": [
      "Epoch 46/50\n",
      "7809/7809 [==============================] - 0s 50us/step - loss: 558691.0669 - mean_absolute_error: 503.8071 - val_loss: 645507.3642 - val_mean_absolute_error: 522.1648\n",
      "Epoch 47/50\n",
      "7809/7809 [==============================] - 0s 48us/step - loss: 555868.9209 - mean_absolute_error: 502.3468 - val_loss: 646373.3327 - val_mean_absolute_error: 526.8913\n",
      "Epoch 48/50\n",
      "7809/7809 [==============================] - 0s 45us/step - loss: 553607.8465 - mean_absolute_error: 501.8248 - val_loss: 644179.1834 - val_mean_absolute_error: 519.2695\n",
      "Epoch 49/50\n",
      "7809/7809 [==============================] - 0s 46us/step - loss: 551310.4978 - mean_absolute_error: 500.6788 - val_loss: 640838.4324 - val_mean_absolute_error: 515.7311\n",
      "Epoch 50/50\n",
      "7809/7809 [==============================] - 0s 41us/step - loss: 549107.5606 - mean_absolute_error: 498.6972 - val_loss: 639510.5959 - val_mean_absolute_error: 513.6783\n",
      "Wall time: 16 s\n"
     ]
    }
   ],
   "source": [
    "%%time\n",
    "history = model.fit(X_train, y_train, epochs=50, validation_split=0.2, verbose=1)"
   ]
  },
  {
   "cell_type": "code",
   "execution_count": 93,
   "metadata": {},
   "outputs": [
    {
     "name": "stdout",
     "output_type": "stream",
     "text": [
      "dict_keys(['val_loss', 'val_mean_absolute_error', 'loss', 'mean_absolute_error'])\n"
     ]
    }
   ],
   "source": [
    "# list all data in history\n",
    "print(history.history.keys())"
   ]
  },
  {
   "cell_type": "code",
   "execution_count": 94,
   "metadata": {},
   "outputs": [
    {
     "data": {
      "image/png": "[encoded data removed]",
      "text/plain": [
       "<Figure size 720x432 with 1 Axes>"
      ]
     },
     "metadata": {},
     "output_type": "display_data"
    }
   ],
   "source": [
    "# summarize history for mean_absolute_error\n",
    "plt.figure(figsize=(10,6))\n",
    "plt.plot(history.history[\"mean_absolute_error\"])\n",
    "plt.plot(history.history[\"val_mean_absolute_error\"])\n",
    "plt.title(\"Mean Absolute Error\")\n",
    "plt.ylabel(\"MAE\")\n",
    "plt.xlabel(\"Epoch\")\n",
    "plt.legend([\"Train\", \"Test\"], loc=\"upper left\")\n",
    "plt.show()"
   ]
  },
  {
   "cell_type": "code",
   "execution_count": 95,
   "metadata": {},
   "outputs": [
    {
     "data": {
      "image/png": "[encoded data removed]",
      "text/plain": [
       "<Figure size 720x432 with 1 Axes>"
      ]
     },
     "metadata": {},
     "output_type": "display_data"
    }
   ],
   "source": [
    "# summarize history for loss\n",
    "plt.figure(figsize=(10,6))\n",
    "plt.plot(history.history[\"loss\"])\n",
    "plt.plot(history.history[\"val_loss\"])\n",
    "plt.title(\"Model Loss\")\n",
    "plt.ylabel(\"Loss\")\n",
    "plt.xlabel(\"Epoch\")\n",
    "plt.legend([\"Train\", \"Test\"], loc=\"upper left\")\n",
    "plt.show()"
   ]
  },
  {
   "cell_type": "markdown",
   "metadata": {},
   "source": [
    "## Predict Values"
   ]
  },
  {
   "cell_type": "code",
   "execution_count": 96,
   "metadata": {},
   "outputs": [],
   "source": [
    "y_pred = model.predict(X_test)"
   ]
  },
  {
   "cell_type": "markdown",
   "metadata": {},
   "source": [
    "## Evaluate Model"
   ]
  },
  {
   "cell_type": "code",
   "execution_count": 97,
   "metadata": {},
   "outputs": [
    {
     "name": "stdout",
     "output_type": "stream",
     "text": [
      "3254/3254 [==============================] - 0s 30us/step\n"
     ]
    }
   ],
   "source": [
    "[mse, mae] = model.evaluate(X_test, y_test, verbose=1)"
   ]
  },
  {
   "cell_type": "code",
   "execution_count": 98,
   "metadata": {},
   "outputs": [
    {
     "name": "stdout",
     "output_type": "stream",
     "text": [
      "Testing set Root Mean Squared Error: RM786.6771891951615\n",
      "Testing set Mean Absolute Error: RM510.8297275948832\n"
     ]
    }
   ],
   "source": [
    "keras_rmse = np.sqrt(int(mse))\n",
    "keras_mae = mae\n",
    "\n",
    "print(\"Testing set Root Mean Squared Error: RM{}\".format(keras_rmse))\n",
    "print(\"Testing set Mean Absolute Error: RM{}\".format(keras_mae))"
   ]
  },
  {
   "cell_type": "markdown",
   "metadata": {},
   "source": [
    "Since keras does not have the R-squared metric built in, we will use `r2_score` function from sklearn"
   ]
  },
  {
   "cell_type": "code",
   "execution_count": 99,
   "metadata": {
    "scrolled": true
   },
   "outputs": [
    {
     "name": "stdout",
     "output_type": "stream",
     "text": [
      "Tensorflow with Keras Sequential model R-squared: 0.46684190552680105\n"
     ]
    }
   ],
   "source": [
    "# calculate R-squared\n",
    "from sklearn.metrics import r2_score\n",
    "keras_r2 = r2_score(y_test, y_pred)\n",
    "\n",
    "print(\"Tensorflow with Keras Sequential model R-squared: {}\".format(keras_r2))"
   ]
  },
  {
   "cell_type": "markdown",
   "metadata": {},
   "source": [
    "***\n",
    "## Overfitting\n",
    "One of the most common problems data scientists face is overfitting. Have you come across a situation where your model performed exceptionally well on train data, but was not able to predict test data? In other words, Test loss is significantly higher than Training loss. Or the accuracy of your model on the test data would peak after training for a number of epochs, and would then start decreasing. This shows the model overfits to the training data. Although it's often possible to achieve low loss or high accuracy on the training set, what we really want is to develop models that generalize well to a testing data (or data they haven't seen before). To prevent overfitting, the best solution is to use more training data. A model trained on more data will naturally generalize better. The next best solution is to reduce the size of the model or the capacity of the network. When that is no longer possible, the next solution is to use techniques like regularization. These place constraints on the quantity and type of information your model can store. If a network can only afford to memorize a small number of patterns, the optimization process will force it to focus on the most prominent patterns, which have a better chance of generalizing well. There are two common regularization techniques i.e. weight regularization and dropout that can be used to improve our model.\n",
    "\n",
    "According to [Tensorflow documentation](https://www.tensorflow.org/tutorials/keras/overfit_and_underfit), the most common ways to prevent overfitting in neural networks are:\n",
    "\n",
    "- Get more training data\n",
    "- Reduce the capacity of the network\n",
    "- Add weight regularization\n",
    "- Add dropout\n"
   ]
  },
  {
   "cell_type": "markdown",
   "metadata": {},
   "source": [
    "***\n",
    "## Get more training data\n",
    "To prevent overfitting, the best solution is to use more training data. A model trained on more data will naturally generalize better. However, this is not possible at the moment, we will try other methods to prevent overfitting."
   ]
  },
  {
   "cell_type": "markdown",
   "metadata": {},
   "source": [
    "***\n",
    "## Reduce the capacity of the network"
   ]
  },
  {
   "cell_type": "markdown",
   "metadata": {},
   "source": [
    "The second way to prevent overfitting is to reduce the size of the model, i.e. the number of learnable parameters in the model (which is determined by the number of layers and the number of units per layer). In deep learning, the number of learnable parameters in a model is often referred to as the model's \"capacity\". Intuitively, a model with more parameters will have more \"memorization capacity\" and therefore will be able to easily learn a perfect dictionary-like mapping between training samples and their targets, a mapping without any generalization power, but this would be useless when making predictions on previously unseen data.\n",
    "\n",
    "Always keep this in mind: deep learning models tend to be good at fitting to the training data, but the real challenge is generalization, not fitting.\n",
    "\n",
    "On the other hand, if the network has limited memorization resources, it will not be able to learn the mapping as easily. To minimize its loss, it will have to learn compressed representations that have more predictive power. At the same time, if you make your model too small, it will have difficulty fitting to the training data. There is a balance between \"too much capacity\" and \"not enough capacity\".\n",
    "\n",
    "Unfortunately, there is no magical formula to determine the right size or architecture of your model (in terms of the number of layers, or the right size for each layer). You will have to experiment using a series of different architectures.\n",
    "\n",
    "To find an appropriate model size, it's best to start with relatively few layers and parameters, then begin increasing the size of the layers or adding new layers until you see diminishing returns on the validation loss.\n",
    "\n",
    "Previously we used 64 hidden units for the first and second layer of our model. Now we will create a second model (\"model_reduce\") and reduce the hidden units from 64 to 16 and see if the RMSE and MAE drop."
   ]
  },
  {
   "cell_type": "code",
   "execution_count": 100,
   "metadata": {},
   "outputs": [],
   "source": [
    "# initialize the constructor\n",
    "model_reduce = Sequential()\n",
    "\n",
    "# add a densely-connected layer with 16 units to the model:\n",
    "model_reduce.add(Dense(16, activation=\"relu\", input_shape=(X_train.shape[1],)))\n",
    "\n",
    "# add another layer with 16 units\n",
    "model_reduce.add(Dense(16, activation=\"relu\"))\n",
    "\n",
    "# add an output layer with 1 output unit\n",
    "model_reduce.add(Dense(1))"
   ]
  },
  {
   "cell_type": "code",
   "execution_count": 101,
   "metadata": {},
   "outputs": [],
   "source": [
    "optimizer = tf.train.RMSPropOptimizer(0.001)\n",
    "\n",
    "model_reduce.compile(loss=\"mse\",\n",
    "              optimizer=optimizer,\n",
    "              metrics=[\"mae\"])"
   ]
  },
  {
   "cell_type": "code",
   "execution_count": 102,
   "metadata": {},
   "outputs": [
    {
     "name": "stdout",
     "output_type": "stream",
     "text": [
      "Wall time: 10.7 s\n"
     ]
    }
   ],
   "source": [
    "%%time\n",
    "history = model_reduce.fit(X_train, y_train, epochs=50, validation_split=0.2, verbose=0)"
   ]
  },
  {
   "cell_type": "code",
   "execution_count": 103,
   "metadata": {},
   "outputs": [
    {
     "data": {
      "image/png": "[encoded data removed]",
      "text/plain": [
       "<Figure size 720x432 with 1 Axes>"
      ]
     },
     "metadata": {},
     "output_type": "display_data"
    }
   ],
   "source": [
    "# summarize history for mean_absolute_error\n",
    "plt.figure(figsize=(10,6))\n",
    "plt.plot(history.history[\"mean_absolute_error\"])\n",
    "plt.plot(history.history[\"val_mean_absolute_error\"])\n",
    "plt.title(\"Mean Absolute Error\")\n",
    "plt.ylabel(\"MAE\")\n",
    "plt.xlabel(\"Epoch\")\n",
    "plt.legend([\"Train\", \"Test\"], loc=\"upper left\")\n",
    "plt.show()"
   ]
  },
  {
   "cell_type": "code",
   "execution_count": 104,
   "metadata": {},
   "outputs": [
    {
     "data": {
      "image/png": "[encoded data removed]",
      "text/plain": [
       "<Figure size 720x432 with 1 Axes>"
      ]
     },
     "metadata": {},
     "output_type": "display_data"
    }
   ],
   "source": [
    "# summarize history for loss\n",
    "plt.figure(figsize=(10,6))\n",
    "plt.plot(history.history[\"loss\"])\n",
    "plt.plot(history.history[\"val_loss\"])\n",
    "plt.title(\"Model Loss\")\n",
    "plt.ylabel(\"Loss\")\n",
    "plt.xlabel(\"Epoch\")\n",
    "plt.legend([\"Train\", \"Test\"], loc=\"upper left\")\n",
    "plt.show()"
   ]
  },
  {
   "cell_type": "code",
   "execution_count": 105,
   "metadata": {},
   "outputs": [],
   "source": [
    "# predict values\n",
    "y_pred = model_reduce.predict(X_test)"
   ]
  },
  {
   "cell_type": "code",
   "execution_count": 106,
   "metadata": {},
   "outputs": [
    {
     "name": "stdout",
     "output_type": "stream",
     "text": [
      "3254/3254 [==============================] - 0s 15us/step\n"
     ]
    }
   ],
   "source": [
    "# evaluate model\n",
    "[mse_reduce, mae_reduce] = model_reduce.evaluate(X_test, y_test, verbose=1)"
   ]
  },
  {
   "cell_type": "code",
   "execution_count": 107,
   "metadata": {},
   "outputs": [
    {
     "name": "stdout",
     "output_type": "stream",
     "text": [
      "Testing set Root Mean Squared Error: RM828.039854113315\n",
      "Testing set Mean Absolute Error: RM553.9193444981777\n"
     ]
    }
   ],
   "source": [
    "keras_rmse_reduce = np.sqrt(int(mse_reduce))\n",
    "keras_mae_reduce = mae_reduce\n",
    "\n",
    "print(\"Testing set Root Mean Squared Error: RM{}\".format(keras_rmse_reduce))\n",
    "print(\"Testing set Mean Absolute Error: RM{}\".format(keras_mae_reduce))"
   ]
  },
  {
   "cell_type": "code",
   "execution_count": 108,
   "metadata": {},
   "outputs": [
    {
     "name": "stdout",
     "output_type": "stream",
     "text": [
      "Tensorflow with Keras Sequential model R-squared: 0.4093021606544138\n"
     ]
    }
   ],
   "source": [
    "# calculate R-squared\n",
    "from sklearn.metrics import r2_score\n",
    "keras_r2_reduce = r2_score(y_test, y_pred)\n",
    "\n",
    "print(\"Tensorflow with Keras Sequential model R-squared: {}\".format(keras_r2_reduce))"
   ]
  },
  {
   "cell_type": "markdown",
   "metadata": {},
   "source": [
    "***\n",
    "## Add weight regularization\n",
    "You may be familiar with Occam's Razor principle: given two explanations for something, the explanation most likely to be correct is the \"simplest\" one, the one that makes the least amount of assumptions. This also applies to the models learned by neural networks: given some training data and a network architecture, there are multiple sets of weights values (multiple models) that could explain the data, and simpler models are less likely to overfit than complex ones.\n",
    "\n",
    "A \"simple model\" in this context is a model where the distribution of parameter values has less entropy (or a model with fewer parameters altogether, as we saw in the section above). Thus a common way to mitigate overfitting is to put constraints on the complexity of a network by forcing its weights only to take small values, which makes the distribution of weight values more \"regular\". This is called \"weight regularization\", and it is done by adding to the loss function of the network a cost associated with having large weights. This cost comes in two flavors:\n",
    "\n",
    "- L1 regularization, where the cost added is proportional to the absolute value of the weights coefficients (i.e. to what is called the \"L1 norm\" of the weights). \n",
    "\n",
    "- L2 regularization, where the cost added is proportional to the square of the value of the weights coefficients (i.e. to what is called the squared \"L2 norm\" of the weights). L2 regularization is also called weight decay in the context of neural networks. Don't let the different name confuse you: weight decay is mathematically the exact same as L2 regularization.\n",
    "\n",
    "- L1 regularization technique is called Lasso Regression and model which uses L2 is called Ridge Regression The key difference between these techniques is that Lasso (L1) shrinks the less important feature’s coefficient to zero thus, removing some feature altogether. So, this works well for feature selection in case we have a huge number of features.\n",
    "\n",
    "In tf.keras, weight regularization is added by passing weight regularizer instances to layers as keyword arguments. Let's add L2 weight regularization now by creating a new model (\"model_reg\")."
   ]
  },
  {
   "cell_type": "code",
   "execution_count": 109,
   "metadata": {},
   "outputs": [],
   "source": [
    "# initialize the constructor\n",
    "model_reg = Sequential()\n",
    "\n",
    "# add a densely-connected layer with 64 units to the model:\n",
    "model_reg.add(Dense(64, kernel_regularizer=keras.regularizers.l2(0.001), activation=\"relu\", input_shape=(X_train.shape[1],)))\n",
    "\n",
    "# add another layer with 64 units\n",
    "model_reg.add(Dense(64, kernel_regularizer=keras.regularizers.l2(0.001), activation=\"relu\"))\n",
    "\n",
    "# add an output layer with 1 output unit\n",
    "model_reg.add(Dense(1))"
   ]
  },
  {
   "cell_type": "code",
   "execution_count": 110,
   "metadata": {},
   "outputs": [],
   "source": [
    "optimizer = tf.train.RMSPropOptimizer(0.001)\n",
    "\n",
    "model_reg.compile(loss=\"mse\",\n",
    "              optimizer=optimizer,\n",
    "              metrics=[\"mae\"])"
   ]
  },
  {
   "cell_type": "code",
   "execution_count": 111,
   "metadata": {},
   "outputs": [
    {
     "name": "stdout",
     "output_type": "stream",
     "text": [
      "Wall time: 12.9 s\n"
     ]
    }
   ],
   "source": [
    "%%time\n",
    "history = model_reg.fit(X_train, y_train, epochs=50, validation_split=0.2, verbose=0)"
   ]
  },
  {
   "cell_type": "code",
   "execution_count": 112,
   "metadata": {},
   "outputs": [
    {
     "data": {
      "image/png": "[encoded data removed]",
      "text/plain": [
       "<Figure size 720x432 with 1 Axes>"
      ]
     },
     "metadata": {},
     "output_type": "display_data"
    }
   ],
   "source": [
    "# summarize history for mean_absolute_error\n",
    "plt.figure(figsize=(10,6))\n",
    "plt.plot(history.history[\"mean_absolute_error\"])\n",
    "plt.plot(history.history[\"val_mean_absolute_error\"])\n",
    "plt.title(\"Mean Absolute Error\")\n",
    "plt.ylabel(\"MAE\")\n",
    "plt.xlabel(\"Epoch\")\n",
    "plt.legend([\"Train\", \"Test\"], loc=\"upper left\")\n",
    "plt.show()"
   ]
  },
  {
   "cell_type": "code",
   "execution_count": 113,
   "metadata": {},
   "outputs": [
    {
     "data": {
      "image/png": "[encoded data removed]",
      "text/plain": [
       "<Figure size 720x432 with 1 Axes>"
      ]
     },
     "metadata": {},
     "output_type": "display_data"
    }
   ],
   "source": [
    "# summarize history for loss\n",
    "plt.figure(figsize=(10,6))\n",
    "plt.plot(history.history[\"loss\"])\n",
    "plt.plot(history.history[\"val_loss\"])\n",
    "plt.title(\"Model Loss\")\n",
    "plt.ylabel(\"Loss\")\n",
    "plt.xlabel(\"Epoch\")\n",
    "plt.legend([\"Train\", \"Test\"], loc=\"upper left\")\n",
    "plt.show()"
   ]
  },
  {
   "cell_type": "code",
   "execution_count": 114,
   "metadata": {},
   "outputs": [],
   "source": [
    "# predict values\n",
    "y_pred = model_reg.predict(X_test)"
   ]
  },
  {
   "cell_type": "code",
   "execution_count": 115,
   "metadata": {},
   "outputs": [
    {
     "name": "stdout",
     "output_type": "stream",
     "text": [
      "3254/3254 [==============================] - 0s 13us/step\n"
     ]
    }
   ],
   "source": [
    "# evaluate model\n",
    "[mse_reg, mae_reg] = model_reg.evaluate(X_test, y_test, verbose=1)"
   ]
  },
  {
   "cell_type": "code",
   "execution_count": 116,
   "metadata": {},
   "outputs": [
    {
     "name": "stdout",
     "output_type": "stream",
     "text": [
      "Testing set Root Mean Squared Error: RM787.1137147833215\n",
      "Testing set Mean Absolute Error: RM514.3790539610803\n"
     ]
    }
   ],
   "source": [
    "keras_rmse_reg = np.sqrt(int(mse_reg))\n",
    "keras_mae_reg = mae_reg\n",
    "\n",
    "print(\"Testing set Root Mean Squared Error: RM{}\".format(keras_rmse_reg))\n",
    "print(\"Testing set Mean Absolute Error: RM{}\".format(keras_mae_reg))"
   ]
  },
  {
   "cell_type": "code",
   "execution_count": 117,
   "metadata": {},
   "outputs": [
    {
     "name": "stdout",
     "output_type": "stream",
     "text": [
      "Tensorflow with Keras Sequential model R-squared: 0.4662534480315179\n"
     ]
    }
   ],
   "source": [
    "# calculate R-squared\n",
    "from sklearn.metrics import r2_score\n",
    "keras_r2_reg = r2_score(y_test, y_pred)\n",
    "\n",
    "print(\"Tensorflow with Keras Sequential model R-squared: {}\".format(keras_r2_reg))"
   ]
  },
  {
   "cell_type": "markdown",
   "metadata": {},
   "source": [
    "***\n",
    "## Add dropout\n",
    "Dropout is one of the most effective and most commonly used regularization techniques for neural networks, developed by Hinton and his students at the University of Toronto. Dropout, applied to a layer, consists of randomly \"dropping out\" (i.e. set to zero) a number of output features of the layer during training. Let's say a given layer would normally have returned a vector [0.2, 0.5, 1.3, 0.8, 1.1] for a given input sample during training; after applying dropout, this vector will have a few zero entries distributed at random, e.g. [0, 0.5, 1.3, 0, 1.1]. The \"dropout rate\" is the fraction of the features that are being zeroed-out; it is usually set between 0.2 and 0.5. At test time, no units are dropped out, and instead the layer's output values are scaled down by a factor equal to the dropout rate, so as to balance for the fact that more units are active than at training time.\n",
    "\n",
    "In tf.keras you can introduce dropout in a network via the Dropout layer, which gets applied to the output of layer right before.\n",
    "\n",
    "Let's create a new model (\"model_dropout\") and add two Dropout layers in our neural network to see how well they do at reducing overfitting:"
   ]
  },
  {
   "cell_type": "code",
   "execution_count": 118,
   "metadata": {},
   "outputs": [],
   "source": [
    "from keras.layers import Dropout\n",
    "\n",
    "# initialize the constructor\n",
    "model_dropout = Sequential()\n",
    "\n",
    "# add a densely-connected layer with 64 units to the model:\n",
    "model_dropout.add(Dense(64, activation=\"relu\", input_shape=(X_train.shape[1],)))\n",
    "\n",
    "model_dropout.add(Dropout(0.5))\n",
    "\n",
    "# add another layer with 64 units\n",
    "model_dropout.add(Dense(64, activation=\"relu\"))\n",
    "\n",
    "model_dropout.add(Dropout(0.5))\n",
    "\n",
    "# add an output layer with 1 output unit\n",
    "model_dropout.add(Dense(1))"
   ]
  },
  {
   "cell_type": "code",
   "execution_count": 119,
   "metadata": {},
   "outputs": [],
   "source": [
    "optimizer = tf.train.RMSPropOptimizer(0.001)\n",
    "\n",
    "model_dropout.compile(loss=\"mse\",\n",
    "              optimizer=optimizer,\n",
    "              metrics=[\"mae\"])"
   ]
  },
  {
   "cell_type": "code",
   "execution_count": 120,
   "metadata": {},
   "outputs": [
    {
     "name": "stdout",
     "output_type": "stream",
     "text": [
      "Wall time: 15.2 s\n"
     ]
    }
   ],
   "source": [
    "%%time\n",
    "history = model_dropout.fit(X_train, y_train, epochs=50, validation_split=0.2, verbose=0)"
   ]
  },
  {
   "cell_type": "code",
   "execution_count": 121,
   "metadata": {},
   "outputs": [
    {
     "data": {
      "image/png": "[encoded data removed]",
      "text/plain": [
       "<Figure size 720x432 with 1 Axes>"
      ]
     },
     "metadata": {},
     "output_type": "display_data"
    }
   ],
   "source": [
    "# summarize history for mean_absolute_error\n",
    "plt.figure(figsize=(10,6))\n",
    "plt.plot(history.history[\"mean_absolute_error\"])\n",
    "plt.plot(history.history[\"val_mean_absolute_error\"])\n",
    "plt.title(\"Mean Absolute Error\")\n",
    "plt.ylabel(\"MAE\")\n",
    "plt.xlabel(\"Epoch\")\n",
    "plt.legend([\"Train\", \"Test\"], loc=\"upper left\")\n",
    "plt.show()"
   ]
  },
  {
   "cell_type": "code",
   "execution_count": 122,
   "metadata": {},
   "outputs": [
    {
     "data": {
      "image/png": "[encoded data removed]",
      "text/plain": [
       "<Figure size 720x432 with 1 Axes>"
      ]
     },
     "metadata": {},
     "output_type": "display_data"
    }
   ],
   "source": [
    "# summarize history for loss\n",
    "plt.figure(figsize=(10,6))\n",
    "plt.plot(history.history[\"loss\"])\n",
    "plt.plot(history.history[\"val_loss\"])\n",
    "plt.title(\"Model Loss\")\n",
    "plt.ylabel(\"Loss\")\n",
    "plt.xlabel(\"Epoch\")\n",
    "plt.legend([\"Train\", \"Test\"], loc=\"upper left\")\n",
    "plt.show()"
   ]
  },
  {
   "cell_type": "code",
   "execution_count": 123,
   "metadata": {},
   "outputs": [],
   "source": [
    "# Predict Values\n",
    "y_pred = model_dropout.predict(X_test)"
   ]
  },
  {
   "cell_type": "code",
   "execution_count": 124,
   "metadata": {},
   "outputs": [
    {
     "name": "stdout",
     "output_type": "stream",
     "text": [
      "3254/3254 [==============================] - 0s 20us/step\n"
     ]
    }
   ],
   "source": [
    "# Evaluate Model\n",
    "[mse_dropout, mae_dropout] = model_dropout.evaluate(X_test, y_test, verbose=1)"
   ]
  },
  {
   "cell_type": "code",
   "execution_count": 125,
   "metadata": {},
   "outputs": [
    {
     "name": "stdout",
     "output_type": "stream",
     "text": [
      "Testing set Root Mean Squared Error: RM817.5701804738233\n",
      "Testing set Mean Absolute Error: RM534.1300840371946\n"
     ]
    }
   ],
   "source": [
    "keras_rmse_dropout = np.sqrt(int(mse_dropout))\n",
    "keras_mae_dropout = mae_dropout\n",
    "\n",
    "print(\"Testing set Root Mean Squared Error: RM{}\".format(keras_rmse_dropout))\n",
    "print(\"Testing set Mean Absolute Error: RM{}\".format(keras_mae_dropout))"
   ]
  },
  {
   "cell_type": "markdown",
   "metadata": {},
   "source": [
    "Since keras does not have the R-squared metric built in, we will use `r2_score` function from sklearn"
   ]
  },
  {
   "cell_type": "code",
   "execution_count": 126,
   "metadata": {
    "scrolled": true
   },
   "outputs": [
    {
     "name": "stdout",
     "output_type": "stream",
     "text": [
      "Tensorflow with Keras Sequential model R-squared: 0.424145542950651\n"
     ]
    }
   ],
   "source": [
    "# calculate R-squared\n",
    "from sklearn.metrics import r2_score\n",
    "keras_r2_dropout = r2_score(y_test, y_pred)\n",
    "\n",
    "print(\"Tensorflow with Keras Sequential model R-squared: {}\".format(keras_r2_dropout))"
   ]
  },
  {
   "cell_type": "markdown",
   "metadata": {},
   "source": [
    "***\n",
    "## Comparison"
   ]
  },
  {
   "cell_type": "code",
   "execution_count": 127,
   "metadata": {},
   "outputs": [
    {
     "data": {
      "text/html": [
       "<div>\n",
       "<style scoped>\n",
       "    .dataframe tbody tr th:only-of-type {\n",
       "        vertical-align: middle;\n",
       "    }\n",
       "\n",
       "    .dataframe tbody tr th {\n",
       "        vertical-align: top;\n",
       "    }\n",
       "\n",
       "    .dataframe thead th {\n",
       "        text-align: right;\n",
       "    }\n",
       "</style>\n",
       "<table border=\"1\" class=\"dataframe\">\n",
       "  <thead>\n",
       "    <tr style=\"text-align: right;\">\n",
       "      <th></th>\n",
       "      <th>Model</th>\n",
       "      <th>R-squared</th>\n",
       "      <th>RMSE</th>\n",
       "      <th>MAE</th>\n",
       "    </tr>\n",
       "  </thead>\n",
       "  <tbody>\n",
       "    <tr>\n",
       "      <th>0</th>\n",
       "      <td>Baseline</td>\n",
       "      <td>0.466842</td>\n",
       "      <td>786.677189</td>\n",
       "      <td>510.829728</td>\n",
       "    </tr>\n",
       "    <tr>\n",
       "      <th>1</th>\n",
       "      <td>Reduce capacity</td>\n",
       "      <td>0.409302</td>\n",
       "      <td>828.039854</td>\n",
       "      <td>553.919344</td>\n",
       "    </tr>\n",
       "    <tr>\n",
       "      <th>2</th>\n",
       "      <td>Add weight regularization</td>\n",
       "      <td>0.466253</td>\n",
       "      <td>787.113715</td>\n",
       "      <td>514.379054</td>\n",
       "    </tr>\n",
       "    <tr>\n",
       "      <th>3</th>\n",
       "      <td>Add dropout</td>\n",
       "      <td>0.424146</td>\n",
       "      <td>817.570180</td>\n",
       "      <td>534.130084</td>\n",
       "    </tr>\n",
       "  </tbody>\n",
       "</table>\n",
       "</div>"
      ],
      "text/plain": [
       "                       Model  R-squared        RMSE         MAE\n",
       "0                   Baseline   0.466842  786.677189  510.829728\n",
       "1            Reduce capacity   0.409302  828.039854  553.919344\n",
       "2  Add weight regularization   0.466253  787.113715  514.379054\n",
       "3                Add dropout   0.424146  817.570180  534.130084"
      ]
     },
     "execution_count": 127,
     "metadata": {},
     "output_type": "execute_result"
    }
   ],
   "source": [
    "# combine all results into one dataframe\n",
    "keras_data = {\"Model\": [\"Baseline\", \"Reduce capacity\", \"Add weight regularization\", \"Add dropout\"], \n",
    "        \"R-squared\": [keras_r2, keras_r2_reduce, keras_r2_reg, keras_r2_dropout],           \n",
    "        \"RMSE\": [keras_rmse, keras_rmse_reduce, keras_rmse_reg, keras_rmse_dropout],\n",
    "        \"MAE\": [keras_mae, keras_mae_reduce, keras_mae_reg, keras_mae_dropout]}\n",
    "\n",
    "keras_results = pd.DataFrame(data=keras_data)\n",
    "keras_results"
   ]
  },
  {
   "cell_type": "markdown",
   "metadata": {},
   "source": [
    "We have tried three methods to prevent overfitting but the impact is no better than the baseline model. This shows the baseline model is already a well-trained model. The Test set RMSE of 786.68 is not significantly larger than the Train set RMSE of 741.02 (after 50 epochs), while the Test set MAE of 510.83 is also not significantly larger than the Train set MAE of 498.70. Therefore, the model results are acceptable. However, the model can most probably be improved by getting more training data. A model trained on more data will naturally generalize better.\n"
   ]
  },
  {
   "cell_type": "markdown",
   "metadata": {},
   "source": [
    "***\n",
    "# Model Evaluation\n",
    "In this section, we will put together the results from all four models and compare them side by side in order to evaluate their performance. The metrics that we use for evaluation are R-squared, Root Mean Squared Error (RMSE) and Mean Absolute Error (MAE).\n",
    "\n",
    "1. R-squared\n",
    " - coefficient of determination\n",
    " - goodness-of-fit indicator\n",
    " - summarizes the explanatory power of the regression model\n",
    " - higher values are better\n",
    "<br>\n",
    "<br>\n",
    "2. Root Mean Squared Error (RMSE)\n",
    " - square root of the average of squared differences between predictions and actual observations\n",
    " - lower values are better\n",
    "<br>\n",
    "<br>\n",
    "3.  Mean Absolute Error (MAE)\n",
    " - average of the absolute value of the difference between the forecasted values and the actual values\n",
    " - lower values are better\n",
    "<br>\n",
    "<br>\n",
    "\n",
    "Similarities\n",
    "- Both RMSE and MAE express average model prediction error in units of the variable of interest\n",
    "\n",
    "Differences\n",
    "- RMSE gives a relatively high weight to large errors which means it is more useful when large errors are particularly undesirable. It is also a more popular metric in the data science field. However, from an interpretation standpoint, MAE is the winner as it measures the average error and is thus easier to understand and interpret.\n",
    "\n",
    "Evaluation\n",
    "- Willmott and Matsuura (2005) have suggested that the RMSE is not a good indicator of average model performance and might be a misleading indicator of average error and thus the MAE would be a better metric for that purpose. Willmott et al. (2009) also concluded that sums-of-squares-based error statistics such as RMSE have inherent ambiguities and recommended the use of alternatives such as MAE. To determine the best model, we need to specify what \"best\" means. In this case, we want to use the model to predict rental prices, it is important that the model selected is the one that minimizes prediction error, and MAE provides a more intuitive indicator of average error of the predicted values, which is easy to understand and interpret."
   ]
  },
  {
   "cell_type": "code",
   "execution_count": 128,
   "metadata": {},
   "outputs": [
    {
     "data": {
      "text/html": [
       "<div>\n",
       "<style scoped>\n",
       "    .dataframe tbody tr th:only-of-type {\n",
       "        vertical-align: middle;\n",
       "    }\n",
       "\n",
       "    .dataframe tbody tr th {\n",
       "        vertical-align: top;\n",
       "    }\n",
       "\n",
       "    .dataframe thead th {\n",
       "        text-align: right;\n",
       "    }\n",
       "</style>\n",
       "<table border=\"1\" class=\"dataframe\">\n",
       "  <thead>\n",
       "    <tr style=\"text-align: right;\">\n",
       "      <th></th>\n",
       "      <th>Model</th>\n",
       "      <th>R-squared</th>\n",
       "      <th>RMSE</th>\n",
       "      <th>MAE</th>\n",
       "    </tr>\n",
       "  </thead>\n",
       "  <tbody>\n",
       "    <tr>\n",
       "      <th>0</th>\n",
       "      <td>Linear Regression</td>\n",
       "      <td>0.449633</td>\n",
       "      <td>799.272485</td>\n",
       "      <td>521.552484</td>\n",
       "    </tr>\n",
       "    <tr>\n",
       "      <th>1</th>\n",
       "      <td>Random Forest</td>\n",
       "      <td>0.779870</td>\n",
       "      <td>505.485708</td>\n",
       "      <td>268.528702</td>\n",
       "    </tr>\n",
       "    <tr>\n",
       "      <th>2</th>\n",
       "      <td>Gradient Boosting</td>\n",
       "      <td>0.791402</td>\n",
       "      <td>492.066459</td>\n",
       "      <td>253.519508</td>\n",
       "    </tr>\n",
       "    <tr>\n",
       "      <th>3</th>\n",
       "      <td>TF Keras</td>\n",
       "      <td>0.466842</td>\n",
       "      <td>786.677189</td>\n",
       "      <td>510.829728</td>\n",
       "    </tr>\n",
       "  </tbody>\n",
       "</table>\n",
       "</div>"
      ],
      "text/plain": [
       "               Model  R-squared        RMSE         MAE\n",
       "0  Linear Regression   0.449633  799.272485  521.552484\n",
       "1      Random Forest   0.779870  505.485708  268.528702\n",
       "2  Gradient Boosting   0.791402  492.066459  253.519508\n",
       "3           TF Keras   0.466842  786.677189  510.829728"
      ]
     },
     "execution_count": 128,
     "metadata": {},
     "output_type": "execute_result"
    }
   ],
   "source": [
    "# combine all models' results into one dataframe\n",
    "data = {\"Model\": [\"Linear Regression\", \"Random Forest\", \"Gradient Boosting\", \"TF Keras\"], \n",
    "        \"R-squared\": [lin_r2, forest_r2, gbr_r2, keras_r2],           \n",
    "        \"RMSE\": [lin_rmse, forest_rmse, gbr_rmse, keras_rmse],\n",
    "        \"MAE\": [lin_mae, forest_mae, gbr_mae, keras_mae]}\n",
    "\n",
    "results = pd.DataFrame(data=data)\n",
    "results"
   ]
  },
  {
   "cell_type": "code",
   "execution_count": 129,
   "metadata": {},
   "outputs": [
    {
     "data": {
      "image/png": "[encoded data removed]",
      "text/plain": [
       "<Figure size 864x1008 with 3 Axes>"
      ]
     },
     "metadata": {},
     "output_type": "display_data"
    }
   ],
   "source": [
    "# visualize the results using bar charts\n",
    "# sns.set(rc={\"figure.figsize\":(10, 12)})\n",
    "\n",
    "plt.rcParams[\"axes.labelsize\"] = 16\n",
    "plt.figure(figsize=(12, 14))\n",
    "\n",
    "plt.subplot(3, 1, 1)\n",
    "plt.title(\"Model Comparison in terms of R-squared, RMSE and MAE\", fontsize=16)\n",
    "g1 = sns.barplot(x=\"Model\", y=\"R-squared\", data=results)\n",
    "plt.ylim(0, 0.9)\n",
    "g1.set_xlabel(\"\")\n",
    "g1.tick_params(labelsize=14)\n",
    "for p in g1.patches:\n",
    "    height = p.get_height()\n",
    "    g1.text(p.get_x()+p.get_width()/2., height+0.01, \"{:1.2f}\".format(height), ha=\"center\", fontsize=14) \n",
    "\n",
    "plt.subplot(3, 1, 2)\n",
    "g2 = sns.barplot(x=\"Model\", y=\"RMSE\", data=results)\n",
    "plt.ylim(0, 900)\n",
    "g2.set_xlabel(\"\")\n",
    "g2.tick_params(labelsize=14)\n",
    "for p in g2.patches:\n",
    "    height = p.get_height()\n",
    "    g2.text(p.get_x()+p.get_width()/2., height+15, \"{:1.2f}\".format(height), ha=\"center\", fontsize=14) \n",
    "\n",
    "plt.subplot(3, 1, 3)\n",
    "g3 = sns.barplot(x=\"Model\", y=\"MAE\", data=results)\n",
    "plt.ylim(0, 600)\n",
    "g3.set_xlabel(\"\")\n",
    "g3.tick_params(labelsize=14)\n",
    "for p in g3.patches:\n",
    "    height = p.get_height()\n",
    "    g3.text(p.get_x()+p.get_width()/2., height+10, \"{:1.2f}\".format(height), ha=\"center\", fontsize=14) \n",
    "    \n",
    "plt.savefig(\"predict-rental-prices.png\")"
   ]
  },
  {
   "cell_type": "markdown",
   "metadata": {},
   "source": [
    "***\n",
    "# <a name=\"conclusion\">Discussion and Conclusion</a> #\n",
    "\n",
    "\n",
    "Based on the four models trained, the Gradient Boosting Regressor has the highest R-squared value of 0.7914 i.e. 79.14% of the variability in rental prices can be explained using the seven features i.e. BuiltUpSize, NoOfBathroom, NoOfBedroom, and NoOfParking, State, Furnishing, PropertyType. The top three most important features are BuiltUpSize, NoOfBedroom and NoOfParking. And the least important feature is PropertyType. The ranking of feature importances from most important to least important is: \"BuiltUpSize\", \"NoOfBedroom\", \"NoOfParking\", \"State\", \"Furnishing\", \"NoOfBathroom\", \"PropertyType\". Generally, the feature importances ranking conforms to conventional wisdom on property rental prices. For example, properties with larger \"BuiltUpSize\" and higher number of \"NoOfBedroom\" tend to command higher rental prices. Interestingly, \"NoOfParking\" actually rank higher in importance than \"State\", \"Furnishing\", \"NoOfBathroom\", \"PropertyType\" in predicting rental prices. This probably due to the lack of parking space in residental areas as most families nowadays own several cars, and thus properties with more parking lots tend to command higher rental prices. Another reason could be some property owners/investors rent their properties to multiple tenants for a single location i.e. rent by room, this increases the need for more parking lots. In such cases, properties with more/extra parking lots naturally attract more demand and thus command higher rental prices. This is a valuable finding that could benefit property investors in idenfitying properties to buy and rent out. It could also be an important factor for property owners when setting the rental prices based on this feature.\n",
    "\n",
    "Among all the models, Gradient Boosting Regressor also has the lowest RMSE and MAE values. Tensorflow with Keras Sequential Model only performed slightly better than linear regression but fall behind Gradient Boosting Regressor and Random Forest. This shows that there is no significant benefit of using sophisticated neural network in solving this rental prices prediction problem.  \n",
    "\n",
    "\n",
    "## Suggestions for Improvement\n",
    "- collect more data, include more states like Penang and other parts of Malaysia\n",
    "- select other features or conduct feature engineering on existing features\n",
    "- further fine tune the hyperparameters of the models\n",
    "\n",
    "In summary, this project shows how machine learning and deep learning can be used to solve real-life problem i.e. predict rental prices in Malaysia. It provides useful insights to property investors to help in their decision-making as to which property to purchase and rent out in order to maximize rental yield. If you have any feedback for this project, feel free to contact me via my [LinkedIn](https://www.linkedin.com/in/limchiahooi) or [GitHub Pages](https://limchiahooi.github.io)."
   ]
  },
  {
   "cell_type": "markdown",
   "metadata": {},
   "source": [
    "***\n",
    "### References\n",
    "- https://www.tensorflow.org/guide/keras\n",
    "- https://www.tensorflow.org/tutorials/keras/basic_regression\n",
    "- https://datascienceplus.com/linear-regression-in-python-predict-the-bay-areas-home-prices/\n",
    "- https://www.datacamp.com/community/tutorials/deep-learning-python\n",
    "- https://medium.com/human-in-a-machine-world/mae-and-rmse-which-metric-is-better-e60ac3bde13d\n",
    "- https://towardsdatascience.com/l1-and-l2-regularization-methods-ce25e7fc831c\n",
    "- https://www.tensorflow.org/tutorials/keras/overfit_and_underfit\n",
    "- https://stats.stackexchange.com/questions/77018/is-random-forest-a-boosting-algorithm\n",
    "- https://stats.stackexchange.com/questions/173390/gradient-boosting-tree-vs-random-forest"
   ]
  },
  {
   "cell_type": "code",
   "execution_count": null,
   "metadata": {},
   "outputs": [],
   "source": []
  }
 ],
 "metadata": {
  "kernelspec": {
   "display_name": "Python 3",
   "language": "python",
   "name": "python3"
  },
  "language_info": {
   "codemirror_mode": {
    "name": "ipython",
    "version": 3
   },
   "file_extension": ".py",
   "mimetype": "text/x-python",
   "name": "python",
   "nbconvert_exporter": "python",
   "pygments_lexer": "ipython3",
   "version": "3.6.4"
  }
 },
 "nbformat": 4,
 "nbformat_minor": 2
}
